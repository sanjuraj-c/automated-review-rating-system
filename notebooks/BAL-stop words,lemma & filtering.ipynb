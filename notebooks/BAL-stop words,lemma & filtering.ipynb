{
 "cells": [
  {
   "cell_type": "markdown",
   "id": "b2aafb35-04ca-4c41-b246-7351629995c5",
   "metadata": {},
   "source": [
    "1.stop word removal"
   ]
  },
  {
   "cell_type": "code",
   "execution_count": 1,
   "id": "afb9a6df-3488-44dd-bd4a-16a190f94536",
   "metadata": {},
   "outputs": [
    {
     "name": "stderr",
     "output_type": "stream",
     "text": [
      "[nltk_data] Downloading package stopwords to\n",
      "[nltk_data]     C:\\Users\\User\\AppData\\Roaming\\nltk_data...\n",
      "[nltk_data]   Package stopwords is already up-to-date!\n"
     ]
    }
   ],
   "source": [
    "#install & import required libraries\n",
    "import nltk\n",
    "nltk.download('stopwords')\n",
    "\n",
    "from nltk.corpus import stopwords\n",
    "import string"
   ]
  },
  {
   "cell_type": "code",
   "execution_count": 2,
   "id": "75da638d-a60c-449e-bb9a-624df0439f3e",
   "metadata": {},
   "outputs": [],
   "source": [
    "#defining stopword removal function\n",
    "stop_words = set(stopwords.words('english'))\n",
    "punctuations = string.punctuation\n",
    "\n",
    "def remove_stopwords(text):\n",
    "    # Lowercase\n",
    "    text = text.lower()\n",
    "    # Remove punctuation\n",
    "    text = ''.join([char for char in text if char not in punctuations])\n",
    "    # Tokenize and remove stopwords\n",
    "    words = text.split()\n",
    "    filtered = [word for word in words if word not in stop_words]\n",
    "    return ' '.join(filtered)"
   ]
  },
  {
   "cell_type": "code",
   "execution_count": 3,
   "id": "6f0ecda1-a2ba-4c10-a69b-68bf126c343c",
   "metadata": {},
   "outputs": [],
   "source": [
    "#load balanced data\n",
    "import pandas as pd\n",
    "df=pd.read_csv('balanced_data_1.csv')"
   ]
  },
  {
   "cell_type": "code",
   "execution_count": null,
   "id": "6e6ee893-5a33-43de-b8cb-a435ade47622",
   "metadata": {},
   "outputs": [],
   "source": []
  },
  {
   "cell_type": "code",
   "execution_count": 4,
   "id": "4b6f433d-f6de-4362-bdf5-82341a94eede",
   "metadata": {},
   "outputs": [
    {
     "data": {
      "text/html": [
       "<div>\n",
       "<style scoped>\n",
       "    .dataframe tbody tr th:only-of-type {\n",
       "        vertical-align: middle;\n",
       "    }\n",
       "\n",
       "    .dataframe tbody tr th {\n",
       "        vertical-align: top;\n",
       "    }\n",
       "\n",
       "    .dataframe thead th {\n",
       "        text-align: right;\n",
       "    }\n",
       "</style>\n",
       "<table border=\"1\" class=\"dataframe\">\n",
       "  <thead>\n",
       "    <tr style=\"text-align: right;\">\n",
       "      <th></th>\n",
       "      <th>Unnamed: 0</th>\n",
       "      <th>Rating</th>\n",
       "      <th>Review</th>\n",
       "    </tr>\n",
       "  </thead>\n",
       "  <tbody>\n",
       "    <tr>\n",
       "      <th>0</th>\n",
       "      <td>0</td>\n",
       "      <td>4.0</td>\n",
       "      <td>its been a great entry point for our family in...</td>\n",
       "    </tr>\n",
       "    <tr>\n",
       "      <th>1</th>\n",
       "      <td>1</td>\n",
       "      <td>3.0</td>\n",
       "      <td>it is great to be able to connect to my larger...</td>\n",
       "    </tr>\n",
       "    <tr>\n",
       "      <th>2</th>\n",
       "      <td>2</td>\n",
       "      <td>5.0</td>\n",
       "      <td>there is nothing to complain about this product</td>\n",
       "    </tr>\n",
       "    <tr>\n",
       "      <th>3</th>\n",
       "      <td>3</td>\n",
       "      <td>1.0</td>\n",
       "      <td>i bought two of the gb sandisk ultra microsdhc...</td>\n",
       "    </tr>\n",
       "    <tr>\n",
       "      <th>4</th>\n",
       "      <td>4</td>\n",
       "      <td>2.0</td>\n",
       "      <td>terrible sound quality i dont have much idea a...</td>\n",
       "    </tr>\n",
       "  </tbody>\n",
       "</table>\n",
       "</div>"
      ],
      "text/plain": [
       "   Unnamed: 0  Rating                                             Review\n",
       "0           0     4.0  its been a great entry point for our family in...\n",
       "1           1     3.0  it is great to be able to connect to my larger...\n",
       "2           2     5.0    there is nothing to complain about this product\n",
       "3           3     1.0  i bought two of the gb sandisk ultra microsdhc...\n",
       "4           4     2.0  terrible sound quality i dont have much idea a..."
      ]
     },
     "execution_count": 4,
     "metadata": {},
     "output_type": "execute_result"
    }
   ],
   "source": [
    "#view\n",
    "df.head()"
   ]
  },
  {
   "cell_type": "code",
   "execution_count": 5,
   "id": "9f6e4cb2-50b5-4dc3-8905-098c679523b4",
   "metadata": {},
   "outputs": [],
   "source": [
    "#apply function to balanced data\n",
    "df['Review'] = df['Review'].astype(str).apply(remove_stopwords)"
   ]
  },
  {
   "cell_type": "code",
   "execution_count": 6,
   "id": "9bc893e4-d8de-4284-aa6a-ed20f3378026",
   "metadata": {},
   "outputs": [
    {
     "data": {
      "text/plain": [
       "0    great entry point family echo learning use ent...\n",
       "1    great able connect larger echo alexa functiona...\n",
       "2                             nothing complain product\n",
       "3    bought two gb sandisk ultra microsdhc cards un...\n",
       "4    terrible sound quality dont much idea songs ed...\n",
       "Name: Review, dtype: object"
      ]
     },
     "execution_count": 6,
     "metadata": {},
     "output_type": "execute_result"
    }
   ],
   "source": [
    "#view\n",
    "df['Review'].head()"
   ]
  },
  {
   "cell_type": "code",
   "execution_count": 7,
   "id": "9ad5c6f2-e768-44c1-980f-0ef53593a765",
   "metadata": {},
   "outputs": [
    {
     "name": "stdout",
     "output_type": "stream",
     "text": [
      "Sample Stop Words:\n",
      "['for', 'itself', 'but', 'now', 'of', 'where', 'on', 'nor', 'above', \"wasn't\", 'yours', \"mightn't\", 'she', 'shouldn', 'doing', 'own', 'the', 'ain', 'didn', 'me']\n"
     ]
    }
   ],
   "source": [
    "#print sample stop words\n",
    "from nltk.corpus import stopwords\n",
    "\n",
    "# Load English stopwords\n",
    "stop_words = set(stopwords.words('english'))\n",
    "\n",
    "# Print first 20 stopwords\n",
    "print(\"Sample Stop Words:\")\n",
    "print(list(stop_words)[:20])"
   ]
  },
  {
   "cell_type": "markdown",
   "id": "496e88d6-9444-447f-82f8-0147469f59c2",
   "metadata": {},
   "source": [
    "2.Lemmatization"
   ]
  },
  {
   "cell_type": "code",
   "execution_count": 8,
   "id": "cf229403-23b6-4de6-8acb-5c02beeb03e1",
   "metadata": {},
   "outputs": [
    {
     "name": "stderr",
     "output_type": "stream",
     "text": [
      "[nltk_data] Downloading package wordnet to\n",
      "[nltk_data]     C:\\Users\\User\\AppData\\Roaming\\nltk_data...\n",
      "[nltk_data]   Package wordnet is already up-to-date!\n",
      "[nltk_data] Downloading package omw-1.4 to\n",
      "[nltk_data]     C:\\Users\\User\\AppData\\Roaming\\nltk_data...\n",
      "[nltk_data]   Package omw-1.4 is already up-to-date!\n"
     ]
    }
   ],
   "source": [
    "#required libraries\n",
    "import nltk\n",
    "nltk.download('wordnet')\n",
    "nltk.download('omw-1.4')\n",
    "\n",
    "from nltk.stem import WordNetLemmatizer"
   ]
  },
  {
   "cell_type": "code",
   "execution_count": 9,
   "id": "f9cfa5bc-c7ce-4517-8641-9454eef8cc57",
   "metadata": {},
   "outputs": [],
   "source": [
    "#defining lemmatization function\n",
    "lemmatizer = WordNetLemmatizer()\n",
    "\n",
    "def lemmatize_text(text):\n",
    "    words = text.split()\n",
    "    lemmatized = [lemmatizer.lemmatize(word) for word in words]\n",
    "    return ' '.join(lemmatized)"
   ]
  },
  {
   "cell_type": "code",
   "execution_count": 10,
   "id": "0c7b1f21-22d3-4ff7-855b-8c1bb84fe890",
   "metadata": {},
   "outputs": [],
   "source": [
    "#apply function on balanced data\n",
    "df['Review'] = df['Review'].apply(lemmatize_text)"
   ]
  },
  {
   "cell_type": "code",
   "execution_count": 11,
   "id": "51d5677f-93e9-431c-83a9-98bcef966c23",
   "metadata": {},
   "outputs": [
    {
     "data": {
      "text/plain": [
       "0    great entry point family echo learning use ent...\n",
       "1    great able connect larger echo alexa functiona...\n",
       "2                             nothing complain product\n",
       "3    bought two gb sandisk ultra microsdhc card unu...\n",
       "4    terrible sound quality dont much idea song edm...\n",
       "Name: Review, dtype: object"
      ]
     },
     "execution_count": 11,
     "metadata": {},
     "output_type": "execute_result"
    }
   ],
   "source": [
    "#view\n",
    "df['Review'].head()"
   ]
  },
  {
   "cell_type": "markdown",
   "id": "0684b696-e3b7-4ebc-9ec4-9926bb8a97ca",
   "metadata": {},
   "source": [
    "3.Filter out short and long reviews"
   ]
  },
  {
   "cell_type": "code",
   "execution_count": 12,
   "id": "fba7d3e2-bf4e-4c4d-a945-7a51e2559049",
   "metadata": {},
   "outputs": [
    {
     "name": "stdout",
     "output_type": "stream",
     "text": [
      "Reviews with fewer than 3 words: 1014\n",
      "Reviews with more than 100 words: 47\n"
     ]
    }
   ],
   "source": [
    "# Count reviews with fewer than 3 words\n",
    "short_reviews_count = df['Review'].apply(lambda x: len(x.split()) < 3).sum()\n",
    "\n",
    "# Count reviews with more than 100 words (or any threshold you prefer)\n",
    "long_reviews_count = df['Review'].apply(lambda x: len(x.split()) > 200).sum()\n",
    "\n",
    "print(f\"Reviews with fewer than 3 words: {short_reviews_count}\")\n",
    "print(f\"Reviews with more than 100 words: {long_reviews_count}\")"
   ]
  },
  {
   "cell_type": "code",
   "execution_count": 13,
   "id": "cf7d51a8-6008-41bc-852a-ec28a19e2211",
   "metadata": {},
   "outputs": [],
   "source": [
    "# Keep only reviews that have word count between 3 and 200\n",
    "filtered_df = df[df['Review'].apply(lambda x: 3 <= len(x.split()) <= 200)].reset_index(drop=True)"
   ]
  },
  {
   "cell_type": "code",
   "execution_count": 14,
   "id": "97dcf7f4-b421-44a3-b4fb-58b5435e0331",
   "metadata": {},
   "outputs": [
    {
     "data": {
      "text/plain": [
       "Rating\n",
       "1.0    2752\n",
       "2.0    2815\n",
       "3.0    2804\n",
       "4.0    2773\n",
       "5.0    2724\n",
       "Name: count, dtype: int64"
      ]
     },
     "execution_count": 14,
     "metadata": {},
     "output_type": "execute_result"
    }
   ],
   "source": [
    "#rating class distribution\n",
    "filtered_df['Rating'].value_counts().sort_index()"
   ]
  },
  {
   "cell_type": "code",
   "execution_count": 15,
   "id": "9e2bc1fd-8dfc-43d3-b13d-b361e50a7bef",
   "metadata": {},
   "outputs": [
    {
     "data": {
      "text/plain": [
       "Unnamed: 0    0\n",
       "Rating        0\n",
       "Review        0\n",
       "dtype: int64"
      ]
     },
     "execution_count": 15,
     "metadata": {},
     "output_type": "execute_result"
    }
   ],
   "source": [
    "#check nulls\n",
    "filtered_df.isnull().sum()"
   ]
  },
  {
   "cell_type": "code",
   "execution_count": 16,
   "id": "e6218a01-ce6b-4aee-aeec-fe71e15a46a7",
   "metadata": {},
   "outputs": [
    {
     "data": {
      "text/plain": [
       "np.int64(0)"
      ]
     },
     "execution_count": 16,
     "metadata": {},
     "output_type": "execute_result"
    }
   ],
   "source": [
    "#check duplicates\n",
    "filtered_df.duplicated().sum()"
   ]
  },
  {
   "cell_type": "code",
   "execution_count": 17,
   "id": "d335bcee-95a3-47ff-91ae-6a09f57d034f",
   "metadata": {},
   "outputs": [],
   "source": [
    "#remove duplicate\n",
    "filtered_df.drop_duplicates(inplace=True)"
   ]
  },
  {
   "cell_type": "code",
   "execution_count": 18,
   "id": "a4a548e3-3638-4d6f-8799-2004820ef39b",
   "metadata": {},
   "outputs": [
    {
     "name": "stderr",
     "output_type": "stream",
     "text": [
      "C:\\Users\\User\\AppData\\Local\\Temp\\ipykernel_41080\\980095825.py:8: FutureWarning: DataFrameGroupBy.apply operated on the grouping columns. This behavior is deprecated, and in a future version of pandas the grouping columns will be excluded from the operation. Either pass `include_groups=False` to exclude the groupings or explicitly select the grouping columns after groupby to silence this warning.\n",
      "  .apply(lambda x: x.sample(n=target_count, random_state=42))\n"
     ]
    }
   ],
   "source": [
    "#balancing it after filtering\n",
    "# Define target size\n",
    "target_count = 2700\n",
    "\n",
    "# Downsample each class\n",
    "balanced_df_final = (\n",
    "    filtered_df.groupby('Rating')\n",
    "    .apply(lambda x: x.sample(n=target_count, random_state=42))\n",
    "    .reset_index(drop=True)\n",
    ")"
   ]
  },
  {
   "cell_type": "code",
   "execution_count": 19,
   "id": "027f185e-d022-4567-ae39-3ee3dae02512",
   "metadata": {},
   "outputs": [
    {
     "data": {
      "text/html": [
       "<div>\n",
       "<style scoped>\n",
       "    .dataframe tbody tr th:only-of-type {\n",
       "        vertical-align: middle;\n",
       "    }\n",
       "\n",
       "    .dataframe tbody tr th {\n",
       "        vertical-align: top;\n",
       "    }\n",
       "\n",
       "    .dataframe thead th {\n",
       "        text-align: right;\n",
       "    }\n",
       "</style>\n",
       "<table border=\"1\" class=\"dataframe\">\n",
       "  <thead>\n",
       "    <tr style=\"text-align: right;\">\n",
       "      <th></th>\n",
       "      <th>Unnamed: 0</th>\n",
       "      <th>Rating</th>\n",
       "      <th>Review</th>\n",
       "    </tr>\n",
       "  </thead>\n",
       "  <tbody>\n",
       "    <tr>\n",
       "      <th>0</th>\n",
       "      <td>7345</td>\n",
       "      <td>1.0</td>\n",
       "      <td>old product received manufactureree november i...</td>\n",
       "    </tr>\n",
       "    <tr>\n",
       "      <th>1</th>\n",
       "      <td>2635</td>\n",
       "      <td>1.0</td>\n",
       "      <td>cant ask alexa send text make call unless pers...</td>\n",
       "    </tr>\n",
       "    <tr>\n",
       "      <th>2</th>\n",
       "      <td>2188</td>\n",
       "      <td>1.0</td>\n",
       "      <td>battery performance per standard mentioned</td>\n",
       "    </tr>\n",
       "    <tr>\n",
       "      <th>3</th>\n",
       "      <td>1924</td>\n",
       "      <td>1.0</td>\n",
       "      <td>software problem dont buy mobile</td>\n",
       "    </tr>\n",
       "    <tr>\n",
       "      <th>4</th>\n",
       "      <td>13948</td>\n",
       "      <td>1.0</td>\n",
       "      <td>worst product send amazon</td>\n",
       "    </tr>\n",
       "  </tbody>\n",
       "</table>\n",
       "</div>"
      ],
      "text/plain": [
       "   Unnamed: 0  Rating                                             Review\n",
       "0        7345     1.0  old product received manufactureree november i...\n",
       "1        2635     1.0  cant ask alexa send text make call unless pers...\n",
       "2        2188     1.0         battery performance per standard mentioned\n",
       "3        1924     1.0                   software problem dont buy mobile\n",
       "4       13948     1.0                          worst product send amazon"
      ]
     },
     "execution_count": 19,
     "metadata": {},
     "output_type": "execute_result"
    }
   ],
   "source": [
    "#view\n",
    "balanced_df_final.head()"
   ]
  },
  {
   "cell_type": "code",
   "execution_count": 21,
   "id": "f4f70968-1b57-4369-a7c9-384032c140db",
   "metadata": {},
   "outputs": [],
   "source": [
    "balanced_df_final.drop(['Unnamed: 0'],axis=1,inplace=True)"
   ]
  },
  {
   "cell_type": "markdown",
   "id": "240a9274-e8d1-4af3-8ed8-90bb5083a6e4",
   "metadata": {},
   "source": [
    "4.Visualizations"
   ]
  },
  {
   "cell_type": "code",
   "execution_count": 22,
   "id": "b538680e-5e63-4a10-9b5c-414375eddb34",
   "metadata": {},
   "outputs": [
    {
     "data": {
      "image/png": "[encoded data removed]",
      "text/plain": [
       "<Figure size 640x480 with 1 Axes>"
      ]
     },
     "metadata": {},
     "output_type": "display_data"
    }
   ],
   "source": [
    "import matplotlib.pyplot as plt\n",
    "#histogram of rating\n",
    "plt.hist(balanced_df_final['Rating'],bins=30)\n",
    "plt.title('Histogram-Ratings')\n",
    "plt.show()"
   ]
  },
  {
   "cell_type": "code",
   "execution_count": 23,
   "id": "90e0ff15-f9ac-4bb9-99bd-2eec9f19356c",
   "metadata": {},
   "outputs": [
    {
     "data": {
      "image/png": "[encoded data removed]",
      "text/plain": [
       "<Figure size 640x480 with 1 Axes>"
      ]
     },
     "metadata": {},
     "output_type": "display_data"
    }
   ],
   "source": [
    "import seaborn as sns\n",
    "#Count plot (for categorical data)\n",
    "sns.countplot(x='Rating', data=balanced_df_final)\n",
    "plt.title(\"Rating Class Count\")\n",
    "plt.show()"
   ]
  },
  {
   "cell_type": "markdown",
   "id": "171efb86-873e-4110-8dd0-e1aa23c4a19b",
   "metadata": {},
   "source": [
    "5.shuffle data"
   ]
  },
  {
   "cell_type": "code",
   "execution_count": 24,
   "id": "2813c8ee-ab9e-45c6-ad97-e824ad8812fd",
   "metadata": {},
   "outputs": [],
   "source": [
    "# Shuffle the balanced data\n",
    "balanced_df_final = balanced_df_final.sample(frac=1, random_state=42).reset_index(drop=True)"
   ]
  },
  {
   "cell_type": "code",
   "execution_count": 25,
   "id": "a946ba72-2da6-4d09-8eea-91871bb2bf0e",
   "metadata": {},
   "outputs": [
    {
     "data": {
      "text/html": [
       "<div>\n",
       "<style scoped>\n",
       "    .dataframe tbody tr th:only-of-type {\n",
       "        vertical-align: middle;\n",
       "    }\n",
       "\n",
       "    .dataframe tbody tr th {\n",
       "        vertical-align: top;\n",
       "    }\n",
       "\n",
       "    .dataframe thead th {\n",
       "        text-align: right;\n",
       "    }\n",
       "</style>\n",
       "<table border=\"1\" class=\"dataframe\">\n",
       "  <thead>\n",
       "    <tr style=\"text-align: right;\">\n",
       "      <th></th>\n",
       "      <th>Rating</th>\n",
       "      <th>Review</th>\n",
       "    </tr>\n",
       "  </thead>\n",
       "  <tbody>\n",
       "    <tr>\n",
       "      <th>0</th>\n",
       "      <td>1.0</td>\n",
       "      <td>saw photo young woman wearing dress review loo...</td>\n",
       "    </tr>\n",
       "    <tr>\n",
       "      <th>1</th>\n",
       "      <td>5.0</td>\n",
       "      <td>discount little speaker thump effect goodvolum...</td>\n",
       "    </tr>\n",
       "    <tr>\n",
       "      <th>2</th>\n",
       "      <td>1.0</td>\n",
       "      <td>doesnt anything seems worthless</td>\n",
       "    </tr>\n",
       "    <tr>\n",
       "      <th>3</th>\n",
       "      <td>3.0</td>\n",
       "      <td>athletic build excited dress arrive removed pa...</td>\n",
       "    </tr>\n",
       "    <tr>\n",
       "      <th>4</th>\n",
       "      <td>5.0</td>\n",
       "      <td>high quality material appropriate like feeling...</td>\n",
       "    </tr>\n",
       "  </tbody>\n",
       "</table>\n",
       "</div>"
      ],
      "text/plain": [
       "   Rating                                             Review\n",
       "0     1.0  saw photo young woman wearing dress review loo...\n",
       "1     5.0  discount little speaker thump effect goodvolum...\n",
       "2     1.0                    doesnt anything seems worthless\n",
       "3     3.0  athletic build excited dress arrive removed pa...\n",
       "4     5.0  high quality material appropriate like feeling..."
      ]
     },
     "execution_count": 25,
     "metadata": {},
     "output_type": "execute_result"
    }
   ],
   "source": [
    "#view\n",
    "balanced_df_final.head()"
   ]
  },
  {
   "cell_type": "markdown",
   "id": "d700c3d5-3c01-4420-8110-cc79731f9da5",
   "metadata": {},
   "source": [
    "Print Min/Max Review Length and Counts"
   ]
  },
  {
   "cell_type": "code",
   "execution_count": 26,
   "id": "0b2ace62-76e2-4143-8445-a6ff535d86f5",
   "metadata": {},
   "outputs": [
    {
     "name": "stdout",
     "output_type": "stream",
     "text": [
      "\n",
      "🔹 Rating: 1\n",
      "  • Min review length: 3 words (Count: 175)\n",
      "    Sample: dont buy thisworst\n",
      "  • Max review length: 199 words (Count: 1)\n",
      "    Sample: hey guy ordered samsung m sep arrived next day couldnt use mobile day getting due traveled village wont get wifi network properly kept box started using day trust guy honest feedback using day mobile lot network issue im able call anyone kept flight mode twice refresh network unable call later restarted mobile tried call didnt work issue faced short span time usage st day mobile got hanged couple second installing apps mobile responding quickly waste gb ram call meanwhile got call whatsapp automatically speaker turned able turn continued call till end speaker started talking whatsapp sometime able turned speaker kept disturb mode sometime got missed call notification tried call back turning disturb mode able call number giving beep sound second later sound getting disconnected automatically im mood hit mobile ground im gamer dont take pic much normal usage purpose bought mobile previously used redmi note mobile want change mobile bought worst one im regrettingredmi far better samsung bought mobile brand dont confidence samsung dont feel regret buying better buy one instead wasting money scarp use battery screen ram camera able call person need negative rating would given totally disappointed product plan talk amazon return ive crossed day return product\n",
      "\n",
      "🔹 Rating: 2\n",
      "  • Min review length: 3 words (Count: 119)\n",
      "    Sample: sound low hai\n",
      "  • Max review length: 183 words (Count: 1)\n",
      "    Sample: given card october add new samsung galaxy thrilled copied ton music onto card used phone mobile ipod substitute leaving ipod classic desktop speaker system cradleeverything worked fine couple week ago started getting message seemed say removed inserted memory card course hadnt touched day ago phone told card contained unsupported file needed reformat well tried reformatting nothing nothing pulled memory card reset phone reinserted card nothing tried card adapter computer wasnt even visiblei called sandisk tech support didnt take terribly long convince problem quickly offered two gb card replacement literally laughed got disturbing sense something required try thats lousy business practice bouncing around time agreed send rma shipping label duly sent card couple day ago frank idea might receive replacementif werent already grip sandisk would buy another card fact comment negative indication real quality control problem fail rate simply unacceptable product thisupdate well give sandisk credit customer support returned card using supplied ups label tuesday received replacement ups following monday thats good service however increase suspicion offer two gb gb card stock stock sure got stock big hurry event ive upped rating two star\n",
      "\n",
      "🔹 Rating: 3\n",
      "  • Min review length: 3 words (Count: 101)\n",
      "    Sample: front camera expectation\n",
      "  • Max review length: 177 words (Count: 1)\n",
      "    Sample: wrote con theyre way important little pro phone month usage con software buggy supposed maintained xiaomi thing care ad filled miui every update solve minute bug create major bug may update bugged video recording even able record video also may june update brought extreme stuttering freezing point phone restarts servicing im keeping march update headphone jack youll lose connecter eventually memory card slot camera went awry week back got serviced battery suck literally watch tumble browse bad month approx hr screen time light usage absolutely heavy game pro stock android light fluid really bind google apps ui practically cartoonish like uis sd really complement doubt ill ever like ui camera beast color natural unnecessary oversaturation done funfact mp camera waaaay superior mp sensor almost normal condition even daylight even though called low light camera yet manual mode us secondary mp lens manual mode honestly doesnt much software trickery like normal mode better shot yet mp secondary mp primary tf build quality really good metal back glass back doesnt break solid conclusion k k perfect compromise k worth\n",
      "\n",
      "🔹 Rating: 4\n",
      "  • Min review length: 3 words (Count: 133)\n",
      "    Sample: good small size\n",
      "  • Max review length: 192 words (Count: 1)\n",
      "    Sample: mi doesnt look like predecessor thats good thing bit stretch access notification panel using phone onehanded great size even though getting amoled panel p resolution good enough device segment camera bump back sensor protruding slightly body lead wobble using device flat surface tends get annoying indisplay fingerprint reader slow unreliable worth effort consider lowresolution screen large battery modern soc difficult see mi offer good battery life easily got full day usage phone using mostly browsing social medium watching youtube video mi fantastic job daylight condition excellent contrast level wide dynamic range accurate color wideangle lens doesnt good job resultant image decent enough sharing social medium platform photo taken lowlight condition arent detailed enough there lot noise using dedicated night mode fix issue extent camera overall pretty decent considering much mi cost best part mi undoubtedly software like every android one device mi clean user interface bloat ware positive android one goodness premium design decent camera fantastic battery life mm jack back negative indisplay fingerprint sensor terrible lowresolution display mi decent showing youre looking budget android one device plenty phone market around price point come feature added latest photo clicked day use mi\n",
      "\n",
      "🔹 Rating: 5\n",
      "  • Min review length: 3 words (Count: 162)\n",
      "    Sample: feeling contented purchase\n",
      "  • Max review length: 191 words (Count: 1)\n",
      "    Sample: maybe th personal power bank used anker adata plantronics ambrane intex generic one iwalk promise much keeping price tag low end losing genuine quality assured performance mi power bank get promised one difference noticed power bank mostly charged needed charged used day safely say great capacity holding charge phone device charge plus iphone fitbit blaze week amazon fire tv dont power plug plug fast charge yes fast charge plus mean save time hassle connecting wall charger yes wall charger still little faster wall charger us charging us charging think major positive used charge two device good news time used device seen reduction performance quality keep power going seems able support fast charging one giving consistent charge slot often charge maybe week maximum twice week charge macbook tried use one hour add macbook pro touchbar worth long last let say charge phone maybe time total giving get one phone dy easily get keep charged suggest charge till disconnect two phone good device long take charge never measured accompanied cable samsung fast charger adapter charge hour bad plug overnight drawback mi chinese company feel little bad using product good forgive political inference thanks\n"
     ]
    }
   ],
   "source": [
    "for rating in sorted(balanced_df_final['Rating'].unique()):\n",
    "    # Filter data by rating\n",
    "    subset = balanced_df_final[balanced_df_final['Rating'] == rating]\n",
    "    \n",
    "    # Compute review lengths (word count)\n",
    "    lengths = subset['Review'].apply(lambda x: len(x.split()))\n",
    "    \n",
    "    min_len = lengths.min()\n",
    "    max_len = lengths.max()\n",
    "    \n",
    "    min_count = (lengths == min_len).sum()\n",
    "    max_count = (lengths == max_len).sum()\n",
    "    \n",
    "    min_sample = subset[lengths == min_len].iloc[0]['Review']\n",
    "    max_sample = subset[lengths == max_len].iloc[0]['Review']\n",
    "    \n",
    "    print(f\"\\n🔹 Rating: {int(rating)}\")\n",
    "    print(f\"  • Min review length: {min_len} words (Count: {min_count})\")\n",
    "    print(f\"    Sample: {min_sample}\")\n",
    "    print(f\"  • Max review length: {max_len} words (Count: {max_count})\")\n",
    "    print(f\"    Sample: {max_sample}\")\n"
   ]
  },
  {
   "cell_type": "markdown",
   "id": "07c36844-ed58-4f57-8501-cb5ea324d582",
   "metadata": {},
   "source": [
    "6.display sample reviews per rating"
   ]
  },
  {
   "cell_type": "code",
   "execution_count": 27,
   "id": "b4abd65c-2859-4ede-89d6-1abce6ebf63a",
   "metadata": {},
   "outputs": [
    {
     "name": "stdout",
     "output_type": "stream",
     "text": [
      "\n",
      " Rating: 1\n",
      "1. poor camera build quality extremely disappointed\n",
      "\n",
      "2. dont waste money another device already listen music one device time account course warning purchasing less useful hockey puck\n",
      "\n",
      "3. cheapest quality paper useddont even think buy ithalf word visible\n",
      "\n",
      "\n",
      " Rating: 2\n",
      "1. hard time getting work keep getting dont know lot\n",
      "\n",
      "2. kindly read carefully going purchase galaxy first big problem phone network issue heating problem battery back also expected equal mah compare mobile camera quality also good weak pixel quality processor also old working slow legging slow finger print sensor one thing good get proper notification voice quality also good annoying worst product samsung faith samsung type phone expected samsung cant compare phone brand r want return phone option refund purchasing replace cant get refund\n",
      "\n",
      "3. although nothhing wrong speaker everything seems working fine gave star sound quality sound quality important come speaker speaker loud turning volume way still produce half sound quality lg bluetooth speaker would beneficial small room think speaker going adequate jam session sadly dissappinted feature voice command plus though although google bluetooth investigated purchasing\n",
      "\n",
      "\n",
      " Rating: 3\n",
      "1. found broken inside box\n",
      "\n",
      "2. page less according content page actual page\n",
      "\n",
      "3. shirt pretty color excited get however felt like fit flattering sort hung didnt much actually ended returning\n",
      "\n",
      "\n",
      " Rating: 4\n",
      "1. good mobile compare mi good internet connectivity connection like sim wifi sabse sastha sabse achhchha product redmi\n",
      "\n",
      "2. love anna suis line makeup everything dress beautiful usual sort way trying couldnt see anything spectacular made unique special somehow elastic waist make dress forgiving run big hem lovely scalloped detail nice put together dress wow justifies full price tag sale ill keep probably summer\n",
      "\n",
      "3. battery seve lifetime\n",
      "\n",
      "\n",
      " Rating: 5\n",
      "1. really love watch earlier got fossil gen smartwatch unhappy experience mean battery would hardly last day compared experience samsung watch good enough battery life also liked rotatable bezel watch initially bit uncomfortable day two preferred use bezel build look watch elegant overall satisfactory experience watch\n",
      "\n",
      "2. comfortable well made great legging skinny jean\n",
      "\n",
      "3. gathered jersey dress beautiful flow right place however run large normally wear small many retailer dress however ordered x petite dress based review im glad fit perfectly dress flattering bustand rest dress hang flow nicely dressed statement jewelry depending occasion im happy purchase much bought one\n",
      "\n"
     ]
    }
   ],
   "source": [
    "for rating in sorted(balanced_df_final['Rating'].unique()):\n",
    "    print(f\"\\n Rating: {int(rating)}\")\n",
    "    samples = balanced_df_final[balanced_df_final['Rating'] == rating].sample(3, random_state=42)\n",
    "    for i, review in enumerate(samples['Review'].values, 1):\n",
    "        print(f\"{i}. {review}\\n\")"
   ]
  },
  {
   "cell_type": "markdown",
   "id": "6ee6edcb-b37b-45e7-9142-431abe0f5839",
   "metadata": {},
   "source": [
    "7.Train-test-split"
   ]
  },
  {
   "cell_type": "code",
   "execution_count": 28,
   "id": "51c46c83-e130-4a89-a29c-ba989a209e7e",
   "metadata": {},
   "outputs": [],
   "source": [
    "from sklearn.model_selection import train_test_split\n",
    "\n",
    "# Features and labels\n",
    "X = balanced_df_final['Review']\n",
    "y = balanced_df_final['Rating']\n",
    "\n",
    "# Train-test split (80% train, 20% test)\n",
    "X_train, X_test, y_train, y_test = train_test_split(X, y, test_size=0.2, stratify=y, random_state=42)"
   ]
  },
  {
   "cell_type": "markdown",
   "id": "94eac840-5c31-45ae-97b0-1e01c4f8258b",
   "metadata": {},
   "source": [
    "TF-IDF vectorization"
   ]
  },
  {
   "cell_type": "code",
   "execution_count": 29,
   "id": "8a3f1c53-2303-4de8-b699-54084c6a9f47",
   "metadata": {},
   "outputs": [],
   "source": [
    "from sklearn.feature_extraction.text import TfidfVectorizer\n",
    "\n",
    "# Initialize TF-IDF vectorizer\n",
    "tfidf = TfidfVectorizer(max_features=5000)  # or use None for all features\n",
    "\n",
    "# Fit on training data and transform both train and test\n",
    "X_train_tfidf = tfidf.fit_transform(X_train)\n",
    "X_test_tfidf = tfidf.transform(X_test)"
   ]
  },
  {
   "cell_type": "code",
   "execution_count": null,
   "id": "3e8c899d-a9c3-455b-9896-027b3f1cb136",
   "metadata": {},
   "outputs": [],
   "source": []
  }
 ],
 "metadata": {
  "kernelspec": {
   "display_name": "Python 3 (ipykernel)",
   "language": "python",
   "name": "python3"
  },
  "language_info": {
   "codemirror_mode": {
    "name": "ipython",
    "version": 3
   },
   "file_extension": ".py",
   "mimetype": "text/x-python",
   "name": "python",
   "nbconvert_exporter": "python",
   "pygments_lexer": "ipython3",
   "version": "3.13.2"
  }
 },
 "nbformat": 4,
 "nbformat_minor": 5
}
