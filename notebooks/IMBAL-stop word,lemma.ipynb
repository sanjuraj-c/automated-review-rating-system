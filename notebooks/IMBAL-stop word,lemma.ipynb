{
 "cells": [
  {
   "cell_type": "code",
   "execution_count": 1,
   "id": "29a1b18d-04d4-486f-a073-3924db501290",
   "metadata": {},
   "outputs": [],
   "source": [
    "#load imbalanced data\n",
    "import pandas as pd\n",
    "df=pd.read_csv('unbalanced_dataset.csv')"
   ]
  },
  {
   "cell_type": "code",
   "execution_count": 2,
   "id": "d96513b2-9963-486c-9b82-5c1a520b2ddd",
   "metadata": {},
   "outputs": [
    {
     "data": {
      "text/html": [
       "<div>\n",
       "<style scoped>\n",
       "    .dataframe tbody tr th:only-of-type {\n",
       "        vertical-align: middle;\n",
       "    }\n",
       "\n",
       "    .dataframe tbody tr th {\n",
       "        vertical-align: top;\n",
       "    }\n",
       "\n",
       "    .dataframe thead th {\n",
       "        text-align: right;\n",
       "    }\n",
       "</style>\n",
       "<table border=\"1\" class=\"dataframe\">\n",
       "  <thead>\n",
       "    <tr style=\"text-align: right;\">\n",
       "      <th></th>\n",
       "      <th>Rating</th>\n",
       "      <th>Review</th>\n",
       "    </tr>\n",
       "  </thead>\n",
       "  <tbody>\n",
       "    <tr>\n",
       "      <th>0</th>\n",
       "      <td>1.0</td>\n",
       "      <td>selfie camera is too worst and the images comi...</td>\n",
       "    </tr>\n",
       "    <tr>\n",
       "      <th>1</th>\n",
       "      <td>1.0</td>\n",
       "      <td>very bad product does not work properly even a...</td>\n",
       "    </tr>\n",
       "    <tr>\n",
       "      <th>2</th>\n",
       "      <td>1.0</td>\n",
       "      <td>just bought apple iphone s on monday i am disa...</td>\n",
       "    </tr>\n",
       "    <tr>\n",
       "      <th>3</th>\n",
       "      <td>1.0</td>\n",
       "      <td>so far having a lot of trouble i am a amazon p...</td>\n",
       "    </tr>\n",
       "    <tr>\n",
       "      <th>4</th>\n",
       "      <td>1.0</td>\n",
       "      <td>this phone is not worth for k amount as featur...</td>\n",
       "    </tr>\n",
       "  </tbody>\n",
       "</table>\n",
       "</div>"
      ],
      "text/plain": [
       "   Rating                                             Review\n",
       "0     1.0  selfie camera is too worst and the images comi...\n",
       "1     1.0  very bad product does not work properly even a...\n",
       "2     1.0  just bought apple iphone s on monday i am disa...\n",
       "3     1.0  so far having a lot of trouble i am a amazon p...\n",
       "4     1.0  this phone is not worth for k amount as featur..."
      ]
     },
     "execution_count": 2,
     "metadata": {},
     "output_type": "execute_result"
    }
   ],
   "source": [
    "#view\n",
    "df.head()"
   ]
  },
  {
   "cell_type": "markdown",
   "id": "82441198-1c0e-49b2-8a16-54b34a4e3360",
   "metadata": {},
   "source": [
    "1.stop word removal"
   ]
  },
  {
   "cell_type": "code",
   "execution_count": 3,
   "id": "c23e59b1-377f-432f-9e70-56f12a5792cf",
   "metadata": {},
   "outputs": [
    {
     "name": "stderr",
     "output_type": "stream",
     "text": [
      "[nltk_data] Downloading package stopwords to\n",
      "[nltk_data]     C:\\Users\\User\\AppData\\Roaming\\nltk_data...\n",
      "[nltk_data]   Package stopwords is already up-to-date!\n"
     ]
    }
   ],
   "source": [
    "#install & import required libraries\n",
    "import nltk\n",
    "nltk.download('stopwords')\n",
    "\n",
    "from nltk.corpus import stopwords\n",
    "import string"
   ]
  },
  {
   "cell_type": "code",
   "execution_count": 4,
   "id": "bb95e36a-5d73-440e-a3d9-6da9df27f9ed",
   "metadata": {},
   "outputs": [],
   "source": [
    "#defining stopword removal function\n",
    "stop_words = set(stopwords.words('english'))\n",
    "punctuations = string.punctuation\n",
    "\n",
    "def remove_stopwords(text):\n",
    "    # Lowercase\n",
    "    text = text.lower()\n",
    "    # Remove punctuation\n",
    "    text = ''.join([char for char in text if char not in punctuations])\n",
    "    # Tokenize and remove stopwords\n",
    "    words = text.split()\n",
    "    filtered = [word for word in words if word not in stop_words]\n",
    "    return ' '.join(filtered)"
   ]
  },
  {
   "cell_type": "code",
   "execution_count": 5,
   "id": "bd9ffad0-95f1-4465-b548-f6188e954331",
   "metadata": {},
   "outputs": [],
   "source": [
    "#apply function to imbalanced data\n",
    "df['Review'] = df['Review'].astype(str).apply(remove_stopwords)"
   ]
  },
  {
   "cell_type": "code",
   "execution_count": 6,
   "id": "aa6ec581-4508-4408-8f72-8630b5cbd701",
   "metadata": {},
   "outputs": [
    {
     "data": {
      "text/plain": [
       "0    selfie camera worst images coming worst mp pho...\n",
       "1    bad product work properly even replacing want ...\n",
       "2    bought apple iphone monday disappointing first...\n",
       "3    far lot trouble amazon prime member alexa keep...\n",
       "4              phone worth k amount features also good\n",
       "Name: Review, dtype: object"
      ]
     },
     "execution_count": 6,
     "metadata": {},
     "output_type": "execute_result"
    }
   ],
   "source": [
    "#view\n",
    "df['Review'].head()"
   ]
  },
  {
   "cell_type": "code",
   "execution_count": 7,
   "id": "20ae866a-93c2-4d24-8c4c-cc9d3e260f5d",
   "metadata": {},
   "outputs": [
    {
     "name": "stdout",
     "output_type": "stream",
     "text": [
      "Sample Stop Words:\n",
      "[\"shan't\", 'they', 'too', 'mustn', 'wouldn', \"you've\", \"i'm\", 'yours', \"he'd\", 'and', 'm', 'didn', 'had', 'not', \"didn't\", \"i'd\", 'while', 'by', 'll', 'was']\n"
     ]
    }
   ],
   "source": [
    "#print sample stop words\n",
    "from nltk.corpus import stopwords\n",
    "\n",
    "# Load English stopwords\n",
    "stop_words = set(stopwords.words('english'))\n",
    "\n",
    "# Print first 20 stopwords\n",
    "print(\"Sample Stop Words:\")\n",
    "print(list(stop_words)[:20])"
   ]
  },
  {
   "cell_type": "markdown",
   "id": "5519c81c-4394-4dd1-8fc3-12608d7f61ba",
   "metadata": {},
   "source": [
    "2.Lemmatization"
   ]
  },
  {
   "cell_type": "code",
   "execution_count": 8,
   "id": "d911cd43-9dce-4472-9373-9dafbf2efd15",
   "metadata": {},
   "outputs": [
    {
     "name": "stderr",
     "output_type": "stream",
     "text": [
      "[nltk_data] Downloading package wordnet to\n",
      "[nltk_data]     C:\\Users\\User\\AppData\\Roaming\\nltk_data...\n",
      "[nltk_data]   Package wordnet is already up-to-date!\n",
      "[nltk_data] Downloading package omw-1.4 to\n",
      "[nltk_data]     C:\\Users\\User\\AppData\\Roaming\\nltk_data...\n",
      "[nltk_data]   Package omw-1.4 is already up-to-date!\n"
     ]
    }
   ],
   "source": [
    "#required libraries\n",
    "import nltk\n",
    "nltk.download('wordnet')\n",
    "nltk.download('omw-1.4')\n",
    "\n",
    "from nltk.stem import WordNetLemmatizer"
   ]
  },
  {
   "cell_type": "code",
   "execution_count": 9,
   "id": "2ffb4b0b-1fff-4616-8dcf-513d476deb07",
   "metadata": {},
   "outputs": [],
   "source": [
    "#defining lemmatization function\n",
    "lemmatizer = WordNetLemmatizer()\n",
    "\n",
    "def lemmatize_text(text):\n",
    "    words = text.split()\n",
    "    lemmatized = [lemmatizer.lemmatize(word) for word in words]\n",
    "    return ' '.join(lemmatized)"
   ]
  },
  {
   "cell_type": "code",
   "execution_count": 10,
   "id": "7f0415d8-b32c-494d-b9b5-f7ca01326822",
   "metadata": {},
   "outputs": [],
   "source": [
    "#apply function on imbalanced data\n",
    "df['Review'] = df['Review'].apply(lemmatize_text)"
   ]
  },
  {
   "cell_type": "code",
   "execution_count": 11,
   "id": "a8ac1df6-246b-4309-b19d-05d881486a1d",
   "metadata": {},
   "outputs": [
    {
     "data": {
      "text/plain": [
       "0    selfie camera worst image coming worst mp phon...\n",
       "1    bad product work properly even replacing want ...\n",
       "2    bought apple iphone monday disappointing first...\n",
       "3    far lot trouble amazon prime member alexa keep...\n",
       "4               phone worth k amount feature also good\n",
       "Name: Review, dtype: object"
      ]
     },
     "execution_count": 11,
     "metadata": {},
     "output_type": "execute_result"
    }
   ],
   "source": [
    "#view\n",
    "df['Review'].head()"
   ]
  },
  {
   "cell_type": "markdown",
   "id": "bb086dfc-0854-485b-be95-d5be319ac022",
   "metadata": {},
   "source": [
    "3.filter out long & short reviews"
   ]
  },
  {
   "cell_type": "code",
   "execution_count": 12,
   "id": "47b5dbd0-cf06-46a5-9e84-bfc60ac8e57e",
   "metadata": {},
   "outputs": [
    {
     "name": "stdout",
     "output_type": "stream",
     "text": [
      "Reviews with fewer than 3 words: 603\n",
      "Reviews with more than 100 words: 31\n"
     ]
    }
   ],
   "source": [
    "# Count reviews with fewer than 3 words\n",
    "short_reviews_count = df['Review'].apply(lambda x: len(x.split()) < 3).sum()\n",
    "\n",
    "# Count reviews with more than 100 words (or any threshold you prefer)\n",
    "long_reviews_count = df['Review'].apply(lambda x: len(x.split()) > 200).sum()\n",
    "\n",
    "print(f\"Reviews with fewer than 3 words: {short_reviews_count}\")\n",
    "print(f\"Reviews with more than 100 words: {long_reviews_count}\")"
   ]
  },
  {
   "cell_type": "code",
   "execution_count": 13,
   "id": "7d344025-aaa4-41e2-8c84-78bb04687ef6",
   "metadata": {},
   "outputs": [],
   "source": [
    "# Keep only reviews that have word count between 3 and 200\n",
    "filtered_df = df[df['Review'].apply(lambda x: 3 <= len(x.split()) <= 200)].reset_index(drop=True)"
   ]
  },
  {
   "cell_type": "code",
   "execution_count": 14,
   "id": "a2e8ea7d-de38-419e-8407-2c43631ec2fb",
   "metadata": {},
   "outputs": [
    {
     "data": {
      "text/plain": [
       "Rating\n",
       "1.0     932\n",
       "2.0    1398\n",
       "3.0    2374\n",
       "4.0    2837\n",
       "5.0    1825\n",
       "Name: count, dtype: int64"
      ]
     },
     "execution_count": 14,
     "metadata": {},
     "output_type": "execute_result"
    }
   ],
   "source": [
    "#rating class distribution\n",
    "filtered_df['Rating'].value_counts().sort_index()"
   ]
  },
  {
   "cell_type": "code",
   "execution_count": 15,
   "id": "6860753d-e65e-46e8-8596-ae4cac4e06b0",
   "metadata": {},
   "outputs": [
    {
     "data": {
      "text/plain": [
       "Rating    0\n",
       "Review    0\n",
       "dtype: int64"
      ]
     },
     "execution_count": 15,
     "metadata": {},
     "output_type": "execute_result"
    }
   ],
   "source": [
    "#check nulls\n",
    "filtered_df.isnull().sum()"
   ]
  },
  {
   "cell_type": "code",
   "execution_count": 16,
   "id": "754db337-9c74-4500-aff1-b3e4baaa97c5",
   "metadata": {},
   "outputs": [
    {
     "data": {
      "text/plain": [
       "np.int64(441)"
      ]
     },
     "execution_count": 16,
     "metadata": {},
     "output_type": "execute_result"
    }
   ],
   "source": [
    "#check duplicates\n",
    "filtered_df.duplicated().sum()"
   ]
  },
  {
   "cell_type": "code",
   "execution_count": 17,
   "id": "9d1890ba-159f-45e9-80e2-98d7c76f421b",
   "metadata": {},
   "outputs": [],
   "source": [
    "#remove duplicate\n",
    "filtered_df.drop_duplicates(inplace=True)"
   ]
  },
  {
   "cell_type": "code",
   "execution_count": 18,
   "id": "21300e56-c68b-4eed-a257-071bbe80a744",
   "metadata": {},
   "outputs": [
    {
     "data": {
      "text/plain": [
       "Rating\n",
       "1.0     904\n",
       "2.0    1221\n",
       "3.0    2209\n",
       "4.0    2773\n",
       "5.0    1818\n",
       "Name: count, dtype: int64"
      ]
     },
     "execution_count": 18,
     "metadata": {},
     "output_type": "execute_result"
    }
   ],
   "source": [
    "#rating class distribution\n",
    "filtered_df['Rating'].value_counts().sort_index()"
   ]
  },
  {
   "cell_type": "markdown",
   "id": "798a9119-6012-42d7-b70a-d0676389df2a",
   "metadata": {},
   "source": [
    "4.visualizations"
   ]
  },
  {
   "cell_type": "code",
   "execution_count": 19,
   "id": "26383ea9-fff6-41e2-8ab8-4505f1026d14",
   "metadata": {},
   "outputs": [
    {
     "data": {
      "image/png": "[encoded data removed]",
      "text/plain": [
       "<Figure size 640x480 with 1 Axes>"
      ]
     },
     "metadata": {},
     "output_type": "display_data"
    }
   ],
   "source": [
    "import matplotlib.pyplot as plt\n",
    "#histogram of rating\n",
    "plt.hist(filtered_df['Rating'],bins=30)\n",
    "plt.title('Histogram-Ratings')\n",
    "plt.show()"
   ]
  },
  {
   "cell_type": "code",
   "execution_count": 21,
   "id": "0caa638e-3ef5-4add-823c-5a40715a7649",
   "metadata": {},
   "outputs": [
    {
     "data": {
      "image/png": "[encoded data removed]",
      "text/plain": [
       "<Figure size 640x480 with 1 Axes>"
      ]
     },
     "metadata": {},
     "output_type": "display_data"
    }
   ],
   "source": [
    "import seaborn as sns\n",
    "#Count plot (for categorical data)\n",
    "sns.countplot(x='Rating', data=filtered_df)\n",
    "plt.title(\"Rating Class Count\")\n",
    "plt.show()"
   ]
  },
  {
   "cell_type": "markdown",
   "id": "2ed61363-1f31-47a6-827e-acd0342b5a13",
   "metadata": {},
   "source": [
    "5.shuffle data"
   ]
  },
  {
   "cell_type": "code",
   "execution_count": 22,
   "id": "4481cb07-74d3-467e-a43f-46474f02cd93",
   "metadata": {},
   "outputs": [],
   "source": [
    "# Shuffle the imbalanced data\n",
    "imbalanced_df_final = filtered_df.sample(frac=1, random_state=42).reset_index(drop=True)"
   ]
  },
  {
   "cell_type": "code",
   "execution_count": 23,
   "id": "cf165e64-f559-4133-9997-f78a09089a78",
   "metadata": {},
   "outputs": [
    {
     "data": {
      "text/html": [
       "<div>\n",
       "<style scoped>\n",
       "    .dataframe tbody tr th:only-of-type {\n",
       "        vertical-align: middle;\n",
       "    }\n",
       "\n",
       "    .dataframe tbody tr th {\n",
       "        vertical-align: top;\n",
       "    }\n",
       "\n",
       "    .dataframe thead th {\n",
       "        text-align: right;\n",
       "    }\n",
       "</style>\n",
       "<table border=\"1\" class=\"dataframe\">\n",
       "  <thead>\n",
       "    <tr style=\"text-align: right;\">\n",
       "      <th></th>\n",
       "      <th>Rating</th>\n",
       "      <th>Review</th>\n",
       "    </tr>\n",
       "  </thead>\n",
       "  <tbody>\n",
       "    <tr>\n",
       "      <th>0</th>\n",
       "      <td>4.0</td>\n",
       "      <td>battery life really low one opt plus model</td>\n",
       "    </tr>\n",
       "    <tr>\n",
       "      <th>1</th>\n",
       "      <td>4.0</td>\n",
       "      <td>card work well purchased gb use phone store lo...</td>\n",
       "    </tr>\n",
       "    <tr>\n",
       "      <th>2</th>\n",
       "      <td>1.0</td>\n",
       "      <td>product recieved working remote getting paired</td>\n",
       "    </tr>\n",
       "    <tr>\n",
       "      <th>3</th>\n",
       "      <td>5.0</td>\n",
       "      <td>great fit easy dress lovely shade bluethis def...</td>\n",
       "    </tr>\n",
       "    <tr>\n",
       "      <th>4</th>\n",
       "      <td>4.0</td>\n",
       "      <td>work great wish voice text capability phone in...</td>\n",
       "    </tr>\n",
       "  </tbody>\n",
       "</table>\n",
       "</div>"
      ],
      "text/plain": [
       "   Rating                                             Review\n",
       "0     4.0         battery life really low one opt plus model\n",
       "1     4.0  card work well purchased gb use phone store lo...\n",
       "2     1.0     product recieved working remote getting paired\n",
       "3     5.0  great fit easy dress lovely shade bluethis def...\n",
       "4     4.0  work great wish voice text capability phone in..."
      ]
     },
     "execution_count": 23,
     "metadata": {},
     "output_type": "execute_result"
    }
   ],
   "source": [
    "#view\n",
    "imbalanced_df_final.head()"
   ]
  },
  {
   "cell_type": "markdown",
   "id": "6d10fb5f-530a-4855-8c45-4766032413a0",
   "metadata": {},
   "source": [
    "6.display sample reviews per rating"
   ]
  },
  {
   "cell_type": "code",
   "execution_count": 24,
   "id": "98c0a440-9885-4c33-99c5-545b8df5d5a7",
   "metadata": {},
   "outputs": [
    {
     "name": "stdout",
     "output_type": "stream",
     "text": [
      "\n",
      " Rating: 1\n",
      "1. overall seemed like decent phone point time show network availableemergency call another phone show almost full bar network tried rebooting airplane mode reset network nothing work sure firmware issue o issue make using phone precarious experience expected better\n",
      "\n",
      "2. one month used phone battery life good video camera quality good hitting problem charger front camera good\n",
      "\n",
      "3. card worked great first ive never problem sandisk past bought card galaxy back october dead december im sorely disappointed purchase maybe faulty card experience terrible get one star\n",
      "\n",
      "\n",
      " Rating: 2\n",
      "1. disappointed ordered dress large big returned asked exchange size medium apparently available medium charged fee return shopping immediately went website medium available pay another shipping seems bit unreasonable really liked dress\n",
      "\n",
      "2. problem processing suddenly stop operation n go sleep mode keypad function erroneously automatically start erasing whatever typevery strange\n",
      "\n",
      "3. overall device fine camera quality bad worse old device redmi selfie camera like mp camera another samsung phone photo people redmi look much artificial colour look much different real front rear camera camera device disappointed otherwise device fine interest camera centric device buy else go option important point phone bit o instead bit search google\n",
      "\n",
      "\n",
      " Rating: 3\n",
      "1. love fabric pattern dress much decided keep got mega sale would never paid full price anything close armhole enormous showing bra particularly large chested c button stretched gaping even huge armhole cute red sweater coat wear fall could recommend poor cut design pro great pattern fabric pocket true\n",
      "\n",
      "2. loud enough say bluetooth speaker\n",
      "\n",
      "3. wine color beautiful idea knot front different back good one however fabric thin back quite see knit show every single bodily imperfection quintessential tall thin dont mind showing bra go otherwise suggest skipping one\n",
      "\n",
      "\n",
      " Rating: 4\n",
      "1. good battery life minute charge sleep monitor distance calorie sensor working well see buy st time dosent heart rate sensor thats fault band another feature good\n",
      "\n",
      "2. sound quality top notch bass deep get perfect low build quality mark wire thin tangle free use carefully\n",
      "\n",
      "3. redmi good looking phone good battery backup screen resolution could better phone costing k guess cannot expect better\n",
      "\n",
      "\n",
      " Rating: 5\n",
      "1. amazing product amazon want say paisaaa wasool product hai ye inch led android smart tv aur kya chahiye bhai log wo mein\n",
      "\n",
      "2. wish slightly cheaper could buy love little guy kidding alexa girl ton fun always coming new feature\n",
      "\n",
      "3. osm must buy\n",
      "\n"
     ]
    }
   ],
   "source": [
    "for rating in sorted(imbalanced_df_final['Rating'].unique()):\n",
    "    print(f\"\\n Rating: {int(rating)}\")\n",
    "    samples = imbalanced_df_final[imbalanced_df_final['Rating'] == rating].sample(3, random_state=42)\n",
    "    for i, review in enumerate(samples['Review'].values, 1):\n",
    "        print(f\"{i}. {review}\\n\")"
   ]
  },
  {
   "cell_type": "markdown",
   "id": "3acbd36e-ccf3-4f5f-85e9-9f2a948c5e12",
   "metadata": {},
   "source": [
    "7.TRain-test-split"
   ]
  },
  {
   "cell_type": "code",
   "execution_count": 25,
   "id": "fbfc8597-5473-401e-8364-c35ab124aa97",
   "metadata": {},
   "outputs": [],
   "source": [
    "from sklearn.model_selection import train_test_split\n",
    "\n",
    "# Features and labels\n",
    "X = imbalanced_df_final['Review']\n",
    "y = imbalanced_df_final['Rating']\n",
    "\n",
    "# Train-test split (80% train, 20% test)\n",
    "X_train, X_test, y_train, y_test = train_test_split(X, y, test_size=0.2, stratify=y, random_state=42)"
   ]
  },
  {
   "cell_type": "markdown",
   "id": "36ac6a53-33ca-4135-a621-a77b0fc9cf0d",
   "metadata": {},
   "source": [
    "8.TF-IDF Vectorization"
   ]
  },
  {
   "cell_type": "code",
   "execution_count": 26,
   "id": "96fed3f4-11c1-427e-83a6-d3f18afdc25c",
   "metadata": {},
   "outputs": [],
   "source": [
    "from sklearn.feature_extraction.text import TfidfVectorizer\n",
    "\n",
    "# Initialize TF-IDF vectorizer\n",
    "tfidf = TfidfVectorizer(max_features=5000)  # or use None for all features\n",
    "\n",
    "# Fit on training data and transform both train and test\n",
    "X_train_tfidf = tfidf.fit_transform(X_train)\n",
    "X_test_tfidf = tfidf.transform(X_test)"
   ]
  },
  {
   "cell_type": "code",
   "execution_count": null,
   "id": "eefbb6e2-81c1-4cf0-92b6-44213812d83d",
   "metadata": {},
   "outputs": [],
   "source": []
  }
 ],
 "metadata": {
  "kernelspec": {
   "display_name": "Python 3 (ipykernel)",
   "language": "python",
   "name": "python3"
  },
  "language_info": {
   "codemirror_mode": {
    "name": "ipython",
    "version": 3
   },
   "file_extension": ".py",
   "mimetype": "text/x-python",
   "name": "python",
   "nbconvert_exporter": "python",
   "pygments_lexer": "ipython3",
   "version": "3.13.2"
  }
 },
 "nbformat": 4,
 "nbformat_minor": 5
}
