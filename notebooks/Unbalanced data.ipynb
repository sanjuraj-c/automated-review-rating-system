{
 "cells": [
  {
   "cell_type": "code",
   "execution_count": 1,
   "id": "d3c665c5-5918-4bdd-a861-29d483482533",
   "metadata": {},
   "outputs": [],
   "source": [
    "import pandas as pd"
   ]
  },
  {
   "cell_type": "code",
   "execution_count": 2,
   "id": "e80009a4-9fd9-483b-8df3-7832271729bf",
   "metadata": {},
   "outputs": [],
   "source": [
    "#load data\n",
    "df=pd.read_csv('final_cleaned.csv')"
   ]
  },
  {
   "cell_type": "code",
   "execution_count": 3,
   "id": "f3701716-f21b-4530-bcb3-0b4099a4ef98",
   "metadata": {},
   "outputs": [
    {
     "data": {
      "text/html": [
       "<div>\n",
       "<style scoped>\n",
       "    .dataframe tbody tr th:only-of-type {\n",
       "        vertical-align: middle;\n",
       "    }\n",
       "\n",
       "    .dataframe tbody tr th {\n",
       "        vertical-align: top;\n",
       "    }\n",
       "\n",
       "    .dataframe thead th {\n",
       "        text-align: right;\n",
       "    }\n",
       "</style>\n",
       "<table border=\"1\" class=\"dataframe\">\n",
       "  <thead>\n",
       "    <tr style=\"text-align: right;\">\n",
       "      <th></th>\n",
       "      <th>Unnamed: 0</th>\n",
       "      <th>Review Text</th>\n",
       "      <th>Rating</th>\n",
       "    </tr>\n",
       "  </thead>\n",
       "  <tbody>\n",
       "    <tr>\n",
       "      <th>0</th>\n",
       "      <td>0</td>\n",
       "      <td>Not great speakers</td>\n",
       "      <td>3.0</td>\n",
       "    </tr>\n",
       "    <tr>\n",
       "      <th>1</th>\n",
       "      <td>1</td>\n",
       "      <td>Great little gagit</td>\n",
       "      <td>4.0</td>\n",
       "    </tr>\n",
       "    <tr>\n",
       "      <th>2</th>\n",
       "      <td>2</td>\n",
       "      <td>Awesome 👏🏽</td>\n",
       "      <td>5.0</td>\n",
       "    </tr>\n",
       "    <tr>\n",
       "      <th>3</th>\n",
       "      <td>3</td>\n",
       "      <td>Love my Echo</td>\n",
       "      <td>5.0</td>\n",
       "    </tr>\n",
       "    <tr>\n",
       "      <th>4</th>\n",
       "      <td>4</td>\n",
       "      <td>Great device</td>\n",
       "      <td>5.0</td>\n",
       "    </tr>\n",
       "  </tbody>\n",
       "</table>\n",
       "</div>"
      ],
      "text/plain": [
       "   Unnamed: 0         Review Text  Rating\n",
       "0           0  Not great speakers     3.0\n",
       "1           1  Great little gagit     4.0\n",
       "2           2          Awesome 👏🏽     5.0\n",
       "3           3        Love my Echo     5.0\n",
       "4           4        Great device     5.0"
      ]
     },
     "execution_count": 3,
     "metadata": {},
     "output_type": "execute_result"
    }
   ],
   "source": [
    "#view\n",
    "df.head()"
   ]
  },
  {
   "cell_type": "code",
   "execution_count": 4,
   "id": "6edbabee-88fc-4450-962a-36dbd9e9caec",
   "metadata": {},
   "outputs": [
    {
     "name": "stdout",
     "output_type": "stream",
     "text": [
      "          Review Text              Review\n",
      "0  Not great speakers  not great speakers\n",
      "1  Great little gagit  great little gagit\n",
      "2          Awesome 👏🏽             awesome\n",
      "3        Love my Echo        love my echo\n",
      "4        Great device        great device\n"
     ]
    }
   ],
   "source": [
    "import re\n",
    "\n",
    "# Example: cleaning the review text\n",
    "\n",
    "def clean_review(text):\n",
    "    if pd.isnull(text):\n",
    "        return \"\"\n",
    "\n",
    "    # Remove emojis\n",
    "    text = re.sub(r'[^\\w\\s,]', '', text.encode('ascii', 'ignore').decode('ascii'))\n",
    "    \n",
    "    # Remove special characters and digits (keep letters and basic punctuation if needed)\n",
    "    text = re.sub(r'[^A-Za-z\\s]', '', text)\n",
    "    \n",
    "    # Convert to lowercase\n",
    "    text = text.lower()\n",
    "    \n",
    "    # Remove extra spaces\n",
    "    text = re.sub(r'\\s+', ' ', text).strip()\n",
    "    \n",
    "    return text\n",
    "\n",
    "# Apply to the column\n",
    "df['Review'] = df['Review Text'].astype(str).apply(clean_review)\n",
    "\n",
    "# View cleaned data\n",
    "print(df[['Review Text', 'Review']].head())"
   ]
  },
  {
   "cell_type": "code",
   "execution_count": 5,
   "id": "72b90c50-d9e7-4890-ae6a-9ff891df0852",
   "metadata": {},
   "outputs": [],
   "source": [
    "#checking conflicting reviews\n",
    "from textblob import TextBlob\n",
    "\n",
    "# Get sentiment polarity for each review (-1 = negative, 1 = positive)\n",
    "df['Polarity'] = df['Review'].apply(lambda x: TextBlob(x).sentiment.polarity)\n",
    "\n",
    "# Optional: classify sentiment direction\n",
    "def classify_sentiment(p):\n",
    "    if p > 0.2:\n",
    "        return 'positive'\n",
    "    elif p < -0.2:\n",
    "        return 'negative'\n",
    "    else:\n",
    "        return 'neutral'\n",
    "\n",
    "df['Sentiment'] = df['Polarity'].apply(classify_sentiment)"
   ]
  },
  {
   "cell_type": "code",
   "execution_count": 6,
   "id": "d48c5c48-d6f2-44b8-9db6-42865921e3c8",
   "metadata": {},
   "outputs": [
    {
     "name": "stdout",
     "output_type": "stream",
     "text": [
      "Original size: 86136\n",
      "After removing conflicts: 83481\n"
     ]
    }
   ],
   "source": [
    "# Define conflict conditions\n",
    "conflict_mask = (\n",
    "    ((df['Rating'] >= 4) & (df['Sentiment'] == 'negative')) |\n",
    "    ((df['Rating'] <= 2) & (df['Sentiment'] == 'positive'))\n",
    ")\n",
    "\n",
    "# Get conflicting reviews for optional inspection\n",
    "conflicting_reviews = df[conflict_mask]\n",
    "\n",
    "# Remove conflicting reviews\n",
    "cleaned_df = df[~conflict_mask].reset_index(drop=True)\n",
    "\n",
    "print(\"Original size:\", len(df))\n",
    "print(\"After removing conflicts:\", len(cleaned_df))\n"
   ]
  },
  {
   "cell_type": "code",
   "execution_count": 7,
   "id": "61398800-b118-410b-8363-7766b4b2d097",
   "metadata": {},
   "outputs": [],
   "source": [
    "#drop unnecessary columns\n",
    "cleaned_df.drop(['Unnamed: 0','Review Text','Polarity','Sentiment'],axis=1,inplace=True)"
   ]
  },
  {
   "cell_type": "code",
   "execution_count": 8,
   "id": "d243bd06-af34-4200-a15b-f9861008f499",
   "metadata": {},
   "outputs": [
    {
     "data": {
      "text/html": [
       "<div>\n",
       "<style scoped>\n",
       "    .dataframe tbody tr th:only-of-type {\n",
       "        vertical-align: middle;\n",
       "    }\n",
       "\n",
       "    .dataframe tbody tr th {\n",
       "        vertical-align: top;\n",
       "    }\n",
       "\n",
       "    .dataframe thead th {\n",
       "        text-align: right;\n",
       "    }\n",
       "</style>\n",
       "<table border=\"1\" class=\"dataframe\">\n",
       "  <thead>\n",
       "    <tr style=\"text-align: right;\">\n",
       "      <th></th>\n",
       "      <th>Rating</th>\n",
       "      <th>Review</th>\n",
       "    </tr>\n",
       "  </thead>\n",
       "  <tbody>\n",
       "    <tr>\n",
       "      <th>0</th>\n",
       "      <td>3.0</td>\n",
       "      <td>not great speakers</td>\n",
       "    </tr>\n",
       "    <tr>\n",
       "      <th>1</th>\n",
       "      <td>4.0</td>\n",
       "      <td>great little gagit</td>\n",
       "    </tr>\n",
       "    <tr>\n",
       "      <th>2</th>\n",
       "      <td>5.0</td>\n",
       "      <td>awesome</td>\n",
       "    </tr>\n",
       "    <tr>\n",
       "      <th>3</th>\n",
       "      <td>5.0</td>\n",
       "      <td>love my echo</td>\n",
       "    </tr>\n",
       "    <tr>\n",
       "      <th>4</th>\n",
       "      <td>5.0</td>\n",
       "      <td>great device</td>\n",
       "    </tr>\n",
       "  </tbody>\n",
       "</table>\n",
       "</div>"
      ],
      "text/plain": [
       "   Rating              Review\n",
       "0     3.0  not great speakers\n",
       "1     4.0  great little gagit\n",
       "2     5.0             awesome\n",
       "3     5.0        love my echo\n",
       "4     5.0        great device"
      ]
     },
     "execution_count": 8,
     "metadata": {},
     "output_type": "execute_result"
    }
   ],
   "source": [
    "#view\n",
    "cleaned_df.head()"
   ]
  },
  {
   "cell_type": "code",
   "execution_count": 10,
   "id": "e019af68-35eb-491f-9a73-0307a68b578d",
   "metadata": {},
   "outputs": [
    {
     "data": {
      "text/plain": [
       "Rating    0\n",
       "Review    0\n",
       "dtype: int64"
      ]
     },
     "execution_count": 10,
     "metadata": {},
     "output_type": "execute_result"
    }
   ],
   "source": [
    "#check nulls\n",
    "cleaned_df.isnull().sum()"
   ]
  },
  {
   "cell_type": "code",
   "execution_count": 12,
   "id": "e710dc66-3786-42fb-a681-9303c4978e44",
   "metadata": {},
   "outputs": [
    {
     "data": {
      "text/plain": [
       "np.int64(1843)"
      ]
     },
     "execution_count": 12,
     "metadata": {},
     "output_type": "execute_result"
    }
   ],
   "source": [
    "#check duplicates\n",
    "cleaned_df.duplicated().sum()"
   ]
  },
  {
   "cell_type": "code",
   "execution_count": 13,
   "id": "9c6a02e5-f942-4944-a043-883498c62c44",
   "metadata": {},
   "outputs": [],
   "source": [
    "#remove duplicates\n",
    "cleaned_df.drop_duplicates(inplace=True)"
   ]
  },
  {
   "cell_type": "code",
   "execution_count": 14,
   "id": "fb19c542-9b6b-4208-bb9d-3529c01faf6d",
   "metadata": {},
   "outputs": [
    {
     "data": {
      "text/plain": [
       "Rating\n",
       "1.0     7578\n",
       "2.0     3274\n",
       "3.0     7732\n",
       "4.0    16930\n",
       "5.0    46124\n",
       "Name: count, dtype: int64"
      ]
     },
     "execution_count": 14,
     "metadata": {},
     "output_type": "execute_result"
    }
   ],
   "source": [
    "#rating class distribution\n",
    "cleaned_df['Rating'].value_counts().sort_index()"
   ]
  },
  {
   "cell_type": "code",
   "execution_count": 15,
   "id": "820ec09a-bad1-4edf-9092-a19dca5b28db",
   "metadata": {},
   "outputs": [],
   "source": [
    "# loading the balanced dataset created\n",
    "balanced_df=pd.read_csv('balanced_data_1.csv')"
   ]
  },
  {
   "cell_type": "code",
   "execution_count": 16,
   "id": "0fe06783-9992-4070-a2bf-ca6b2fa80b7d",
   "metadata": {},
   "outputs": [
    {
     "name": "stdout",
     "output_type": "stream",
     "text": [
      "Remaining dataset size: 96567\n",
      "Rating\n",
      "5.0    49105\n",
      "4.0    19913\n",
      "3.0    10718\n",
      "1.0    10560\n",
      "2.0     6271\n",
      "Name: count, dtype: int64\n"
     ]
    }
   ],
   "source": [
    "# Remove balanced data from cleaned_combined_df\n",
    "remaining_df = pd.concat([cleaned_df, balanced_df]).drop_duplicates(keep=False)\n",
    "\n",
    "print(\"Remaining dataset size:\", len(remaining_df))\n",
    "print(remaining_df['Rating'].value_counts())"
   ]
  },
  {
   "cell_type": "code",
   "execution_count": 17,
   "id": "cc14e827-9c34-4e5f-b12d-2e87c2cbb036",
   "metadata": {},
   "outputs": [],
   "source": [
    "# Step 3: Define target distribution\n",
    "target_size = 10000\n",
    "\n",
    "distribution = {\n",
    "    1.0: int(target_size * 0.10),  # 10%\n",
    "    2.0: int(target_size * 0.15),  # 15%\n",
    "    3.0: int(target_size * 0.25),  # 25%\n",
    "    4.0: int(target_size * 0.30),  # 30%\n",
    "    5.0: int(target_size * 0.20),  # 20%\n",
    "}"
   ]
  },
  {
   "cell_type": "code",
   "execution_count": 18,
   "id": "ead8e05f-a1fb-4c75-9b7d-b7956e9b4778",
   "metadata": {},
   "outputs": [
    {
     "name": "stdout",
     "output_type": "stream",
     "text": [
      "Rating\n",
      "4.0    30.0\n",
      "3.0    25.0\n",
      "5.0    20.0\n",
      "2.0    15.0\n",
      "1.0    10.0\n",
      "Name: proportion, dtype: float64\n"
     ]
    }
   ],
   "source": [
    "# Step 4: Sample based on target distribution\n",
    "unbalanced_samples = []\n",
    "\n",
    "for rating, count in distribution.items():\n",
    "    subset = remaining_df[remaining_df['Rating'] == rating]\n",
    "    available = len(subset)\n",
    "    if available >= count:\n",
    "        sample = subset.sample(n=count, random_state=42)\n",
    "    else:\n",
    "        print(f\"⚠️ Only {available} samples available for Rating {rating}, requested {count}\")\n",
    "        sample = subset  # take all available\n",
    "    unbalanced_samples.append(sample)\n",
    "\n",
    "# Combine into final unbalanced dataset\n",
    "unbalanced_df = pd.concat(unbalanced_samples).reset_index(drop=True)\n",
    "\n",
    "# Final check\n",
    "print(unbalanced_df['Rating'].value_counts(normalize=True) * 100)"
   ]
  },
  {
   "cell_type": "code",
   "execution_count": 20,
   "id": "f51581ca-84bb-4eeb-8726-2a3656dacdbe",
   "metadata": {},
   "outputs": [
    {
     "data": {
      "text/html": [
       "<div>\n",
       "<style scoped>\n",
       "    .dataframe tbody tr th:only-of-type {\n",
       "        vertical-align: middle;\n",
       "    }\n",
       "\n",
       "    .dataframe tbody tr th {\n",
       "        vertical-align: top;\n",
       "    }\n",
       "\n",
       "    .dataframe thead th {\n",
       "        text-align: right;\n",
       "    }\n",
       "</style>\n",
       "<table border=\"1\" class=\"dataframe\">\n",
       "  <thead>\n",
       "    <tr style=\"text-align: right;\">\n",
       "      <th></th>\n",
       "      <th>Rating</th>\n",
       "      <th>Review</th>\n",
       "      <th>Unnamed: 0</th>\n",
       "    </tr>\n",
       "  </thead>\n",
       "  <tbody>\n",
       "    <tr>\n",
       "      <th>0</th>\n",
       "      <td>1.0</td>\n",
       "      <td>selfie camera is too worst and the images comi...</td>\n",
       "      <td>NaN</td>\n",
       "    </tr>\n",
       "    <tr>\n",
       "      <th>1</th>\n",
       "      <td>1.0</td>\n",
       "      <td>very bad product does not work properly even a...</td>\n",
       "      <td>NaN</td>\n",
       "    </tr>\n",
       "    <tr>\n",
       "      <th>2</th>\n",
       "      <td>1.0</td>\n",
       "      <td>just bought apple iphone s on monday i am disa...</td>\n",
       "      <td>NaN</td>\n",
       "    </tr>\n",
       "    <tr>\n",
       "      <th>3</th>\n",
       "      <td>1.0</td>\n",
       "      <td>so far having a lot of trouble i am a amazon p...</td>\n",
       "      <td>5738.0</td>\n",
       "    </tr>\n",
       "    <tr>\n",
       "      <th>4</th>\n",
       "      <td>1.0</td>\n",
       "      <td>this phone is not worth for k amount as featur...</td>\n",
       "      <td>NaN</td>\n",
       "    </tr>\n",
       "  </tbody>\n",
       "</table>\n",
       "</div>"
      ],
      "text/plain": [
       "   Rating                                             Review  Unnamed: 0\n",
       "0     1.0  selfie camera is too worst and the images comi...         NaN\n",
       "1     1.0  very bad product does not work properly even a...         NaN\n",
       "2     1.0  just bought apple iphone s on monday i am disa...         NaN\n",
       "3     1.0  so far having a lot of trouble i am a amazon p...      5738.0\n",
       "4     1.0  this phone is not worth for k amount as featur...         NaN"
      ]
     },
     "execution_count": 20,
     "metadata": {},
     "output_type": "execute_result"
    }
   ],
   "source": [
    "#view\n",
    "unbalanced_df.head()"
   ]
  },
  {
   "cell_type": "code",
   "execution_count": 22,
   "id": "9f5bf7a8-8cb1-40bf-97e9-aacd94e84111",
   "metadata": {},
   "outputs": [],
   "source": [
    "#remove unnecessary column\n",
    "unbalanced_df.drop(['Unnamed: 0'],axis=1,inplace=True)"
   ]
  },
  {
   "cell_type": "code",
   "execution_count": 23,
   "id": "18cf9490-a983-4295-afa4-32de5d35b78b",
   "metadata": {},
   "outputs": [
    {
     "data": {
      "text/html": [
       "<div>\n",
       "<style scoped>\n",
       "    .dataframe tbody tr th:only-of-type {\n",
       "        vertical-align: middle;\n",
       "    }\n",
       "\n",
       "    .dataframe tbody tr th {\n",
       "        vertical-align: top;\n",
       "    }\n",
       "\n",
       "    .dataframe thead th {\n",
       "        text-align: right;\n",
       "    }\n",
       "</style>\n",
       "<table border=\"1\" class=\"dataframe\">\n",
       "  <thead>\n",
       "    <tr style=\"text-align: right;\">\n",
       "      <th></th>\n",
       "      <th>Rating</th>\n",
       "      <th>Review</th>\n",
       "    </tr>\n",
       "  </thead>\n",
       "  <tbody>\n",
       "    <tr>\n",
       "      <th>0</th>\n",
       "      <td>1.0</td>\n",
       "      <td>selfie camera is too worst and the images comi...</td>\n",
       "    </tr>\n",
       "    <tr>\n",
       "      <th>1</th>\n",
       "      <td>1.0</td>\n",
       "      <td>very bad product does not work properly even a...</td>\n",
       "    </tr>\n",
       "    <tr>\n",
       "      <th>2</th>\n",
       "      <td>1.0</td>\n",
       "      <td>just bought apple iphone s on monday i am disa...</td>\n",
       "    </tr>\n",
       "    <tr>\n",
       "      <th>3</th>\n",
       "      <td>1.0</td>\n",
       "      <td>so far having a lot of trouble i am a amazon p...</td>\n",
       "    </tr>\n",
       "    <tr>\n",
       "      <th>4</th>\n",
       "      <td>1.0</td>\n",
       "      <td>this phone is not worth for k amount as featur...</td>\n",
       "    </tr>\n",
       "  </tbody>\n",
       "</table>\n",
       "</div>"
      ],
      "text/plain": [
       "   Rating                                             Review\n",
       "0     1.0  selfie camera is too worst and the images comi...\n",
       "1     1.0  very bad product does not work properly even a...\n",
       "2     1.0  just bought apple iphone s on monday i am disa...\n",
       "3     1.0  so far having a lot of trouble i am a amazon p...\n",
       "4     1.0  this phone is not worth for k amount as featur..."
      ]
     },
     "execution_count": 23,
     "metadata": {},
     "output_type": "execute_result"
    }
   ],
   "source": [
    "#view\n",
    "unbalanced_df.head()"
   ]
  },
  {
   "cell_type": "code",
   "execution_count": 24,
   "id": "08a1afb6-8323-485b-9a7f-2e4969a721fd",
   "metadata": {},
   "outputs": [],
   "source": [
    "#save unbalanced file\n",
    "unbalanced_df.to_csv(\"unbalanced_dataset.csv\", index=False)"
   ]
  },
  {
   "cell_type": "code",
   "execution_count": null,
   "id": "16d5e8b3-6cc2-4f18-ae4f-bba4388d6048",
   "metadata": {},
   "outputs": [],
   "source": []
  }
 ],
 "metadata": {
  "kernelspec": {
   "display_name": "Python 3 (ipykernel)",
   "language": "python",
   "name": "python3"
  },
  "language_info": {
   "codemirror_mode": {
    "name": "ipython",
    "version": 3
   },
   "file_extension": ".py",
   "mimetype": "text/x-python",
   "name": "python",
   "nbconvert_exporter": "python",
   "pygments_lexer": "ipython3",
   "version": "3.13.2"
  }
 },
 "nbformat": 4,
 "nbformat_minor": 5
}
