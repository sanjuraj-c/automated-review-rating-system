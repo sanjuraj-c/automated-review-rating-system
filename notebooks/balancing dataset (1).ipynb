{
 "cells": [
  {
   "cell_type": "code",
   "execution_count": 1,
   "id": "55736c28-23a9-479a-8c38-fff3a2215f81",
   "metadata": {},
   "outputs": [],
   "source": [
    "import pandas as pd"
   ]
  },
  {
   "cell_type": "code",
   "execution_count": 2,
   "id": "3eb38ec8-c8e5-47ba-a430-2f7fd68578ce",
   "metadata": {},
   "outputs": [],
   "source": [
    "#load data\n",
    "df=pd.read_csv('final_cleaned.csv')"
   ]
  },
  {
   "cell_type": "code",
   "execution_count": 3,
   "id": "559824df-516f-42ba-bd68-951833723ffd",
   "metadata": {},
   "outputs": [
    {
     "data": {
      "text/html": [
       "<div>\n",
       "<style scoped>\n",
       "    .dataframe tbody tr th:only-of-type {\n",
       "        vertical-align: middle;\n",
       "    }\n",
       "\n",
       "    .dataframe tbody tr th {\n",
       "        vertical-align: top;\n",
       "    }\n",
       "\n",
       "    .dataframe thead th {\n",
       "        text-align: right;\n",
       "    }\n",
       "</style>\n",
       "<table border=\"1\" class=\"dataframe\">\n",
       "  <thead>\n",
       "    <tr style=\"text-align: right;\">\n",
       "      <th></th>\n",
       "      <th>Unnamed: 0</th>\n",
       "      <th>Review Text</th>\n",
       "      <th>Rating</th>\n",
       "    </tr>\n",
       "  </thead>\n",
       "  <tbody>\n",
       "    <tr>\n",
       "      <th>0</th>\n",
       "      <td>0</td>\n",
       "      <td>Not great speakers</td>\n",
       "      <td>3.0</td>\n",
       "    </tr>\n",
       "    <tr>\n",
       "      <th>1</th>\n",
       "      <td>1</td>\n",
       "      <td>Great little gagit</td>\n",
       "      <td>4.0</td>\n",
       "    </tr>\n",
       "    <tr>\n",
       "      <th>2</th>\n",
       "      <td>2</td>\n",
       "      <td>Awesome 👏🏽</td>\n",
       "      <td>5.0</td>\n",
       "    </tr>\n",
       "    <tr>\n",
       "      <th>3</th>\n",
       "      <td>3</td>\n",
       "      <td>Love my Echo</td>\n",
       "      <td>5.0</td>\n",
       "    </tr>\n",
       "    <tr>\n",
       "      <th>4</th>\n",
       "      <td>4</td>\n",
       "      <td>Great device</td>\n",
       "      <td>5.0</td>\n",
       "    </tr>\n",
       "  </tbody>\n",
       "</table>\n",
       "</div>"
      ],
      "text/plain": [
       "   Unnamed: 0         Review Text  Rating\n",
       "0           0  Not great speakers     3.0\n",
       "1           1  Great little gagit     4.0\n",
       "2           2          Awesome 👏🏽     5.0\n",
       "3           3        Love my Echo     5.0\n",
       "4           4        Great device     5.0"
      ]
     },
     "execution_count": 3,
     "metadata": {},
     "output_type": "execute_result"
    }
   ],
   "source": [
    "#view\n",
    "df.head()"
   ]
  },
  {
   "cell_type": "code",
   "execution_count": 4,
   "id": "957ab443-3507-4d9c-a50e-7b2e7967425e",
   "metadata": {},
   "outputs": [
    {
     "data": {
      "text/plain": [
       "Rating\n",
       "1.0     8669\n",
       "2.0     4283\n",
       "3.0     7786\n",
       "4.0    17541\n",
       "5.0    47857\n",
       "Name: count, dtype: int64"
      ]
     },
     "execution_count": 4,
     "metadata": {},
     "output_type": "execute_result"
    }
   ],
   "source": [
    "#rating class distribution\n",
    "df['Rating'].value_counts().sort_index()"
   ]
  },
  {
   "cell_type": "code",
   "execution_count": 6,
   "id": "68a01b69-e626-4ba5-9cbc-0e4e6cfbf1e2",
   "metadata": {},
   "outputs": [
    {
     "name": "stdout",
     "output_type": "stream",
     "text": [
      "          Review Text              Review\n",
      "0  Not great speakers  not great speakers\n",
      "1  Great little gagit  great little gagit\n",
      "2          Awesome 👏🏽             awesome\n",
      "3        Love my Echo        love my echo\n",
      "4        Great device        great device\n"
     ]
    }
   ],
   "source": [
    "import re\n",
    "\n",
    "# Example: cleaning the review text\n",
    "\n",
    "def clean_review(text):\n",
    "    if pd.isnull(text):\n",
    "        return \"\"\n",
    "\n",
    "    # Remove emojis\n",
    "    text = re.sub(r'[^\\w\\s,]', '', text.encode('ascii', 'ignore').decode('ascii'))\n",
    "    \n",
    "    # Remove special characters and digits (keep letters and basic punctuation if needed)\n",
    "    text = re.sub(r'[^A-Za-z\\s]', '', text)\n",
    "    \n",
    "    # Convert to lowercase\n",
    "    text = text.lower()\n",
    "    \n",
    "    # Remove extra spaces\n",
    "    text = re.sub(r'\\s+', ' ', text).strip()\n",
    "    \n",
    "    return text\n",
    "\n",
    "# Apply to the column\n",
    "df['Review'] = df['Review Text'].astype(str).apply(clean_review)\n",
    "\n",
    "# View cleaned data\n",
    "print(df[['Review Text', 'Review']].head())"
   ]
  },
  {
   "cell_type": "code",
   "execution_count": 7,
   "id": "3c2f31fd-71ec-47d8-886e-2646697c9a90",
   "metadata": {},
   "outputs": [
    {
     "name": "stdout",
     "output_type": "stream",
     "text": [
      "Requirement already satisfied: textblob in c:\\users\\user\\appdata\\local\\programs\\python\\python313\\lib\\site-packages (0.19.0)\n",
      "Requirement already satisfied: nltk>=3.9 in c:\\users\\user\\appdata\\local\\programs\\python\\python313\\lib\\site-packages (from textblob) (3.9.1)\n",
      "Requirement already satisfied: click in c:\\users\\user\\appdata\\local\\programs\\python\\python313\\lib\\site-packages (from nltk>=3.9->textblob) (8.2.1)\n",
      "Requirement already satisfied: joblib in c:\\users\\user\\appdata\\local\\programs\\python\\python313\\lib\\site-packages (from nltk>=3.9->textblob) (1.5.1)\n",
      "Requirement already satisfied: regex>=2021.8.3 in c:\\users\\user\\appdata\\local\\programs\\python\\python313\\lib\\site-packages (from nltk>=3.9->textblob) (2024.11.6)\n",
      "Requirement already satisfied: tqdm in c:\\users\\user\\appdata\\local\\programs\\python\\python313\\lib\\site-packages (from nltk>=3.9->textblob) (4.67.1)\n",
      "Requirement already satisfied: colorama in c:\\users\\user\\appdata\\local\\programs\\python\\python313\\lib\\site-packages (from click->nltk>=3.9->textblob) (0.4.6)\n",
      "Note: you may need to restart the kernel to use updated packages.\n"
     ]
    }
   ],
   "source": [
    "pip install textblob"
   ]
  },
  {
   "cell_type": "code",
   "execution_count": 9,
   "id": "78703981-9e56-4ecf-88a5-22643706b48d",
   "metadata": {},
   "outputs": [],
   "source": [
    "#checking conflicting reviews\n",
    "from textblob import TextBlob\n",
    "\n",
    "# Get sentiment polarity for each review (-1 = negative, 1 = positive)\n",
    "df['Polarity'] = df['Review'].apply(lambda x: TextBlob(x).sentiment.polarity)\n",
    "\n",
    "# Optional: classify sentiment direction\n",
    "def classify_sentiment(p):\n",
    "    if p > 0.2:\n",
    "        return 'positive'\n",
    "    elif p < -0.2:\n",
    "        return 'negative'\n",
    "    else:\n",
    "        return 'neutral'\n",
    "\n",
    "df['Sentiment'] = df['Polarity'].apply(classify_sentiment)"
   ]
  },
  {
   "cell_type": "code",
   "execution_count": 12,
   "id": "202ff33e-5cde-41e9-aa98-79e3252dec7a",
   "metadata": {},
   "outputs": [
    {
     "name": "stdout",
     "output_type": "stream",
     "text": [
      "Original size: 86136\n",
      "After removing conflicts: 83481\n"
     ]
    }
   ],
   "source": [
    "# Define conflict conditions\n",
    "conflict_mask = (\n",
    "    ((df['Rating'] >= 4) & (df['Sentiment'] == 'negative')) |\n",
    "    ((df['Rating'] <= 2) & (df['Sentiment'] == 'positive'))\n",
    ")\n",
    "\n",
    "# Get conflicting reviews for optional inspection\n",
    "conflicting_reviews = df[conflict_mask]\n",
    "\n",
    "# Remove conflicting reviews\n",
    "cleaned_df = df[~conflict_mask].reset_index(drop=True)\n",
    "\n",
    "print(\"Original size:\", len(df))\n",
    "print(\"After removing conflicts:\", len(cleaned_df))\n"
   ]
  },
  {
   "cell_type": "code",
   "execution_count": 13,
   "id": "1ca76748-a74b-4b37-922c-ff99a7f699ea",
   "metadata": {},
   "outputs": [
    {
     "data": {
      "text/html": [
       "<div>\n",
       "<style scoped>\n",
       "    .dataframe tbody tr th:only-of-type {\n",
       "        vertical-align: middle;\n",
       "    }\n",
       "\n",
       "    .dataframe tbody tr th {\n",
       "        vertical-align: top;\n",
       "    }\n",
       "\n",
       "    .dataframe thead th {\n",
       "        text-align: right;\n",
       "    }\n",
       "</style>\n",
       "<table border=\"1\" class=\"dataframe\">\n",
       "  <thead>\n",
       "    <tr style=\"text-align: right;\">\n",
       "      <th></th>\n",
       "      <th>Unnamed: 0</th>\n",
       "      <th>Review Text</th>\n",
       "      <th>Rating</th>\n",
       "      <th>Review</th>\n",
       "      <th>Polarity</th>\n",
       "      <th>Sentiment</th>\n",
       "    </tr>\n",
       "  </thead>\n",
       "  <tbody>\n",
       "    <tr>\n",
       "      <th>0</th>\n",
       "      <td>0</td>\n",
       "      <td>Not great speakers</td>\n",
       "      <td>3.0</td>\n",
       "      <td>not great speakers</td>\n",
       "      <td>-0.40000</td>\n",
       "      <td>negative</td>\n",
       "    </tr>\n",
       "    <tr>\n",
       "      <th>1</th>\n",
       "      <td>1</td>\n",
       "      <td>Great little gagit</td>\n",
       "      <td>4.0</td>\n",
       "      <td>great little gagit</td>\n",
       "      <td>0.30625</td>\n",
       "      <td>positive</td>\n",
       "    </tr>\n",
       "    <tr>\n",
       "      <th>2</th>\n",
       "      <td>2</td>\n",
       "      <td>Awesome 👏🏽</td>\n",
       "      <td>5.0</td>\n",
       "      <td>awesome</td>\n",
       "      <td>1.00000</td>\n",
       "      <td>positive</td>\n",
       "    </tr>\n",
       "    <tr>\n",
       "      <th>3</th>\n",
       "      <td>3</td>\n",
       "      <td>Love my Echo</td>\n",
       "      <td>5.0</td>\n",
       "      <td>love my echo</td>\n",
       "      <td>0.50000</td>\n",
       "      <td>positive</td>\n",
       "    </tr>\n",
       "    <tr>\n",
       "      <th>4</th>\n",
       "      <td>4</td>\n",
       "      <td>Great device</td>\n",
       "      <td>5.0</td>\n",
       "      <td>great device</td>\n",
       "      <td>0.80000</td>\n",
       "      <td>positive</td>\n",
       "    </tr>\n",
       "  </tbody>\n",
       "</table>\n",
       "</div>"
      ],
      "text/plain": [
       "   Unnamed: 0         Review Text  Rating              Review  Polarity  \\\n",
       "0           0  Not great speakers     3.0  not great speakers  -0.40000   \n",
       "1           1  Great little gagit     4.0  great little gagit   0.30625   \n",
       "2           2          Awesome 👏🏽     5.0             awesome   1.00000   \n",
       "3           3        Love my Echo     5.0        love my echo   0.50000   \n",
       "4           4        Great device     5.0        great device   0.80000   \n",
       "\n",
       "  Sentiment  \n",
       "0  negative  \n",
       "1  positive  \n",
       "2  positive  \n",
       "3  positive  \n",
       "4  positive  "
      ]
     },
     "execution_count": 13,
     "metadata": {},
     "output_type": "execute_result"
    }
   ],
   "source": [
    "#view\n",
    "cleaned_df.head()"
   ]
  },
  {
   "cell_type": "code",
   "execution_count": 14,
   "id": "88308c4d-761c-42e9-998b-bf4d21320700",
   "metadata": {},
   "outputs": [],
   "source": [
    "#drop unnecessary columns\n",
    "cleaned_df.drop(['Unnamed: 0','Review Text','Polarity','Sentiment'],axis=1,inplace=True)"
   ]
  },
  {
   "cell_type": "code",
   "execution_count": 15,
   "id": "be1b1b95-3219-4120-8688-328c15b45b5c",
   "metadata": {},
   "outputs": [
    {
     "data": {
      "text/html": [
       "<div>\n",
       "<style scoped>\n",
       "    .dataframe tbody tr th:only-of-type {\n",
       "        vertical-align: middle;\n",
       "    }\n",
       "\n",
       "    .dataframe tbody tr th {\n",
       "        vertical-align: top;\n",
       "    }\n",
       "\n",
       "    .dataframe thead th {\n",
       "        text-align: right;\n",
       "    }\n",
       "</style>\n",
       "<table border=\"1\" class=\"dataframe\">\n",
       "  <thead>\n",
       "    <tr style=\"text-align: right;\">\n",
       "      <th></th>\n",
       "      <th>Rating</th>\n",
       "      <th>Review</th>\n",
       "    </tr>\n",
       "  </thead>\n",
       "  <tbody>\n",
       "    <tr>\n",
       "      <th>0</th>\n",
       "      <td>3.0</td>\n",
       "      <td>not great speakers</td>\n",
       "    </tr>\n",
       "    <tr>\n",
       "      <th>1</th>\n",
       "      <td>4.0</td>\n",
       "      <td>great little gagit</td>\n",
       "    </tr>\n",
       "    <tr>\n",
       "      <th>2</th>\n",
       "      <td>5.0</td>\n",
       "      <td>awesome</td>\n",
       "    </tr>\n",
       "    <tr>\n",
       "      <th>3</th>\n",
       "      <td>5.0</td>\n",
       "      <td>love my echo</td>\n",
       "    </tr>\n",
       "    <tr>\n",
       "      <th>4</th>\n",
       "      <td>5.0</td>\n",
       "      <td>great device</td>\n",
       "    </tr>\n",
       "  </tbody>\n",
       "</table>\n",
       "</div>"
      ],
      "text/plain": [
       "   Rating              Review\n",
       "0     3.0  not great speakers\n",
       "1     4.0  great little gagit\n",
       "2     5.0             awesome\n",
       "3     5.0        love my echo\n",
       "4     5.0        great device"
      ]
     },
     "execution_count": 15,
     "metadata": {},
     "output_type": "execute_result"
    }
   ],
   "source": [
    "#view\n",
    "cleaned_df.head()"
   ]
  },
  {
   "cell_type": "code",
   "execution_count": 16,
   "id": "72f759ae-5ab5-47d0-97be-76105ba5176d",
   "metadata": {},
   "outputs": [
    {
     "data": {
      "text/plain": [
       "Rating\n",
       "1.0     7638\n",
       "2.0     3277\n",
       "3.0     7786\n",
       "4.0    17244\n",
       "5.0    47536\n",
       "Name: count, dtype: int64"
      ]
     },
     "execution_count": 16,
     "metadata": {},
     "output_type": "execute_result"
    }
   ],
   "source": [
    "#rating class distribution\n",
    "cleaned_df['Rating'].value_counts().sort_index()"
   ]
  },
  {
   "cell_type": "code",
   "execution_count": 17,
   "id": "84765a20-0dc7-4f54-a1e6-a65e988bf3a4",
   "metadata": {},
   "outputs": [
    {
     "name": "stdout",
     "output_type": "stream",
     "text": [
      "Rating\n",
      "4.0    3000\n",
      "3.0    3000\n",
      "5.0    3000\n",
      "1.0    3000\n",
      "2.0    3000\n",
      "Name: count, dtype: int64\n"
     ]
    }
   ],
   "source": [
    "# Desired sample count\n",
    "target_count = 3000\n",
    "\n",
    "# List to hold balanced chunks\n",
    "balanced_chunks = []\n",
    "\n",
    "# For each rating from 1.0 to 5.0\n",
    "for rating in sorted(cleaned_df['Rating'].unique()):\n",
    "    subset = cleaned_df[cleaned_df['Rating'] == rating]\n",
    "    \n",
    "    # If more than target_count, undersample\n",
    "    if len(subset) >= target_count:\n",
    "        subset = subset.sample(target_count, random_state=42)\n",
    "    \n",
    "    balanced_chunks.append(subset)\n",
    "\n",
    "# Combine all chunks\n",
    "balanced_df = pd.concat(balanced_chunks, ignore_index=True)\n",
    "\n",
    "# Shuffle the result\n",
    "balanced_df = balanced_df.sample(frac=1, random_state=42).reset_index(drop=True)\n",
    "\n",
    "# Check the new distribution\n",
    "print(balanced_df['Rating'].value_counts())\n"
   ]
  },
  {
   "cell_type": "code",
   "execution_count": 18,
   "id": "4082acef-8704-459f-a9c0-1cd4280c06b5",
   "metadata": {},
   "outputs": [
    {
     "data": {
      "text/html": [
       "<div>\n",
       "<style scoped>\n",
       "    .dataframe tbody tr th:only-of-type {\n",
       "        vertical-align: middle;\n",
       "    }\n",
       "\n",
       "    .dataframe tbody tr th {\n",
       "        vertical-align: top;\n",
       "    }\n",
       "\n",
       "    .dataframe thead th {\n",
       "        text-align: right;\n",
       "    }\n",
       "</style>\n",
       "<table border=\"1\" class=\"dataframe\">\n",
       "  <thead>\n",
       "    <tr style=\"text-align: right;\">\n",
       "      <th></th>\n",
       "      <th>Rating</th>\n",
       "      <th>Review</th>\n",
       "    </tr>\n",
       "  </thead>\n",
       "  <tbody>\n",
       "    <tr>\n",
       "      <th>0</th>\n",
       "      <td>4.0</td>\n",
       "      <td>its been a great entry point for our family in...</td>\n",
       "    </tr>\n",
       "    <tr>\n",
       "      <th>1</th>\n",
       "      <td>3.0</td>\n",
       "      <td>it is great to be able to connect to my larger...</td>\n",
       "    </tr>\n",
       "    <tr>\n",
       "      <th>2</th>\n",
       "      <td>5.0</td>\n",
       "      <td>there is nothing to complain about this product</td>\n",
       "    </tr>\n",
       "    <tr>\n",
       "      <th>3</th>\n",
       "      <td>1.0</td>\n",
       "      <td>i bought two of the gb sandisk ultra microsdhc...</td>\n",
       "    </tr>\n",
       "    <tr>\n",
       "      <th>4</th>\n",
       "      <td>2.0</td>\n",
       "      <td>terrible sound quality i dont have much idea a...</td>\n",
       "    </tr>\n",
       "  </tbody>\n",
       "</table>\n",
       "</div>"
      ],
      "text/plain": [
       "   Rating                                             Review\n",
       "0     4.0  its been a great entry point for our family in...\n",
       "1     3.0  it is great to be able to connect to my larger...\n",
       "2     5.0    there is nothing to complain about this product\n",
       "3     1.0  i bought two of the gb sandisk ultra microsdhc...\n",
       "4     2.0  terrible sound quality i dont have much idea a..."
      ]
     },
     "execution_count": 18,
     "metadata": {},
     "output_type": "execute_result"
    }
   ],
   "source": [
    "#view\n",
    "balanced_df.head()"
   ]
  },
  {
   "cell_type": "code",
   "execution_count": null,
   "id": "a91671ad-3645-45c8-b44b-3b62cc014631",
   "metadata": {},
   "outputs": [],
   "source": []
  },
  {
   "cell_type": "code",
   "execution_count": 19,
   "id": "db2e36d0-a6fa-4229-939d-cc38a8539075",
   "metadata": {},
   "outputs": [
    {
     "data": {
      "text/plain": [
       "Rating    0\n",
       "Review    0\n",
       "dtype: int64"
      ]
     },
     "execution_count": 19,
     "metadata": {},
     "output_type": "execute_result"
    }
   ],
   "source": [
    "#check foor nulls\n",
    "balanced_df.isnull().sum()"
   ]
  },
  {
   "cell_type": "code",
   "execution_count": 20,
   "id": "7f1551e9-88ae-4ad2-9228-6cfd33c08a3d",
   "metadata": {},
   "outputs": [
    {
     "data": {
      "text/plain": [
       "np.int64(71)"
      ]
     },
     "execution_count": 20,
     "metadata": {},
     "output_type": "execute_result"
    }
   ],
   "source": [
    "#check for duplicates\n",
    "balanced_df.duplicated().sum()"
   ]
  },
  {
   "cell_type": "code",
   "execution_count": 21,
   "id": "3f4210e4-7b6a-4525-96b8-9d89d68a6fd2",
   "metadata": {},
   "outputs": [],
   "source": [
    "#remove duplicates\n",
    "balanced_df.drop_duplicates(inplace=True)"
   ]
  },
  {
   "cell_type": "code",
   "execution_count": 22,
   "id": "b029f4ad-ea7f-4a98-885d-d4ce7aad85b3",
   "metadata": {},
   "outputs": [
    {
     "name": "stdout",
     "output_type": "stream",
     "text": [
      "Rating\n",
      "2.0    2997\n",
      "3.0    2986\n",
      "4.0    2983\n",
      "1.0    2982\n",
      "5.0    2981\n",
      "Name: count, dtype: int64\n"
     ]
    }
   ],
   "source": [
    "# Check the new distribution\n",
    "print(balanced_df['Rating'].value_counts())"
   ]
  },
  {
   "cell_type": "code",
   "execution_count": 23,
   "id": "fd94c723-b6b5-47bc-a9f3-dd5cb9337bf7",
   "metadata": {},
   "outputs": [],
   "source": [
    "balanced_df.to_csv('balanced_data_1.csv')"
   ]
  },
  {
   "cell_type": "code",
   "execution_count": 24,
   "id": "ea2d2d47-4840-44ab-aa08-a94dfabe0d22",
   "metadata": {},
   "outputs": [
    {
     "data": {
      "image/png": "[encoded data removed]",
      "text/plain": [
       "<Figure size 640x480 with 1 Axes>"
      ]
     },
     "metadata": {},
     "output_type": "display_data"
    }
   ],
   "source": [
    "import matplotlib.pyplot as plt\n",
    "#histogram of rating\n",
    "plt.hist(balanced_df['Rating'],bins=30)\n",
    "plt.title('Histogram-Ratings')\n",
    "plt.show()"
   ]
  },
  {
   "cell_type": "code",
   "execution_count": 25,
   "id": "c9b6afaf-9c13-4c4f-b14c-3859b58eca85",
   "metadata": {},
   "outputs": [
    {
     "data": {
      "image/png": "[encoded data removed]",
      "text/plain": [
       "<Figure size 640x480 with 1 Axes>"
      ]
     },
     "metadata": {},
     "output_type": "display_data"
    }
   ],
   "source": [
    "#pie chart\n",
    "rating_counts = balanced_df['Rating'].value_counts().sort_index()\n",
    "plt.pie(rating_counts, labels=rating_counts.index, autopct='%1.1f%%')\n",
    "plt.title(\"Pie Chart\")\n",
    "plt.show()"
   ]
  },
  {
   "cell_type": "code",
   "execution_count": 26,
   "id": "bb509553-b9e3-4493-8fa7-2f77a600292e",
   "metadata": {},
   "outputs": [
    {
     "data": {
      "image/png": "[encoded data removed]",
      "text/plain": [
       "<Figure size 640x480 with 1 Axes>"
      ]
     },
     "metadata": {},
     "output_type": "display_data"
    }
   ],
   "source": [
    "import seaborn as sns\n",
    "#Count plot (for categorical data)\n",
    "sns.countplot(x='Rating', data=balanced_df)\n",
    "plt.title(\"Rating Class Count\")\n",
    "plt.show()"
   ]
  },
  {
   "cell_type": "code",
   "execution_count": null,
   "id": "316acb5b-f387-4032-a46e-99de8c51a8b6",
   "metadata": {},
   "outputs": [],
   "source": []
  },
  {
   "cell_type": "code",
   "execution_count": null,
   "id": "231efb3d-bf35-4b0f-8623-91fa67a9d443",
   "metadata": {},
   "outputs": [],
   "source": []
  },
  {
   "cell_type": "code",
   "execution_count": null,
   "id": "549d7e5c-dcae-47fc-b234-e7d77eec64db",
   "metadata": {},
   "outputs": [],
   "source": []
  },
  {
   "cell_type": "code",
   "execution_count": null,
   "id": "ddf8832f-2d85-4c88-96c0-709bcf123e92",
   "metadata": {},
   "outputs": [],
   "source": []
  },
  {
   "cell_type": "code",
   "execution_count": null,
   "id": "af3477ea-e136-4f55-bb5d-39fa80cb781d",
   "metadata": {},
   "outputs": [],
   "source": []
  }
 ],
 "metadata": {
  "kernelspec": {
   "display_name": "Python 3 (ipykernel)",
   "language": "python",
   "name": "python3"
  },
  "language_info": {
   "codemirror_mode": {
    "name": "ipython",
    "version": 3
   },
   "file_extension": ".py",
   "mimetype": "text/x-python",
   "name": "python",
   "nbconvert_exporter": "python",
   "pygments_lexer": "ipython3",
   "version": "3.13.2"
  }
 },
 "nbformat": 4,
 "nbformat_minor": 5
}
