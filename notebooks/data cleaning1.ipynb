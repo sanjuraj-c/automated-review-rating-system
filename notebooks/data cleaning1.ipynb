{
 "cells": [
  {
   "cell_type": "code",
   "execution_count": 2,
   "id": "6092868e-3ecb-4a10-9894-01ee6cd00662",
   "metadata": {},
   "outputs": [],
   "source": [
    "import pandas as pd"
   ]
  },
  {
   "cell_type": "code",
   "execution_count": 3,
   "id": "d9812f9a-4350-4f32-8d05-65b0510e308e",
   "metadata": {},
   "outputs": [],
   "source": [
    "#load data\n",
    "df1=pd.read_csv('Amazon Echo 2 Reviews.csv')"
   ]
  },
  {
   "cell_type": "code",
   "execution_count": 4,
   "id": "8d6777c5-0fd7-4303-8ac5-49c09809ecf9",
   "metadata": {},
   "outputs": [
    {
     "data": {
      "text/html": [
       "<div>\n",
       "<style scoped>\n",
       "    .dataframe tbody tr th:only-of-type {\n",
       "        vertical-align: middle;\n",
       "    }\n",
       "\n",
       "    .dataframe tbody tr th {\n",
       "        vertical-align: top;\n",
       "    }\n",
       "\n",
       "    .dataframe thead th {\n",
       "        text-align: right;\n",
       "    }\n",
       "</style>\n",
       "<table border=\"1\" class=\"dataframe\">\n",
       "  <thead>\n",
       "    <tr style=\"text-align: right;\">\n",
       "      <th></th>\n",
       "      <th>Pageurl</th>\n",
       "      <th>Title</th>\n",
       "      <th>Review Text</th>\n",
       "      <th>Review Color</th>\n",
       "      <th>User Verified</th>\n",
       "      <th>Review Date</th>\n",
       "      <th>Review Useful Count</th>\n",
       "      <th>Configuration Text</th>\n",
       "      <th>Rating</th>\n",
       "      <th>Declaration Text</th>\n",
       "    </tr>\n",
       "  </thead>\n",
       "  <tbody>\n",
       "    <tr>\n",
       "      <th>0</th>\n",
       "      <td>https://www.amazon.com/All-New-Amazon-Echo-Dot...</td>\n",
       "      <td>Three Stars</td>\n",
       "      <td>Not great speakers</td>\n",
       "      <td>Black</td>\n",
       "      <td>Verified Purchase</td>\n",
       "      <td>10/3/2017</td>\n",
       "      <td>NaN</td>\n",
       "      <td>Echo Dot</td>\n",
       "      <td>3</td>\n",
       "      <td>NaN</td>\n",
       "    </tr>\n",
       "    <tr>\n",
       "      <th>1</th>\n",
       "      <td>https://www.amazon.com/All-New-Amazon-Echo-Dot...</td>\n",
       "      <td>Four Stars</td>\n",
       "      <td>Great little gagit</td>\n",
       "      <td>White</td>\n",
       "      <td>Verified Purchase</td>\n",
       "      <td>9/26/2017</td>\n",
       "      <td>NaN</td>\n",
       "      <td>Echo Dot</td>\n",
       "      <td>4</td>\n",
       "      <td>NaN</td>\n",
       "    </tr>\n",
       "    <tr>\n",
       "      <th>2</th>\n",
       "      <td>https://www.amazon.com/All-New-Amazon-Echo-Dot...</td>\n",
       "      <td>Awesome!</td>\n",
       "      <td>Awesome 👏🏽</td>\n",
       "      <td>White</td>\n",
       "      <td>Verified Purchase</td>\n",
       "      <td>9/8/2017</td>\n",
       "      <td>NaN</td>\n",
       "      <td>Echo Dot</td>\n",
       "      <td>5</td>\n",
       "      <td>NaN</td>\n",
       "    </tr>\n",
       "    <tr>\n",
       "      <th>3</th>\n",
       "      <td>https://www.amazon.com/All-New-Amazon-Echo-Dot...</td>\n",
       "      <td>Five Stars</td>\n",
       "      <td>Love my Echo</td>\n",
       "      <td>Black</td>\n",
       "      <td>Verified Purchase</td>\n",
       "      <td>10/19/2017</td>\n",
       "      <td>NaN</td>\n",
       "      <td>Echo Dot</td>\n",
       "      <td>5</td>\n",
       "      <td>NaN</td>\n",
       "    </tr>\n",
       "    <tr>\n",
       "      <th>4</th>\n",
       "      <td>https://www.amazon.com/All-New-Amazon-Echo-Dot...</td>\n",
       "      <td>Five Stars</td>\n",
       "      <td>Great device</td>\n",
       "      <td>Black</td>\n",
       "      <td>Verified Purchase</td>\n",
       "      <td>9/17/2017</td>\n",
       "      <td>NaN</td>\n",
       "      <td>Echo Dot</td>\n",
       "      <td>5</td>\n",
       "      <td>NaN</td>\n",
       "    </tr>\n",
       "  </tbody>\n",
       "</table>\n",
       "</div>"
      ],
      "text/plain": [
       "                                             Pageurl        Title  \\\n",
       "0  https://www.amazon.com/All-New-Amazon-Echo-Dot...  Three Stars   \n",
       "1  https://www.amazon.com/All-New-Amazon-Echo-Dot...   Four Stars   \n",
       "2  https://www.amazon.com/All-New-Amazon-Echo-Dot...     Awesome!   \n",
       "3  https://www.amazon.com/All-New-Amazon-Echo-Dot...   Five Stars   \n",
       "4  https://www.amazon.com/All-New-Amazon-Echo-Dot...   Five Stars   \n",
       "\n",
       "          Review Text Review Color      User Verified Review Date  \\\n",
       "0  Not great speakers        Black  Verified Purchase   10/3/2017   \n",
       "1  Great little gagit        White  Verified Purchase   9/26/2017   \n",
       "2          Awesome 👏🏽        White  Verified Purchase    9/8/2017   \n",
       "3        Love my Echo        Black  Verified Purchase  10/19/2017   \n",
       "4        Great device        Black  Verified Purchase   9/17/2017   \n",
       "\n",
       "   Review Useful Count Configuration Text  Rating Declaration Text  \n",
       "0                  NaN           Echo Dot       3              NaN  \n",
       "1                  NaN           Echo Dot       4              NaN  \n",
       "2                  NaN           Echo Dot       5              NaN  \n",
       "3                  NaN           Echo Dot       5              NaN  \n",
       "4                  NaN           Echo Dot       5              NaN  "
      ]
     },
     "execution_count": 4,
     "metadata": {},
     "output_type": "execute_result"
    }
   ],
   "source": [
    "#view\n",
    "df1.head()"
   ]
  },
  {
   "cell_type": "code",
   "execution_count": 5,
   "id": "4ffe2e8b-b800-4ec3-a3ee-74efd37ba22c",
   "metadata": {},
   "outputs": [
    {
     "data": {
      "text/html": [
       "<div>\n",
       "<style scoped>\n",
       "    .dataframe tbody tr th:only-of-type {\n",
       "        vertical-align: middle;\n",
       "    }\n",
       "\n",
       "    .dataframe tbody tr th {\n",
       "        vertical-align: top;\n",
       "    }\n",
       "\n",
       "    .dataframe thead th {\n",
       "        text-align: right;\n",
       "    }\n",
       "</style>\n",
       "<table border=\"1\" class=\"dataframe\">\n",
       "  <thead>\n",
       "    <tr style=\"text-align: right;\">\n",
       "      <th></th>\n",
       "      <th>Pageurl</th>\n",
       "      <th>Title</th>\n",
       "      <th>Review Text</th>\n",
       "      <th>Review Color</th>\n",
       "      <th>User Verified</th>\n",
       "      <th>Review Date</th>\n",
       "      <th>Review Useful Count</th>\n",
       "      <th>Configuration Text</th>\n",
       "      <th>Rating</th>\n",
       "      <th>Declaration Text</th>\n",
       "    </tr>\n",
       "  </thead>\n",
       "  <tbody>\n",
       "    <tr>\n",
       "      <th>6850</th>\n",
       "      <td>https://www.amazon.com/All-New-Amazon-Echo-Dot...</td>\n",
       "      <td>In love with Alexa!!</td>\n",
       "      <td>This is so much fun! I love her.</td>\n",
       "      <td>Black</td>\n",
       "      <td>Verified Purchase</td>\n",
       "      <td>9/17/2017</td>\n",
       "      <td>NaN</td>\n",
       "      <td>Echo Dot</td>\n",
       "      <td>5</td>\n",
       "      <td>NaN</td>\n",
       "    </tr>\n",
       "    <tr>\n",
       "      <th>6851</th>\n",
       "      <td>https://www.amazon.com/All-New-Amazon-Echo-Dot...</td>\n",
       "      <td>Five Stars</td>\n",
       "      <td>I'm having a lot of fun with it.</td>\n",
       "      <td>White</td>\n",
       "      <td>Verified Purchase</td>\n",
       "      <td>9/16/2017</td>\n",
       "      <td>NaN</td>\n",
       "      <td>Echo Dot</td>\n",
       "      <td>5</td>\n",
       "      <td>NaN</td>\n",
       "    </tr>\n",
       "    <tr>\n",
       "      <th>6852</th>\n",
       "      <td>https://www.amazon.com/All-New-Amazon-Echo-Dot...</td>\n",
       "      <td>We would still like to exchange for something ...</td>\n",
       "      <td>I bought this as a gift for my husband and he ...</td>\n",
       "      <td>Black</td>\n",
       "      <td>Verified Purchase</td>\n",
       "      <td>9/26/2017</td>\n",
       "      <td>NaN</td>\n",
       "      <td>Echo Dot</td>\n",
       "      <td>3</td>\n",
       "      <td>NaN</td>\n",
       "    </tr>\n",
       "    <tr>\n",
       "      <th>6853</th>\n",
       "      <td>https://www.amazon.com/All-New-Amazon-Echo-Dot...</td>\n",
       "      <td>Simply fabulous!</td>\n",
       "      <td>I have now set Alexa up to control lights in m...</td>\n",
       "      <td>Black</td>\n",
       "      <td>Verified Purchase</td>\n",
       "      <td>9/27/2017</td>\n",
       "      <td>NaN</td>\n",
       "      <td>Echo Dot</td>\n",
       "      <td>5</td>\n",
       "      <td>NaN</td>\n",
       "    </tr>\n",
       "    <tr>\n",
       "      <th>6854</th>\n",
       "      <td>https://www.amazon.com/All-New-Amazon-Echo-Dot...</td>\n",
       "      <td>Bummer, didnt even make it through its voice t...</td>\n",
       "      <td>What a shame, I tried one my friend has and wa...</td>\n",
       "      <td>Black</td>\n",
       "      <td>Verified Purchase</td>\n",
       "      <td>9/12/2017</td>\n",
       "      <td>NaN</td>\n",
       "      <td>Echo Dot</td>\n",
       "      <td>2</td>\n",
       "      <td>NaN</td>\n",
       "    </tr>\n",
       "  </tbody>\n",
       "</table>\n",
       "</div>"
      ],
      "text/plain": [
       "                                                Pageurl  \\\n",
       "6850  https://www.amazon.com/All-New-Amazon-Echo-Dot...   \n",
       "6851  https://www.amazon.com/All-New-Amazon-Echo-Dot...   \n",
       "6852  https://www.amazon.com/All-New-Amazon-Echo-Dot...   \n",
       "6853  https://www.amazon.com/All-New-Amazon-Echo-Dot...   \n",
       "6854  https://www.amazon.com/All-New-Amazon-Echo-Dot...   \n",
       "\n",
       "                                                  Title  \\\n",
       "6850                               In love with Alexa!!   \n",
       "6851                                         Five Stars   \n",
       "6852  We would still like to exchange for something ...   \n",
       "6853                                   Simply fabulous!   \n",
       "6854  Bummer, didnt even make it through its voice t...   \n",
       "\n",
       "                                            Review Text Review Color  \\\n",
       "6850                   This is so much fun! I love her.        Black   \n",
       "6851                   I'm having a lot of fun with it.        White   \n",
       "6852  I bought this as a gift for my husband and he ...        Black   \n",
       "6853  I have now set Alexa up to control lights in m...        Black   \n",
       "6854  What a shame, I tried one my friend has and wa...        Black   \n",
       "\n",
       "          User Verified Review Date  Review Useful Count Configuration Text  \\\n",
       "6850  Verified Purchase   9/17/2017                  NaN           Echo Dot   \n",
       "6851  Verified Purchase   9/16/2017                  NaN           Echo Dot   \n",
       "6852  Verified Purchase   9/26/2017                  NaN           Echo Dot   \n",
       "6853  Verified Purchase   9/27/2017                  NaN           Echo Dot   \n",
       "6854  Verified Purchase   9/12/2017                  NaN           Echo Dot   \n",
       "\n",
       "      Rating Declaration Text  \n",
       "6850       5              NaN  \n",
       "6851       5              NaN  \n",
       "6852       3              NaN  \n",
       "6853       5              NaN  \n",
       "6854       2              NaN  "
      ]
     },
     "execution_count": 5,
     "metadata": {},
     "output_type": "execute_result"
    }
   ],
   "source": [
    "df1.tail()"
   ]
  },
  {
   "cell_type": "code",
   "execution_count": 6,
   "id": "fd7f6c1b-f867-45d9-9928-fec96db76495",
   "metadata": {},
   "outputs": [
    {
     "data": {
      "text/plain": [
       "(6855, 10)"
      ]
     },
     "execution_count": 6,
     "metadata": {},
     "output_type": "execute_result"
    }
   ],
   "source": [
    "#inspect\n",
    "df1.shape"
   ]
  },
  {
   "cell_type": "code",
   "execution_count": 7,
   "id": "280434fa-a028-484a-87f5-53b4ceff1a7a",
   "metadata": {},
   "outputs": [
    {
     "data": {
      "text/plain": [
       "Index(['Pageurl', 'Title', 'Review Text', 'Review Color', 'User Verified',\n",
       "       'Review Date', 'Review Useful Count', 'Configuration Text', 'Rating',\n",
       "       'Declaration Text'],\n",
       "      dtype='object')"
      ]
     },
     "execution_count": 7,
     "metadata": {},
     "output_type": "execute_result"
    }
   ],
   "source": [
    "df1.columns"
   ]
  },
  {
   "cell_type": "code",
   "execution_count": 8,
   "id": "8307acc9-ae90-4b7c-8c5b-9908d8e571e3",
   "metadata": {},
   "outputs": [
    {
     "name": "stdout",
     "output_type": "stream",
     "text": [
      "<class 'pandas.core.frame.DataFrame'>\n",
      "RangeIndex: 6855 entries, 0 to 6854\n",
      "Data columns (total 10 columns):\n",
      " #   Column               Non-Null Count  Dtype  \n",
      "---  ------               --------------  -----  \n",
      " 0   Pageurl              6855 non-null   object \n",
      " 1   Title                6855 non-null   object \n",
      " 2   Review Text          6850 non-null   object \n",
      " 3   Review Color         6855 non-null   object \n",
      " 4   User Verified        6641 non-null   object \n",
      " 5   Review Date          6855 non-null   object \n",
      " 6   Review Useful Count  28 non-null     float64\n",
      " 7   Configuration Text   6855 non-null   object \n",
      " 8   Rating               6855 non-null   int64  \n",
      " 9   Declaration Text     6 non-null      object \n",
      "dtypes: float64(1), int64(1), object(8)\n",
      "memory usage: 535.7+ KB\n"
     ]
    }
   ],
   "source": [
    "df1.info()"
   ]
  },
  {
   "cell_type": "code",
   "execution_count": 9,
   "id": "e3375a75-a22c-48f9-b050-6c98cc83133c",
   "metadata": {},
   "outputs": [
    {
     "data": {
      "text/html": [
       "<div>\n",
       "<style scoped>\n",
       "    .dataframe tbody tr th:only-of-type {\n",
       "        vertical-align: middle;\n",
       "    }\n",
       "\n",
       "    .dataframe tbody tr th {\n",
       "        vertical-align: top;\n",
       "    }\n",
       "\n",
       "    .dataframe thead th {\n",
       "        text-align: right;\n",
       "    }\n",
       "</style>\n",
       "<table border=\"1\" class=\"dataframe\">\n",
       "  <thead>\n",
       "    <tr style=\"text-align: right;\">\n",
       "      <th></th>\n",
       "      <th>Review Useful Count</th>\n",
       "      <th>Rating</th>\n",
       "    </tr>\n",
       "  </thead>\n",
       "  <tbody>\n",
       "    <tr>\n",
       "      <th>count</th>\n",
       "      <td>28.000000</td>\n",
       "      <td>6855.000000</td>\n",
       "    </tr>\n",
       "    <tr>\n",
       "      <th>mean</th>\n",
       "      <td>17.071429</td>\n",
       "      <td>4.207002</td>\n",
       "    </tr>\n",
       "    <tr>\n",
       "      <th>std</th>\n",
       "      <td>58.266265</td>\n",
       "      <td>1.272551</td>\n",
       "    </tr>\n",
       "    <tr>\n",
       "      <th>min</th>\n",
       "      <td>2.000000</td>\n",
       "      <td>1.000000</td>\n",
       "    </tr>\n",
       "    <tr>\n",
       "      <th>25%</th>\n",
       "      <td>2.000000</td>\n",
       "      <td>4.000000</td>\n",
       "    </tr>\n",
       "    <tr>\n",
       "      <th>50%</th>\n",
       "      <td>2.000000</td>\n",
       "      <td>5.000000</td>\n",
       "    </tr>\n",
       "    <tr>\n",
       "      <th>75%</th>\n",
       "      <td>2.000000</td>\n",
       "      <td>5.000000</td>\n",
       "    </tr>\n",
       "    <tr>\n",
       "      <th>max</th>\n",
       "      <td>284.000000</td>\n",
       "      <td>5.000000</td>\n",
       "    </tr>\n",
       "  </tbody>\n",
       "</table>\n",
       "</div>"
      ],
      "text/plain": [
       "       Review Useful Count       Rating\n",
       "count            28.000000  6855.000000\n",
       "mean             17.071429     4.207002\n",
       "std              58.266265     1.272551\n",
       "min               2.000000     1.000000\n",
       "25%               2.000000     4.000000\n",
       "50%               2.000000     5.000000\n",
       "75%               2.000000     5.000000\n",
       "max             284.000000     5.000000"
      ]
     },
     "execution_count": 9,
     "metadata": {},
     "output_type": "execute_result"
    }
   ],
   "source": [
    "df1.describe()"
   ]
  },
  {
   "cell_type": "code",
   "execution_count": 10,
   "id": "4be69a5f-839f-48a5-b09a-828b616a9bac",
   "metadata": {},
   "outputs": [
    {
     "data": {
      "text/plain": [
       "Pageurl                   0\n",
       "Title                     0\n",
       "Review Text               5\n",
       "Review Color              0\n",
       "User Verified           214\n",
       "Review Date               0\n",
       "Review Useful Count    6827\n",
       "Configuration Text        0\n",
       "Rating                    0\n",
       "Declaration Text       6849\n",
       "dtype: int64"
      ]
     },
     "execution_count": 10,
     "metadata": {},
     "output_type": "execute_result"
    }
   ],
   "source": [
    "#checking missing values\n",
    "df1.isnull().sum()"
   ]
  },
  {
   "cell_type": "code",
   "execution_count": 11,
   "id": "b2e7fcc6-3a53-4207-99a0-376222689549",
   "metadata": {},
   "outputs": [],
   "source": [
    "#dropping unneccesary columns with null values\n",
    "df1.drop(['User Verified','Review Useful Count','Declaration Text'],axis=1,inplace=True)"
   ]
  },
  {
   "cell_type": "code",
   "execution_count": 12,
   "id": "51dcdd68-f67c-4dfd-bab9-cffda32b3460",
   "metadata": {},
   "outputs": [
    {
     "data": {
      "text/html": [
       "<div>\n",
       "<style scoped>\n",
       "    .dataframe tbody tr th:only-of-type {\n",
       "        vertical-align: middle;\n",
       "    }\n",
       "\n",
       "    .dataframe tbody tr th {\n",
       "        vertical-align: top;\n",
       "    }\n",
       "\n",
       "    .dataframe thead th {\n",
       "        text-align: right;\n",
       "    }\n",
       "</style>\n",
       "<table border=\"1\" class=\"dataframe\">\n",
       "  <thead>\n",
       "    <tr style=\"text-align: right;\">\n",
       "      <th></th>\n",
       "      <th>Pageurl</th>\n",
       "      <th>Title</th>\n",
       "      <th>Review Text</th>\n",
       "      <th>Review Color</th>\n",
       "      <th>Review Date</th>\n",
       "      <th>Configuration Text</th>\n",
       "      <th>Rating</th>\n",
       "    </tr>\n",
       "  </thead>\n",
       "  <tbody>\n",
       "    <tr>\n",
       "      <th>0</th>\n",
       "      <td>https://www.amazon.com/All-New-Amazon-Echo-Dot...</td>\n",
       "      <td>Three Stars</td>\n",
       "      <td>Not great speakers</td>\n",
       "      <td>Black</td>\n",
       "      <td>10/3/2017</td>\n",
       "      <td>Echo Dot</td>\n",
       "      <td>3</td>\n",
       "    </tr>\n",
       "    <tr>\n",
       "      <th>1</th>\n",
       "      <td>https://www.amazon.com/All-New-Amazon-Echo-Dot...</td>\n",
       "      <td>Four Stars</td>\n",
       "      <td>Great little gagit</td>\n",
       "      <td>White</td>\n",
       "      <td>9/26/2017</td>\n",
       "      <td>Echo Dot</td>\n",
       "      <td>4</td>\n",
       "    </tr>\n",
       "    <tr>\n",
       "      <th>2</th>\n",
       "      <td>https://www.amazon.com/All-New-Amazon-Echo-Dot...</td>\n",
       "      <td>Awesome!</td>\n",
       "      <td>Awesome 👏🏽</td>\n",
       "      <td>White</td>\n",
       "      <td>9/8/2017</td>\n",
       "      <td>Echo Dot</td>\n",
       "      <td>5</td>\n",
       "    </tr>\n",
       "    <tr>\n",
       "      <th>3</th>\n",
       "      <td>https://www.amazon.com/All-New-Amazon-Echo-Dot...</td>\n",
       "      <td>Five Stars</td>\n",
       "      <td>Love my Echo</td>\n",
       "      <td>Black</td>\n",
       "      <td>10/19/2017</td>\n",
       "      <td>Echo Dot</td>\n",
       "      <td>5</td>\n",
       "    </tr>\n",
       "    <tr>\n",
       "      <th>4</th>\n",
       "      <td>https://www.amazon.com/All-New-Amazon-Echo-Dot...</td>\n",
       "      <td>Five Stars</td>\n",
       "      <td>Great device</td>\n",
       "      <td>Black</td>\n",
       "      <td>9/17/2017</td>\n",
       "      <td>Echo Dot</td>\n",
       "      <td>5</td>\n",
       "    </tr>\n",
       "  </tbody>\n",
       "</table>\n",
       "</div>"
      ],
      "text/plain": [
       "                                             Pageurl        Title  \\\n",
       "0  https://www.amazon.com/All-New-Amazon-Echo-Dot...  Three Stars   \n",
       "1  https://www.amazon.com/All-New-Amazon-Echo-Dot...   Four Stars   \n",
       "2  https://www.amazon.com/All-New-Amazon-Echo-Dot...     Awesome!   \n",
       "3  https://www.amazon.com/All-New-Amazon-Echo-Dot...   Five Stars   \n",
       "4  https://www.amazon.com/All-New-Amazon-Echo-Dot...   Five Stars   \n",
       "\n",
       "          Review Text Review Color Review Date Configuration Text  Rating  \n",
       "0  Not great speakers        Black   10/3/2017           Echo Dot       3  \n",
       "1  Great little gagit        White   9/26/2017           Echo Dot       4  \n",
       "2          Awesome 👏🏽        White    9/8/2017           Echo Dot       5  \n",
       "3        Love my Echo        Black  10/19/2017           Echo Dot       5  \n",
       "4        Great device        Black   9/17/2017           Echo Dot       5  "
      ]
     },
     "execution_count": 12,
     "metadata": {},
     "output_type": "execute_result"
    }
   ],
   "source": [
    "df1.head()"
   ]
  },
  {
   "cell_type": "code",
   "execution_count": 13,
   "id": "fbdedd5e-da5f-484f-855c-c9f848e172d1",
   "metadata": {},
   "outputs": [],
   "source": [
    "#dropping rows with nulls\n",
    "df1.dropna(inplace=True)"
   ]
  },
  {
   "cell_type": "code",
   "execution_count": 14,
   "id": "9e4252de-d3ee-4b46-8887-9f3e3b1b8bdd",
   "metadata": {},
   "outputs": [
    {
     "data": {
      "text/html": [
       "<div>\n",
       "<style scoped>\n",
       "    .dataframe tbody tr th:only-of-type {\n",
       "        vertical-align: middle;\n",
       "    }\n",
       "\n",
       "    .dataframe tbody tr th {\n",
       "        vertical-align: top;\n",
       "    }\n",
       "\n",
       "    .dataframe thead th {\n",
       "        text-align: right;\n",
       "    }\n",
       "</style>\n",
       "<table border=\"1\" class=\"dataframe\">\n",
       "  <thead>\n",
       "    <tr style=\"text-align: right;\">\n",
       "      <th></th>\n",
       "      <th>Pageurl</th>\n",
       "      <th>Title</th>\n",
       "      <th>Review Text</th>\n",
       "      <th>Review Color</th>\n",
       "      <th>Review Date</th>\n",
       "      <th>Configuration Text</th>\n",
       "      <th>Rating</th>\n",
       "    </tr>\n",
       "  </thead>\n",
       "  <tbody>\n",
       "    <tr>\n",
       "      <th>0</th>\n",
       "      <td>https://www.amazon.com/All-New-Amazon-Echo-Dot...</td>\n",
       "      <td>Three Stars</td>\n",
       "      <td>Not great speakers</td>\n",
       "      <td>Black</td>\n",
       "      <td>10/3/2017</td>\n",
       "      <td>Echo Dot</td>\n",
       "      <td>3</td>\n",
       "    </tr>\n",
       "    <tr>\n",
       "      <th>1</th>\n",
       "      <td>https://www.amazon.com/All-New-Amazon-Echo-Dot...</td>\n",
       "      <td>Four Stars</td>\n",
       "      <td>Great little gagit</td>\n",
       "      <td>White</td>\n",
       "      <td>9/26/2017</td>\n",
       "      <td>Echo Dot</td>\n",
       "      <td>4</td>\n",
       "    </tr>\n",
       "    <tr>\n",
       "      <th>2</th>\n",
       "      <td>https://www.amazon.com/All-New-Amazon-Echo-Dot...</td>\n",
       "      <td>Awesome!</td>\n",
       "      <td>Awesome 👏🏽</td>\n",
       "      <td>White</td>\n",
       "      <td>9/8/2017</td>\n",
       "      <td>Echo Dot</td>\n",
       "      <td>5</td>\n",
       "    </tr>\n",
       "    <tr>\n",
       "      <th>3</th>\n",
       "      <td>https://www.amazon.com/All-New-Amazon-Echo-Dot...</td>\n",
       "      <td>Five Stars</td>\n",
       "      <td>Love my Echo</td>\n",
       "      <td>Black</td>\n",
       "      <td>10/19/2017</td>\n",
       "      <td>Echo Dot</td>\n",
       "      <td>5</td>\n",
       "    </tr>\n",
       "    <tr>\n",
       "      <th>4</th>\n",
       "      <td>https://www.amazon.com/All-New-Amazon-Echo-Dot...</td>\n",
       "      <td>Five Stars</td>\n",
       "      <td>Great device</td>\n",
       "      <td>Black</td>\n",
       "      <td>9/17/2017</td>\n",
       "      <td>Echo Dot</td>\n",
       "      <td>5</td>\n",
       "    </tr>\n",
       "  </tbody>\n",
       "</table>\n",
       "</div>"
      ],
      "text/plain": [
       "                                             Pageurl        Title  \\\n",
       "0  https://www.amazon.com/All-New-Amazon-Echo-Dot...  Three Stars   \n",
       "1  https://www.amazon.com/All-New-Amazon-Echo-Dot...   Four Stars   \n",
       "2  https://www.amazon.com/All-New-Amazon-Echo-Dot...     Awesome!   \n",
       "3  https://www.amazon.com/All-New-Amazon-Echo-Dot...   Five Stars   \n",
       "4  https://www.amazon.com/All-New-Amazon-Echo-Dot...   Five Stars   \n",
       "\n",
       "          Review Text Review Color Review Date Configuration Text  Rating  \n",
       "0  Not great speakers        Black   10/3/2017           Echo Dot       3  \n",
       "1  Great little gagit        White   9/26/2017           Echo Dot       4  \n",
       "2          Awesome 👏🏽        White    9/8/2017           Echo Dot       5  \n",
       "3        Love my Echo        Black  10/19/2017           Echo Dot       5  \n",
       "4        Great device        Black   9/17/2017           Echo Dot       5  "
      ]
     },
     "execution_count": 14,
     "metadata": {},
     "output_type": "execute_result"
    }
   ],
   "source": [
    "df1.head()"
   ]
  },
  {
   "cell_type": "code",
   "execution_count": 15,
   "id": "23e6dd88-593b-43ad-a0d8-500ff3ae302c",
   "metadata": {},
   "outputs": [
    {
     "data": {
      "text/plain": [
       "np.int64(0)"
      ]
     },
     "execution_count": 15,
     "metadata": {},
     "output_type": "execute_result"
    }
   ],
   "source": [
    "#check for duplicates\n",
    "df1.duplicated().sum()"
   ]
  },
  {
   "cell_type": "code",
   "execution_count": 16,
   "id": "d58061b1-5614-46e6-9f77-1a830c76301c",
   "metadata": {},
   "outputs": [],
   "source": [
    "#dropping unneccesary columns \n",
    "df1.drop(['Pageurl','Title','Review Color','Configuration Text','Review Date'],axis=1,inplace=True)"
   ]
  },
  {
   "cell_type": "code",
   "execution_count": 17,
   "id": "b918ff4a-ced5-46db-b310-341eca2a4d63",
   "metadata": {},
   "outputs": [
    {
     "data": {
      "text/html": [
       "<div>\n",
       "<style scoped>\n",
       "    .dataframe tbody tr th:only-of-type {\n",
       "        vertical-align: middle;\n",
       "    }\n",
       "\n",
       "    .dataframe tbody tr th {\n",
       "        vertical-align: top;\n",
       "    }\n",
       "\n",
       "    .dataframe thead th {\n",
       "        text-align: right;\n",
       "    }\n",
       "</style>\n",
       "<table border=\"1\" class=\"dataframe\">\n",
       "  <thead>\n",
       "    <tr style=\"text-align: right;\">\n",
       "      <th></th>\n",
       "      <th>Review Text</th>\n",
       "      <th>Rating</th>\n",
       "    </tr>\n",
       "  </thead>\n",
       "  <tbody>\n",
       "    <tr>\n",
       "      <th>0</th>\n",
       "      <td>Not great speakers</td>\n",
       "      <td>3</td>\n",
       "    </tr>\n",
       "    <tr>\n",
       "      <th>1</th>\n",
       "      <td>Great little gagit</td>\n",
       "      <td>4</td>\n",
       "    </tr>\n",
       "    <tr>\n",
       "      <th>2</th>\n",
       "      <td>Awesome 👏🏽</td>\n",
       "      <td>5</td>\n",
       "    </tr>\n",
       "    <tr>\n",
       "      <th>3</th>\n",
       "      <td>Love my Echo</td>\n",
       "      <td>5</td>\n",
       "    </tr>\n",
       "    <tr>\n",
       "      <th>4</th>\n",
       "      <td>Great device</td>\n",
       "      <td>5</td>\n",
       "    </tr>\n",
       "  </tbody>\n",
       "</table>\n",
       "</div>"
      ],
      "text/plain": [
       "          Review Text  Rating\n",
       "0  Not great speakers       3\n",
       "1  Great little gagit       4\n",
       "2          Awesome 👏🏽       5\n",
       "3        Love my Echo       5\n",
       "4        Great device       5"
      ]
     },
     "execution_count": 17,
     "metadata": {},
     "output_type": "execute_result"
    }
   ],
   "source": [
    "df1.head()"
   ]
  },
  {
   "cell_type": "code",
   "execution_count": 18,
   "id": "1288a59e-7642-43d4-81d7-e26557e9fb2b",
   "metadata": {},
   "outputs": [],
   "source": [
    "#loading next data\n",
    "df2=pd.read_csv('Amazon Review Data Web Scrapping - Amazon Review Data Web Scrapping.csv')"
   ]
  },
  {
   "cell_type": "code",
   "execution_count": 19,
   "id": "442dc23d-c906-46a1-899f-da784ac26730",
   "metadata": {},
   "outputs": [
    {
     "data": {
      "text/html": [
       "<div>\n",
       "<style scoped>\n",
       "    .dataframe tbody tr th:only-of-type {\n",
       "        vertical-align: middle;\n",
       "    }\n",
       "\n",
       "    .dataframe tbody tr th {\n",
       "        vertical-align: top;\n",
       "    }\n",
       "\n",
       "    .dataframe thead th {\n",
       "        text-align: right;\n",
       "    }\n",
       "</style>\n",
       "<table border=\"1\" class=\"dataframe\">\n",
       "  <thead>\n",
       "    <tr style=\"text-align: right;\">\n",
       "      <th></th>\n",
       "      <th>Unique_ID</th>\n",
       "      <th>Category</th>\n",
       "      <th>Review_Header</th>\n",
       "      <th>Review_text</th>\n",
       "      <th>Rating</th>\n",
       "      <th>Own_Rating</th>\n",
       "    </tr>\n",
       "  </thead>\n",
       "  <tbody>\n",
       "    <tr>\n",
       "      <th>0</th>\n",
       "      <td>136040</td>\n",
       "      <td>smartTv</td>\n",
       "      <td>Nice one</td>\n",
       "      <td>I liked it</td>\n",
       "      <td>5</td>\n",
       "      <td>Positive</td>\n",
       "    </tr>\n",
       "    <tr>\n",
       "      <th>1</th>\n",
       "      <td>134236</td>\n",
       "      <td>mobile</td>\n",
       "      <td>Huge battery life with amazing display</td>\n",
       "      <td>I bought the phone on Amazon and been using my...</td>\n",
       "      <td>5</td>\n",
       "      <td>Positive</td>\n",
       "    </tr>\n",
       "    <tr>\n",
       "      <th>2</th>\n",
       "      <td>113945</td>\n",
       "      <td>books</td>\n",
       "      <td>Four Stars</td>\n",
       "      <td>Awesome book at reasonable price, must buy ......</td>\n",
       "      <td>4</td>\n",
       "      <td>Positive</td>\n",
       "    </tr>\n",
       "    <tr>\n",
       "      <th>3</th>\n",
       "      <td>168076</td>\n",
       "      <td>smartTv</td>\n",
       "      <td>Nice quality</td>\n",
       "      <td>good</td>\n",
       "      <td>5</td>\n",
       "      <td>Positive</td>\n",
       "    </tr>\n",
       "    <tr>\n",
       "      <th>4</th>\n",
       "      <td>157302</td>\n",
       "      <td>books</td>\n",
       "      <td>Nice book</td>\n",
       "      <td>The book is fine,not bad,contains nice concept...</td>\n",
       "      <td>3</td>\n",
       "      <td>Neutral</td>\n",
       "    </tr>\n",
       "  </tbody>\n",
       "</table>\n",
       "</div>"
      ],
      "text/plain": [
       "   Unique_ID Category                           Review_Header  \\\n",
       "0     136040  smartTv                                Nice one   \n",
       "1     134236   mobile  Huge battery life with amazing display   \n",
       "2     113945    books                              Four Stars   \n",
       "3     168076  smartTv                            Nice quality   \n",
       "4     157302    books                               Nice book   \n",
       "\n",
       "                                         Review_text  Rating Own_Rating  \n",
       "0                                         I liked it       5   Positive  \n",
       "1  I bought the phone on Amazon and been using my...       5   Positive  \n",
       "2  Awesome book at reasonable price, must buy ......       4   Positive  \n",
       "3                                               good       5   Positive  \n",
       "4  The book is fine,not bad,contains nice concept...       3    Neutral  "
      ]
     },
     "execution_count": 19,
     "metadata": {},
     "output_type": "execute_result"
    }
   ],
   "source": [
    "#view\n",
    "df2.head()"
   ]
  },
  {
   "cell_type": "code",
   "execution_count": 20,
   "id": "474fde5a-a23f-44ac-a7fc-110b35ee0f8b",
   "metadata": {},
   "outputs": [
    {
     "data": {
      "text/plain": [
       "(60889, 6)"
      ]
     },
     "execution_count": 20,
     "metadata": {},
     "output_type": "execute_result"
    }
   ],
   "source": [
    "#inspect\n",
    "df2.shape"
   ]
  },
  {
   "cell_type": "code",
   "execution_count": 21,
   "id": "e28a2f62-c08e-47e8-830d-168fa9804d96",
   "metadata": {},
   "outputs": [
    {
     "name": "stdout",
     "output_type": "stream",
     "text": [
      "<class 'pandas.core.frame.DataFrame'>\n",
      "RangeIndex: 60889 entries, 0 to 60888\n",
      "Data columns (total 6 columns):\n",
      " #   Column         Non-Null Count  Dtype \n",
      "---  ------         --------------  ----- \n",
      " 0   Unique_ID      60889 non-null  int64 \n",
      " 1   Category       60889 non-null  object\n",
      " 2   Review_Header  60884 non-null  object\n",
      " 3   Review_text    60857 non-null  object\n",
      " 4   Rating         60889 non-null  int64 \n",
      " 5   Own_Rating     60889 non-null  object\n",
      "dtypes: int64(2), object(4)\n",
      "memory usage: 2.8+ MB\n"
     ]
    }
   ],
   "source": [
    "df2.info()"
   ]
  },
  {
   "cell_type": "code",
   "execution_count": 22,
   "id": "512b9213-9e69-462f-8f08-18e41514966c",
   "metadata": {},
   "outputs": [
    {
     "data": {
      "text/html": [
       "<div>\n",
       "<style scoped>\n",
       "    .dataframe tbody tr th:only-of-type {\n",
       "        vertical-align: middle;\n",
       "    }\n",
       "\n",
       "    .dataframe tbody tr th {\n",
       "        vertical-align: top;\n",
       "    }\n",
       "\n",
       "    .dataframe thead th {\n",
       "        text-align: right;\n",
       "    }\n",
       "</style>\n",
       "<table border=\"1\" class=\"dataframe\">\n",
       "  <thead>\n",
       "    <tr style=\"text-align: right;\">\n",
       "      <th></th>\n",
       "      <th>Unique_ID</th>\n",
       "      <th>Rating</th>\n",
       "    </tr>\n",
       "  </thead>\n",
       "  <tbody>\n",
       "    <tr>\n",
       "      <th>count</th>\n",
       "      <td>60889.000000</td>\n",
       "      <td>60889.000000</td>\n",
       "    </tr>\n",
       "    <tr>\n",
       "      <th>mean</th>\n",
       "      <td>140444.000000</td>\n",
       "      <td>4.081148</td>\n",
       "    </tr>\n",
       "    <tr>\n",
       "      <th>std</th>\n",
       "      <td>17577.284607</td>\n",
       "      <td>1.342067</td>\n",
       "    </tr>\n",
       "    <tr>\n",
       "      <th>min</th>\n",
       "      <td>110000.000000</td>\n",
       "      <td>1.000000</td>\n",
       "    </tr>\n",
       "    <tr>\n",
       "      <th>25%</th>\n",
       "      <td>125222.000000</td>\n",
       "      <td>4.000000</td>\n",
       "    </tr>\n",
       "    <tr>\n",
       "      <th>50%</th>\n",
       "      <td>140444.000000</td>\n",
       "      <td>5.000000</td>\n",
       "    </tr>\n",
       "    <tr>\n",
       "      <th>75%</th>\n",
       "      <td>155666.000000</td>\n",
       "      <td>5.000000</td>\n",
       "    </tr>\n",
       "    <tr>\n",
       "      <th>max</th>\n",
       "      <td>170888.000000</td>\n",
       "      <td>5.000000</td>\n",
       "    </tr>\n",
       "  </tbody>\n",
       "</table>\n",
       "</div>"
      ],
      "text/plain": [
       "           Unique_ID        Rating\n",
       "count   60889.000000  60889.000000\n",
       "mean   140444.000000      4.081148\n",
       "std     17577.284607      1.342067\n",
       "min    110000.000000      1.000000\n",
       "25%    125222.000000      4.000000\n",
       "50%    140444.000000      5.000000\n",
       "75%    155666.000000      5.000000\n",
       "max    170888.000000      5.000000"
      ]
     },
     "execution_count": 22,
     "metadata": {},
     "output_type": "execute_result"
    }
   ],
   "source": [
    "df2.describe()"
   ]
  },
  {
   "cell_type": "code",
   "execution_count": 23,
   "id": "19c8f635-2f61-4801-a5ec-08d457eee59b",
   "metadata": {},
   "outputs": [
    {
     "data": {
      "text/plain": [
       "Unique_ID         0\n",
       "Category          0\n",
       "Review_Header     5\n",
       "Review_text      32\n",
       "Rating            0\n",
       "Own_Rating        0\n",
       "dtype: int64"
      ]
     },
     "execution_count": 23,
     "metadata": {},
     "output_type": "execute_result"
    }
   ],
   "source": [
    "#check for null values\n",
    "df2.isnull().sum()"
   ]
  },
  {
   "cell_type": "code",
   "execution_count": 24,
   "id": "ede3bb4d-20c4-4701-998f-43e0f5e72269",
   "metadata": {},
   "outputs": [],
   "source": [
    "#dropping rows with null\n",
    "df2.dropna(inplace=True)"
   ]
  },
  {
   "cell_type": "code",
   "execution_count": 25,
   "id": "5fd2f9a0-716a-48f7-ba81-e9b00fa86a32",
   "metadata": {},
   "outputs": [
    {
     "data": {
      "text/plain": [
       "Unique_ID        0\n",
       "Category         0\n",
       "Review_Header    0\n",
       "Review_text      0\n",
       "Rating           0\n",
       "Own_Rating       0\n",
       "dtype: int64"
      ]
     },
     "execution_count": 25,
     "metadata": {},
     "output_type": "execute_result"
    }
   ],
   "source": [
    "df2.isnull().sum()"
   ]
  },
  {
   "cell_type": "code",
   "execution_count": 26,
   "id": "09e5dcbd-4a2b-4564-bedf-7f06b6d303f0",
   "metadata": {},
   "outputs": [
    {
     "data": {
      "text/plain": [
       "np.int64(0)"
      ]
     },
     "execution_count": 26,
     "metadata": {},
     "output_type": "execute_result"
    }
   ],
   "source": [
    "#check for duplicates\n",
    "df2.duplicated().sum()"
   ]
  },
  {
   "cell_type": "code",
   "execution_count": 27,
   "id": "be735c8b-1e9a-4999-8458-28103c24df21",
   "metadata": {},
   "outputs": [
    {
     "data": {
      "text/html": [
       "<div>\n",
       "<style scoped>\n",
       "    .dataframe tbody tr th:only-of-type {\n",
       "        vertical-align: middle;\n",
       "    }\n",
       "\n",
       "    .dataframe tbody tr th {\n",
       "        vertical-align: top;\n",
       "    }\n",
       "\n",
       "    .dataframe thead th {\n",
       "        text-align: right;\n",
       "    }\n",
       "</style>\n",
       "<table border=\"1\" class=\"dataframe\">\n",
       "  <thead>\n",
       "    <tr style=\"text-align: right;\">\n",
       "      <th></th>\n",
       "      <th>Unique_ID</th>\n",
       "      <th>Category</th>\n",
       "      <th>Review_Header</th>\n",
       "      <th>Review_text</th>\n",
       "      <th>Rating</th>\n",
       "      <th>Own_Rating</th>\n",
       "    </tr>\n",
       "  </thead>\n",
       "  <tbody>\n",
       "    <tr>\n",
       "      <th>0</th>\n",
       "      <td>136040</td>\n",
       "      <td>smartTv</td>\n",
       "      <td>Nice one</td>\n",
       "      <td>I liked it</td>\n",
       "      <td>5</td>\n",
       "      <td>Positive</td>\n",
       "    </tr>\n",
       "    <tr>\n",
       "      <th>1</th>\n",
       "      <td>134236</td>\n",
       "      <td>mobile</td>\n",
       "      <td>Huge battery life with amazing display</td>\n",
       "      <td>I bought the phone on Amazon and been using my...</td>\n",
       "      <td>5</td>\n",
       "      <td>Positive</td>\n",
       "    </tr>\n",
       "    <tr>\n",
       "      <th>2</th>\n",
       "      <td>113945</td>\n",
       "      <td>books</td>\n",
       "      <td>Four Stars</td>\n",
       "      <td>Awesome book at reasonable price, must buy ......</td>\n",
       "      <td>4</td>\n",
       "      <td>Positive</td>\n",
       "    </tr>\n",
       "    <tr>\n",
       "      <th>3</th>\n",
       "      <td>168076</td>\n",
       "      <td>smartTv</td>\n",
       "      <td>Nice quality</td>\n",
       "      <td>good</td>\n",
       "      <td>5</td>\n",
       "      <td>Positive</td>\n",
       "    </tr>\n",
       "    <tr>\n",
       "      <th>4</th>\n",
       "      <td>157302</td>\n",
       "      <td>books</td>\n",
       "      <td>Nice book</td>\n",
       "      <td>The book is fine,not bad,contains nice concept...</td>\n",
       "      <td>3</td>\n",
       "      <td>Neutral</td>\n",
       "    </tr>\n",
       "  </tbody>\n",
       "</table>\n",
       "</div>"
      ],
      "text/plain": [
       "   Unique_ID Category                           Review_Header  \\\n",
       "0     136040  smartTv                                Nice one   \n",
       "1     134236   mobile  Huge battery life with amazing display   \n",
       "2     113945    books                              Four Stars   \n",
       "3     168076  smartTv                            Nice quality   \n",
       "4     157302    books                               Nice book   \n",
       "\n",
       "                                         Review_text  Rating Own_Rating  \n",
       "0                                         I liked it       5   Positive  \n",
       "1  I bought the phone on Amazon and been using my...       5   Positive  \n",
       "2  Awesome book at reasonable price, must buy ......       4   Positive  \n",
       "3                                               good       5   Positive  \n",
       "4  The book is fine,not bad,contains nice concept...       3    Neutral  "
      ]
     },
     "execution_count": 27,
     "metadata": {},
     "output_type": "execute_result"
    }
   ],
   "source": [
    "df2.head()"
   ]
  },
  {
   "cell_type": "code",
   "execution_count": 28,
   "id": "96faefad-30b8-4dfc-9953-41f97b99e949",
   "metadata": {},
   "outputs": [],
   "source": [
    "#dropping unneccesary columns\n",
    "df2.drop(['Unique_ID','Category','Review_Header','Own_Rating'],axis=1,inplace=True)"
   ]
  },
  {
   "cell_type": "code",
   "execution_count": 29,
   "id": "207ce21d-6739-4453-ae90-489ad6f40ae2",
   "metadata": {},
   "outputs": [
    {
     "data": {
      "text/html": [
       "<div>\n",
       "<style scoped>\n",
       "    .dataframe tbody tr th:only-of-type {\n",
       "        vertical-align: middle;\n",
       "    }\n",
       "\n",
       "    .dataframe tbody tr th {\n",
       "        vertical-align: top;\n",
       "    }\n",
       "\n",
       "    .dataframe thead th {\n",
       "        text-align: right;\n",
       "    }\n",
       "</style>\n",
       "<table border=\"1\" class=\"dataframe\">\n",
       "  <thead>\n",
       "    <tr style=\"text-align: right;\">\n",
       "      <th></th>\n",
       "      <th>Review_text</th>\n",
       "      <th>Rating</th>\n",
       "    </tr>\n",
       "  </thead>\n",
       "  <tbody>\n",
       "    <tr>\n",
       "      <th>0</th>\n",
       "      <td>I liked it</td>\n",
       "      <td>5</td>\n",
       "    </tr>\n",
       "    <tr>\n",
       "      <th>1</th>\n",
       "      <td>I bought the phone on Amazon and been using my...</td>\n",
       "      <td>5</td>\n",
       "    </tr>\n",
       "    <tr>\n",
       "      <th>2</th>\n",
       "      <td>Awesome book at reasonable price, must buy ......</td>\n",
       "      <td>4</td>\n",
       "    </tr>\n",
       "    <tr>\n",
       "      <th>3</th>\n",
       "      <td>good</td>\n",
       "      <td>5</td>\n",
       "    </tr>\n",
       "    <tr>\n",
       "      <th>4</th>\n",
       "      <td>The book is fine,not bad,contains nice concept...</td>\n",
       "      <td>3</td>\n",
       "    </tr>\n",
       "  </tbody>\n",
       "</table>\n",
       "</div>"
      ],
      "text/plain": [
       "                                         Review_text  Rating\n",
       "0                                         I liked it       5\n",
       "1  I bought the phone on Amazon and been using my...       5\n",
       "2  Awesome book at reasonable price, must buy ......       4\n",
       "3                                               good       5\n",
       "4  The book is fine,not bad,contains nice concept...       3"
      ]
     },
     "execution_count": 29,
     "metadata": {},
     "output_type": "execute_result"
    }
   ],
   "source": [
    "df2.head()"
   ]
  },
  {
   "cell_type": "markdown",
   "id": "80901b64-93d3-42c6-8ce7-5f352774a0dd",
   "metadata": {},
   "source": []
  },
  {
   "cell_type": "code",
   "execution_count": null,
   "id": "0d64b5c7-e0fe-4883-a0ff-db97c928c23f",
   "metadata": {},
   "outputs": [],
   "source": []
  },
  {
   "cell_type": "code",
   "execution_count": null,
   "id": "dce1b5aa-993b-4358-a337-b9372e23ab7d",
   "metadata": {},
   "outputs": [],
   "source": []
  },
  {
   "cell_type": "code",
   "execution_count": null,
   "id": "9cea8c14-c0e0-4fb3-8b25-105404703132",
   "metadata": {},
   "outputs": [],
   "source": []
  },
  {
   "cell_type": "code",
   "execution_count": null,
   "id": "3e73ac0d-b9a9-4449-9311-75af262ec3ad",
   "metadata": {},
   "outputs": [],
   "source": []
  },
  {
   "cell_type": "code",
   "execution_count": 30,
   "id": "37f0e77e-7424-445b-b240-b9ec4d719cff",
   "metadata": {},
   "outputs": [],
   "source": [
    "#loading next data\n",
    "df4=pd.read_csv('amazon_review.csv')"
   ]
  },
  {
   "cell_type": "code",
   "execution_count": 31,
   "id": "589be96e-afe9-4879-a212-1b110adb6a7a",
   "metadata": {},
   "outputs": [
    {
     "data": {
      "text/html": [
       "<div>\n",
       "<style scoped>\n",
       "    .dataframe tbody tr th:only-of-type {\n",
       "        vertical-align: middle;\n",
       "    }\n",
       "\n",
       "    .dataframe tbody tr th {\n",
       "        vertical-align: top;\n",
       "    }\n",
       "\n",
       "    .dataframe thead th {\n",
       "        text-align: right;\n",
       "    }\n",
       "</style>\n",
       "<table border=\"1\" class=\"dataframe\">\n",
       "  <thead>\n",
       "    <tr style=\"text-align: right;\">\n",
       "      <th></th>\n",
       "      <th>reviewerID</th>\n",
       "      <th>asin</th>\n",
       "      <th>reviewerName</th>\n",
       "      <th>helpful</th>\n",
       "      <th>reviewText</th>\n",
       "      <th>overall</th>\n",
       "      <th>summary</th>\n",
       "      <th>unixReviewTime</th>\n",
       "      <th>reviewTime</th>\n",
       "      <th>day_diff</th>\n",
       "      <th>helpful_yes</th>\n",
       "      <th>total_vote</th>\n",
       "    </tr>\n",
       "  </thead>\n",
       "  <tbody>\n",
       "    <tr>\n",
       "      <th>0</th>\n",
       "      <td>A3SBTW3WS4IQSN</td>\n",
       "      <td>B007WTAJTO</td>\n",
       "      <td>NaN</td>\n",
       "      <td>[0, 0]</td>\n",
       "      <td>No issues.</td>\n",
       "      <td>4.0</td>\n",
       "      <td>Four Stars</td>\n",
       "      <td>1406073600</td>\n",
       "      <td>2014-07-23</td>\n",
       "      <td>138</td>\n",
       "      <td>0</td>\n",
       "      <td>0</td>\n",
       "    </tr>\n",
       "    <tr>\n",
       "      <th>1</th>\n",
       "      <td>A18K1ODH1I2MVB</td>\n",
       "      <td>B007WTAJTO</td>\n",
       "      <td>0mie</td>\n",
       "      <td>[0, 0]</td>\n",
       "      <td>Purchased this for my device, it worked as adv...</td>\n",
       "      <td>5.0</td>\n",
       "      <td>MOAR SPACE!!!</td>\n",
       "      <td>1382659200</td>\n",
       "      <td>2013-10-25</td>\n",
       "      <td>409</td>\n",
       "      <td>0</td>\n",
       "      <td>0</td>\n",
       "    </tr>\n",
       "    <tr>\n",
       "      <th>2</th>\n",
       "      <td>A2FII3I2MBMUIA</td>\n",
       "      <td>B007WTAJTO</td>\n",
       "      <td>1K3</td>\n",
       "      <td>[0, 0]</td>\n",
       "      <td>it works as expected. I should have sprung for...</td>\n",
       "      <td>4.0</td>\n",
       "      <td>nothing to really say....</td>\n",
       "      <td>1356220800</td>\n",
       "      <td>2012-12-23</td>\n",
       "      <td>715</td>\n",
       "      <td>0</td>\n",
       "      <td>0</td>\n",
       "    </tr>\n",
       "    <tr>\n",
       "      <th>3</th>\n",
       "      <td>A3H99DFEG68SR</td>\n",
       "      <td>B007WTAJTO</td>\n",
       "      <td>1m2</td>\n",
       "      <td>[0, 0]</td>\n",
       "      <td>This think has worked out great.Had a diff. br...</td>\n",
       "      <td>5.0</td>\n",
       "      <td>Great buy at this price!!!  *** UPDATE</td>\n",
       "      <td>1384992000</td>\n",
       "      <td>2013-11-21</td>\n",
       "      <td>382</td>\n",
       "      <td>0</td>\n",
       "      <td>0</td>\n",
       "    </tr>\n",
       "    <tr>\n",
       "      <th>4</th>\n",
       "      <td>A375ZM4U047O79</td>\n",
       "      <td>B007WTAJTO</td>\n",
       "      <td>2&amp;amp;1/2Men</td>\n",
       "      <td>[0, 0]</td>\n",
       "      <td>Bought it with Retail Packaging, arrived legit...</td>\n",
       "      <td>5.0</td>\n",
       "      <td>best deal around</td>\n",
       "      <td>1373673600</td>\n",
       "      <td>2013-07-13</td>\n",
       "      <td>513</td>\n",
       "      <td>0</td>\n",
       "      <td>0</td>\n",
       "    </tr>\n",
       "  </tbody>\n",
       "</table>\n",
       "</div>"
      ],
      "text/plain": [
       "       reviewerID        asin  reviewerName helpful  \\\n",
       "0  A3SBTW3WS4IQSN  B007WTAJTO           NaN  [0, 0]   \n",
       "1  A18K1ODH1I2MVB  B007WTAJTO          0mie  [0, 0]   \n",
       "2  A2FII3I2MBMUIA  B007WTAJTO           1K3  [0, 0]   \n",
       "3   A3H99DFEG68SR  B007WTAJTO           1m2  [0, 0]   \n",
       "4  A375ZM4U047O79  B007WTAJTO  2&amp;1/2Men  [0, 0]   \n",
       "\n",
       "                                          reviewText  overall  \\\n",
       "0                                         No issues.      4.0   \n",
       "1  Purchased this for my device, it worked as adv...      5.0   \n",
       "2  it works as expected. I should have sprung for...      4.0   \n",
       "3  This think has worked out great.Had a diff. br...      5.0   \n",
       "4  Bought it with Retail Packaging, arrived legit...      5.0   \n",
       "\n",
       "                                  summary  unixReviewTime  reviewTime  \\\n",
       "0                              Four Stars      1406073600  2014-07-23   \n",
       "1                           MOAR SPACE!!!      1382659200  2013-10-25   \n",
       "2               nothing to really say....      1356220800  2012-12-23   \n",
       "3  Great buy at this price!!!  *** UPDATE      1384992000  2013-11-21   \n",
       "4                        best deal around      1373673600  2013-07-13   \n",
       "\n",
       "   day_diff  helpful_yes  total_vote  \n",
       "0       138            0           0  \n",
       "1       409            0           0  \n",
       "2       715            0           0  \n",
       "3       382            0           0  \n",
       "4       513            0           0  "
      ]
     },
     "execution_count": 31,
     "metadata": {},
     "output_type": "execute_result"
    }
   ],
   "source": [
    "#view\n",
    "df4.head()"
   ]
  },
  {
   "cell_type": "code",
   "execution_count": 32,
   "id": "99ffe4a5-9157-461f-81cc-5f0b17ce8c48",
   "metadata": {},
   "outputs": [
    {
     "data": {
      "text/html": [
       "<div>\n",
       "<style scoped>\n",
       "    .dataframe tbody tr th:only-of-type {\n",
       "        vertical-align: middle;\n",
       "    }\n",
       "\n",
       "    .dataframe tbody tr th {\n",
       "        vertical-align: top;\n",
       "    }\n",
       "\n",
       "    .dataframe thead th {\n",
       "        text-align: right;\n",
       "    }\n",
       "</style>\n",
       "<table border=\"1\" class=\"dataframe\">\n",
       "  <thead>\n",
       "    <tr style=\"text-align: right;\">\n",
       "      <th></th>\n",
       "      <th>reviewerID</th>\n",
       "      <th>asin</th>\n",
       "      <th>reviewerName</th>\n",
       "      <th>helpful</th>\n",
       "      <th>reviewText</th>\n",
       "      <th>overall</th>\n",
       "      <th>summary</th>\n",
       "      <th>unixReviewTime</th>\n",
       "      <th>reviewTime</th>\n",
       "      <th>day_diff</th>\n",
       "      <th>helpful_yes</th>\n",
       "      <th>total_vote</th>\n",
       "    </tr>\n",
       "  </thead>\n",
       "  <tbody>\n",
       "    <tr>\n",
       "      <th>4910</th>\n",
       "      <td>A2LBMKXRM5H2W9</td>\n",
       "      <td>B007WTAJTO</td>\n",
       "      <td>ZM \"J\"</td>\n",
       "      <td>[0, 0]</td>\n",
       "      <td>I bought this Sandisk 16GB Class 10 to use wit...</td>\n",
       "      <td>1.0</td>\n",
       "      <td>Do not waste your money.</td>\n",
       "      <td>1374537600</td>\n",
       "      <td>2013-07-23</td>\n",
       "      <td>503</td>\n",
       "      <td>0</td>\n",
       "      <td>0</td>\n",
       "    </tr>\n",
       "    <tr>\n",
       "      <th>4911</th>\n",
       "      <td>ALGDLRUI1ZPCS</td>\n",
       "      <td>B007WTAJTO</td>\n",
       "      <td>Zo</td>\n",
       "      <td>[0, 0]</td>\n",
       "      <td>Used this for extending the capabilities of my...</td>\n",
       "      <td>5.0</td>\n",
       "      <td>Great item!</td>\n",
       "      <td>1377129600</td>\n",
       "      <td>2013-08-22</td>\n",
       "      <td>473</td>\n",
       "      <td>0</td>\n",
       "      <td>0</td>\n",
       "    </tr>\n",
       "    <tr>\n",
       "      <th>4912</th>\n",
       "      <td>A2MR1NI0ENW2AD</td>\n",
       "      <td>B007WTAJTO</td>\n",
       "      <td>Z S Liske</td>\n",
       "      <td>[0, 0]</td>\n",
       "      <td>Great card that is very fast and reliable. It ...</td>\n",
       "      <td>5.0</td>\n",
       "      <td>Fast and reliable memory card</td>\n",
       "      <td>1396224000</td>\n",
       "      <td>2014-03-31</td>\n",
       "      <td>252</td>\n",
       "      <td>0</td>\n",
       "      <td>0</td>\n",
       "    </tr>\n",
       "    <tr>\n",
       "      <th>4913</th>\n",
       "      <td>A37E6P3DSO9QJD</td>\n",
       "      <td>B007WTAJTO</td>\n",
       "      <td>Z Taylor</td>\n",
       "      <td>[0, 0]</td>\n",
       "      <td>Good amount of space for the stuff I want to d...</td>\n",
       "      <td>5.0</td>\n",
       "      <td>Great little card</td>\n",
       "      <td>1379289600</td>\n",
       "      <td>2013-09-16</td>\n",
       "      <td>448</td>\n",
       "      <td>0</td>\n",
       "      <td>0</td>\n",
       "    </tr>\n",
       "    <tr>\n",
       "      <th>4914</th>\n",
       "      <td>A8KGFTFQ86IBR</td>\n",
       "      <td>B007WTAJTO</td>\n",
       "      <td>Zza</td>\n",
       "      <td>[0, 0]</td>\n",
       "      <td>I've heard bad things about this 64gb Micro SD...</td>\n",
       "      <td>5.0</td>\n",
       "      <td>So far so good.</td>\n",
       "      <td>1388620800</td>\n",
       "      <td>2014-02-01</td>\n",
       "      <td>310</td>\n",
       "      <td>0</td>\n",
       "      <td>0</td>\n",
       "    </tr>\n",
       "  </tbody>\n",
       "</table>\n",
       "</div>"
      ],
      "text/plain": [
       "          reviewerID        asin reviewerName helpful  \\\n",
       "4910  A2LBMKXRM5H2W9  B007WTAJTO       ZM \"J\"  [0, 0]   \n",
       "4911   ALGDLRUI1ZPCS  B007WTAJTO           Zo  [0, 0]   \n",
       "4912  A2MR1NI0ENW2AD  B007WTAJTO    Z S Liske  [0, 0]   \n",
       "4913  A37E6P3DSO9QJD  B007WTAJTO     Z Taylor  [0, 0]   \n",
       "4914   A8KGFTFQ86IBR  B007WTAJTO          Zza  [0, 0]   \n",
       "\n",
       "                                             reviewText  overall  \\\n",
       "4910  I bought this Sandisk 16GB Class 10 to use wit...      1.0   \n",
       "4911  Used this for extending the capabilities of my...      5.0   \n",
       "4912  Great card that is very fast and reliable. It ...      5.0   \n",
       "4913  Good amount of space for the stuff I want to d...      5.0   \n",
       "4914  I've heard bad things about this 64gb Micro SD...      5.0   \n",
       "\n",
       "                            summary  unixReviewTime  reviewTime  day_diff  \\\n",
       "4910       Do not waste your money.      1374537600  2013-07-23       503   \n",
       "4911                    Great item!      1377129600  2013-08-22       473   \n",
       "4912  Fast and reliable memory card      1396224000  2014-03-31       252   \n",
       "4913              Great little card      1379289600  2013-09-16       448   \n",
       "4914                So far so good.      1388620800  2014-02-01       310   \n",
       "\n",
       "      helpful_yes  total_vote  \n",
       "4910            0           0  \n",
       "4911            0           0  \n",
       "4912            0           0  \n",
       "4913            0           0  \n",
       "4914            0           0  "
      ]
     },
     "execution_count": 32,
     "metadata": {},
     "output_type": "execute_result"
    }
   ],
   "source": [
    "df4.tail()"
   ]
  },
  {
   "cell_type": "code",
   "execution_count": 33,
   "id": "4332da89-5dc0-4f87-9075-f66fafc6f57c",
   "metadata": {},
   "outputs": [
    {
     "data": {
      "text/plain": [
       "(4915, 12)"
      ]
     },
     "execution_count": 33,
     "metadata": {},
     "output_type": "execute_result"
    }
   ],
   "source": [
    "#inspect\n",
    "df4.shape"
   ]
  },
  {
   "cell_type": "code",
   "execution_count": 34,
   "id": "1268a392-0ab4-470c-a322-7db4100715f4",
   "metadata": {},
   "outputs": [
    {
     "data": {
      "text/plain": [
       "Index(['reviewerID', 'asin', 'reviewerName', 'helpful', 'reviewText',\n",
       "       'overall', 'summary', 'unixReviewTime', 'reviewTime', 'day_diff',\n",
       "       'helpful_yes', 'total_vote'],\n",
       "      dtype='object')"
      ]
     },
     "execution_count": 34,
     "metadata": {},
     "output_type": "execute_result"
    }
   ],
   "source": [
    "df4.columns"
   ]
  },
  {
   "cell_type": "code",
   "execution_count": 35,
   "id": "a7941730-dd59-4790-be5f-691b345ddd50",
   "metadata": {},
   "outputs": [
    {
     "data": {
      "text/html": [
       "<div>\n",
       "<style scoped>\n",
       "    .dataframe tbody tr th:only-of-type {\n",
       "        vertical-align: middle;\n",
       "    }\n",
       "\n",
       "    .dataframe tbody tr th {\n",
       "        vertical-align: top;\n",
       "    }\n",
       "\n",
       "    .dataframe thead th {\n",
       "        text-align: right;\n",
       "    }\n",
       "</style>\n",
       "<table border=\"1\" class=\"dataframe\">\n",
       "  <thead>\n",
       "    <tr style=\"text-align: right;\">\n",
       "      <th></th>\n",
       "      <th>overall</th>\n",
       "      <th>unixReviewTime</th>\n",
       "      <th>day_diff</th>\n",
       "      <th>helpful_yes</th>\n",
       "      <th>total_vote</th>\n",
       "    </tr>\n",
       "  </thead>\n",
       "  <tbody>\n",
       "    <tr>\n",
       "      <th>count</th>\n",
       "      <td>4915.000000</td>\n",
       "      <td>4.915000e+03</td>\n",
       "      <td>4915.000000</td>\n",
       "      <td>4915.000000</td>\n",
       "      <td>4915.000000</td>\n",
       "    </tr>\n",
       "    <tr>\n",
       "      <th>mean</th>\n",
       "      <td>4.587589</td>\n",
       "      <td>1.379465e+09</td>\n",
       "      <td>437.367040</td>\n",
       "      <td>1.311089</td>\n",
       "      <td>1.521465</td>\n",
       "    </tr>\n",
       "    <tr>\n",
       "      <th>std</th>\n",
       "      <td>0.996845</td>\n",
       "      <td>1.581857e+07</td>\n",
       "      <td>209.439871</td>\n",
       "      <td>41.619161</td>\n",
       "      <td>44.123095</td>\n",
       "    </tr>\n",
       "    <tr>\n",
       "      <th>min</th>\n",
       "      <td>1.000000</td>\n",
       "      <td>1.339200e+09</td>\n",
       "      <td>1.000000</td>\n",
       "      <td>0.000000</td>\n",
       "      <td>0.000000</td>\n",
       "    </tr>\n",
       "    <tr>\n",
       "      <th>25%</th>\n",
       "      <td>5.000000</td>\n",
       "      <td>1.365898e+09</td>\n",
       "      <td>281.000000</td>\n",
       "      <td>0.000000</td>\n",
       "      <td>0.000000</td>\n",
       "    </tr>\n",
       "    <tr>\n",
       "      <th>50%</th>\n",
       "      <td>5.000000</td>\n",
       "      <td>1.381277e+09</td>\n",
       "      <td>431.000000</td>\n",
       "      <td>0.000000</td>\n",
       "      <td>0.000000</td>\n",
       "    </tr>\n",
       "    <tr>\n",
       "      <th>75%</th>\n",
       "      <td>5.000000</td>\n",
       "      <td>1.392163e+09</td>\n",
       "      <td>601.000000</td>\n",
       "      <td>0.000000</td>\n",
       "      <td>0.000000</td>\n",
       "    </tr>\n",
       "    <tr>\n",
       "      <th>max</th>\n",
       "      <td>5.000000</td>\n",
       "      <td>1.406074e+09</td>\n",
       "      <td>1064.000000</td>\n",
       "      <td>1952.000000</td>\n",
       "      <td>2020.000000</td>\n",
       "    </tr>\n",
       "  </tbody>\n",
       "</table>\n",
       "</div>"
      ],
      "text/plain": [
       "           overall  unixReviewTime     day_diff  helpful_yes   total_vote\n",
       "count  4915.000000    4.915000e+03  4915.000000  4915.000000  4915.000000\n",
       "mean      4.587589    1.379465e+09   437.367040     1.311089     1.521465\n",
       "std       0.996845    1.581857e+07   209.439871    41.619161    44.123095\n",
       "min       1.000000    1.339200e+09     1.000000     0.000000     0.000000\n",
       "25%       5.000000    1.365898e+09   281.000000     0.000000     0.000000\n",
       "50%       5.000000    1.381277e+09   431.000000     0.000000     0.000000\n",
       "75%       5.000000    1.392163e+09   601.000000     0.000000     0.000000\n",
       "max       5.000000    1.406074e+09  1064.000000  1952.000000  2020.000000"
      ]
     },
     "execution_count": 35,
     "metadata": {},
     "output_type": "execute_result"
    }
   ],
   "source": [
    "df4.describe()"
   ]
  },
  {
   "cell_type": "code",
   "execution_count": 36,
   "id": "6047c964-c790-49c8-98c1-6f28c065a55f",
   "metadata": {},
   "outputs": [
    {
     "name": "stdout",
     "output_type": "stream",
     "text": [
      "<class 'pandas.core.frame.DataFrame'>\n",
      "RangeIndex: 4915 entries, 0 to 4914\n",
      "Data columns (total 12 columns):\n",
      " #   Column          Non-Null Count  Dtype  \n",
      "---  ------          --------------  -----  \n",
      " 0   reviewerID      4915 non-null   object \n",
      " 1   asin            4915 non-null   object \n",
      " 2   reviewerName    4914 non-null   object \n",
      " 3   helpful         4915 non-null   object \n",
      " 4   reviewText      4914 non-null   object \n",
      " 5   overall         4915 non-null   float64\n",
      " 6   summary         4915 non-null   object \n",
      " 7   unixReviewTime  4915 non-null   int64  \n",
      " 8   reviewTime      4915 non-null   object \n",
      " 9   day_diff        4915 non-null   int64  \n",
      " 10  helpful_yes     4915 non-null   int64  \n",
      " 11  total_vote      4915 non-null   int64  \n",
      "dtypes: float64(1), int64(4), object(7)\n",
      "memory usage: 460.9+ KB\n"
     ]
    }
   ],
   "source": [
    "df4.info()"
   ]
  },
  {
   "cell_type": "code",
   "execution_count": 37,
   "id": "6d15a268-c189-46bd-a5a3-6eff1c67e749",
   "metadata": {},
   "outputs": [
    {
     "data": {
      "text/plain": [
       "reviewerID        0\n",
       "asin              0\n",
       "reviewerName      1\n",
       "helpful           0\n",
       "reviewText        1\n",
       "overall           0\n",
       "summary           0\n",
       "unixReviewTime    0\n",
       "reviewTime        0\n",
       "day_diff          0\n",
       "helpful_yes       0\n",
       "total_vote        0\n",
       "dtype: int64"
      ]
     },
     "execution_count": 37,
     "metadata": {},
     "output_type": "execute_result"
    }
   ],
   "source": [
    "#check for null\n",
    "df4.isnull().sum()"
   ]
  },
  {
   "cell_type": "code",
   "execution_count": 38,
   "id": "cc52f317-8b22-4e71-92bd-464d6eacf61b",
   "metadata": {},
   "outputs": [],
   "source": [
    "#dropping row with null\n",
    "df4.dropna(inplace=True)"
   ]
  },
  {
   "cell_type": "code",
   "execution_count": 39,
   "id": "e2976578-a7dd-45fa-a273-1f1394ae970b",
   "metadata": {},
   "outputs": [
    {
     "data": {
      "text/html": [
       "<div>\n",
       "<style scoped>\n",
       "    .dataframe tbody tr th:only-of-type {\n",
       "        vertical-align: middle;\n",
       "    }\n",
       "\n",
       "    .dataframe tbody tr th {\n",
       "        vertical-align: top;\n",
       "    }\n",
       "\n",
       "    .dataframe thead th {\n",
       "        text-align: right;\n",
       "    }\n",
       "</style>\n",
       "<table border=\"1\" class=\"dataframe\">\n",
       "  <thead>\n",
       "    <tr style=\"text-align: right;\">\n",
       "      <th></th>\n",
       "      <th>reviewerID</th>\n",
       "      <th>asin</th>\n",
       "      <th>reviewerName</th>\n",
       "      <th>helpful</th>\n",
       "      <th>reviewText</th>\n",
       "      <th>overall</th>\n",
       "      <th>summary</th>\n",
       "      <th>unixReviewTime</th>\n",
       "      <th>reviewTime</th>\n",
       "      <th>day_diff</th>\n",
       "      <th>helpful_yes</th>\n",
       "      <th>total_vote</th>\n",
       "    </tr>\n",
       "  </thead>\n",
       "  <tbody>\n",
       "    <tr>\n",
       "      <th>1</th>\n",
       "      <td>A18K1ODH1I2MVB</td>\n",
       "      <td>B007WTAJTO</td>\n",
       "      <td>0mie</td>\n",
       "      <td>[0, 0]</td>\n",
       "      <td>Purchased this for my device, it worked as adv...</td>\n",
       "      <td>5.0</td>\n",
       "      <td>MOAR SPACE!!!</td>\n",
       "      <td>1382659200</td>\n",
       "      <td>2013-10-25</td>\n",
       "      <td>409</td>\n",
       "      <td>0</td>\n",
       "      <td>0</td>\n",
       "    </tr>\n",
       "    <tr>\n",
       "      <th>2</th>\n",
       "      <td>A2FII3I2MBMUIA</td>\n",
       "      <td>B007WTAJTO</td>\n",
       "      <td>1K3</td>\n",
       "      <td>[0, 0]</td>\n",
       "      <td>it works as expected. I should have sprung for...</td>\n",
       "      <td>4.0</td>\n",
       "      <td>nothing to really say....</td>\n",
       "      <td>1356220800</td>\n",
       "      <td>2012-12-23</td>\n",
       "      <td>715</td>\n",
       "      <td>0</td>\n",
       "      <td>0</td>\n",
       "    </tr>\n",
       "    <tr>\n",
       "      <th>3</th>\n",
       "      <td>A3H99DFEG68SR</td>\n",
       "      <td>B007WTAJTO</td>\n",
       "      <td>1m2</td>\n",
       "      <td>[0, 0]</td>\n",
       "      <td>This think has worked out great.Had a diff. br...</td>\n",
       "      <td>5.0</td>\n",
       "      <td>Great buy at this price!!!  *** UPDATE</td>\n",
       "      <td>1384992000</td>\n",
       "      <td>2013-11-21</td>\n",
       "      <td>382</td>\n",
       "      <td>0</td>\n",
       "      <td>0</td>\n",
       "    </tr>\n",
       "    <tr>\n",
       "      <th>4</th>\n",
       "      <td>A375ZM4U047O79</td>\n",
       "      <td>B007WTAJTO</td>\n",
       "      <td>2&amp;amp;1/2Men</td>\n",
       "      <td>[0, 0]</td>\n",
       "      <td>Bought it with Retail Packaging, arrived legit...</td>\n",
       "      <td>5.0</td>\n",
       "      <td>best deal around</td>\n",
       "      <td>1373673600</td>\n",
       "      <td>2013-07-13</td>\n",
       "      <td>513</td>\n",
       "      <td>0</td>\n",
       "      <td>0</td>\n",
       "    </tr>\n",
       "    <tr>\n",
       "      <th>5</th>\n",
       "      <td>A2IDCSC6NVONIZ</td>\n",
       "      <td>B007WTAJTO</td>\n",
       "      <td>2Cents!</td>\n",
       "      <td>[0, 0]</td>\n",
       "      <td>It's mini storage.  It doesn't do anything els...</td>\n",
       "      <td>5.0</td>\n",
       "      <td>Not a lot to really be said</td>\n",
       "      <td>1367193600</td>\n",
       "      <td>2013-04-29</td>\n",
       "      <td>588</td>\n",
       "      <td>0</td>\n",
       "      <td>0</td>\n",
       "    </tr>\n",
       "  </tbody>\n",
       "</table>\n",
       "</div>"
      ],
      "text/plain": [
       "       reviewerID        asin  reviewerName helpful  \\\n",
       "1  A18K1ODH1I2MVB  B007WTAJTO          0mie  [0, 0]   \n",
       "2  A2FII3I2MBMUIA  B007WTAJTO           1K3  [0, 0]   \n",
       "3   A3H99DFEG68SR  B007WTAJTO           1m2  [0, 0]   \n",
       "4  A375ZM4U047O79  B007WTAJTO  2&amp;1/2Men  [0, 0]   \n",
       "5  A2IDCSC6NVONIZ  B007WTAJTO       2Cents!  [0, 0]   \n",
       "\n",
       "                                          reviewText  overall  \\\n",
       "1  Purchased this for my device, it worked as adv...      5.0   \n",
       "2  it works as expected. I should have sprung for...      4.0   \n",
       "3  This think has worked out great.Had a diff. br...      5.0   \n",
       "4  Bought it with Retail Packaging, arrived legit...      5.0   \n",
       "5  It's mini storage.  It doesn't do anything els...      5.0   \n",
       "\n",
       "                                  summary  unixReviewTime  reviewTime  \\\n",
       "1                           MOAR SPACE!!!      1382659200  2013-10-25   \n",
       "2               nothing to really say....      1356220800  2012-12-23   \n",
       "3  Great buy at this price!!!  *** UPDATE      1384992000  2013-11-21   \n",
       "4                        best deal around      1373673600  2013-07-13   \n",
       "5             Not a lot to really be said      1367193600  2013-04-29   \n",
       "\n",
       "   day_diff  helpful_yes  total_vote  \n",
       "1       409            0           0  \n",
       "2       715            0           0  \n",
       "3       382            0           0  \n",
       "4       513            0           0  \n",
       "5       588            0           0  "
      ]
     },
     "execution_count": 39,
     "metadata": {},
     "output_type": "execute_result"
    }
   ],
   "source": [
    "df4.head()"
   ]
  },
  {
   "cell_type": "code",
   "execution_count": 40,
   "id": "fb5f30c9-6bc8-4ea8-82f1-41f6414f69df",
   "metadata": {},
   "outputs": [],
   "source": [
    "#dropping unneccessary columns\n",
    "df4.drop(['helpful','day_diff','helpful_yes','total_vote'],axis=1,inplace=True)"
   ]
  },
  {
   "cell_type": "code",
   "execution_count": 41,
   "id": "b47c1ba6-de92-4a26-94dd-ea5a0afef505",
   "metadata": {},
   "outputs": [
    {
     "data": {
      "text/html": [
       "<div>\n",
       "<style scoped>\n",
       "    .dataframe tbody tr th:only-of-type {\n",
       "        vertical-align: middle;\n",
       "    }\n",
       "\n",
       "    .dataframe tbody tr th {\n",
       "        vertical-align: top;\n",
       "    }\n",
       "\n",
       "    .dataframe thead th {\n",
       "        text-align: right;\n",
       "    }\n",
       "</style>\n",
       "<table border=\"1\" class=\"dataframe\">\n",
       "  <thead>\n",
       "    <tr style=\"text-align: right;\">\n",
       "      <th></th>\n",
       "      <th>reviewerID</th>\n",
       "      <th>asin</th>\n",
       "      <th>reviewerName</th>\n",
       "      <th>reviewText</th>\n",
       "      <th>overall</th>\n",
       "      <th>summary</th>\n",
       "      <th>unixReviewTime</th>\n",
       "      <th>reviewTime</th>\n",
       "    </tr>\n",
       "  </thead>\n",
       "  <tbody>\n",
       "    <tr>\n",
       "      <th>1</th>\n",
       "      <td>A18K1ODH1I2MVB</td>\n",
       "      <td>B007WTAJTO</td>\n",
       "      <td>0mie</td>\n",
       "      <td>Purchased this for my device, it worked as adv...</td>\n",
       "      <td>5.0</td>\n",
       "      <td>MOAR SPACE!!!</td>\n",
       "      <td>1382659200</td>\n",
       "      <td>2013-10-25</td>\n",
       "    </tr>\n",
       "    <tr>\n",
       "      <th>2</th>\n",
       "      <td>A2FII3I2MBMUIA</td>\n",
       "      <td>B007WTAJTO</td>\n",
       "      <td>1K3</td>\n",
       "      <td>it works as expected. I should have sprung for...</td>\n",
       "      <td>4.0</td>\n",
       "      <td>nothing to really say....</td>\n",
       "      <td>1356220800</td>\n",
       "      <td>2012-12-23</td>\n",
       "    </tr>\n",
       "    <tr>\n",
       "      <th>3</th>\n",
       "      <td>A3H99DFEG68SR</td>\n",
       "      <td>B007WTAJTO</td>\n",
       "      <td>1m2</td>\n",
       "      <td>This think has worked out great.Had a diff. br...</td>\n",
       "      <td>5.0</td>\n",
       "      <td>Great buy at this price!!!  *** UPDATE</td>\n",
       "      <td>1384992000</td>\n",
       "      <td>2013-11-21</td>\n",
       "    </tr>\n",
       "    <tr>\n",
       "      <th>4</th>\n",
       "      <td>A375ZM4U047O79</td>\n",
       "      <td>B007WTAJTO</td>\n",
       "      <td>2&amp;amp;1/2Men</td>\n",
       "      <td>Bought it with Retail Packaging, arrived legit...</td>\n",
       "      <td>5.0</td>\n",
       "      <td>best deal around</td>\n",
       "      <td>1373673600</td>\n",
       "      <td>2013-07-13</td>\n",
       "    </tr>\n",
       "    <tr>\n",
       "      <th>5</th>\n",
       "      <td>A2IDCSC6NVONIZ</td>\n",
       "      <td>B007WTAJTO</td>\n",
       "      <td>2Cents!</td>\n",
       "      <td>It's mini storage.  It doesn't do anything els...</td>\n",
       "      <td>5.0</td>\n",
       "      <td>Not a lot to really be said</td>\n",
       "      <td>1367193600</td>\n",
       "      <td>2013-04-29</td>\n",
       "    </tr>\n",
       "  </tbody>\n",
       "</table>\n",
       "</div>"
      ],
      "text/plain": [
       "       reviewerID        asin  reviewerName  \\\n",
       "1  A18K1ODH1I2MVB  B007WTAJTO          0mie   \n",
       "2  A2FII3I2MBMUIA  B007WTAJTO           1K3   \n",
       "3   A3H99DFEG68SR  B007WTAJTO           1m2   \n",
       "4  A375ZM4U047O79  B007WTAJTO  2&amp;1/2Men   \n",
       "5  A2IDCSC6NVONIZ  B007WTAJTO       2Cents!   \n",
       "\n",
       "                                          reviewText  overall  \\\n",
       "1  Purchased this for my device, it worked as adv...      5.0   \n",
       "2  it works as expected. I should have sprung for...      4.0   \n",
       "3  This think has worked out great.Had a diff. br...      5.0   \n",
       "4  Bought it with Retail Packaging, arrived legit...      5.0   \n",
       "5  It's mini storage.  It doesn't do anything els...      5.0   \n",
       "\n",
       "                                  summary  unixReviewTime  reviewTime  \n",
       "1                           MOAR SPACE!!!      1382659200  2013-10-25  \n",
       "2               nothing to really say....      1356220800  2012-12-23  \n",
       "3  Great buy at this price!!!  *** UPDATE      1384992000  2013-11-21  \n",
       "4                        best deal around      1373673600  2013-07-13  \n",
       "5             Not a lot to really be said      1367193600  2013-04-29  "
      ]
     },
     "execution_count": 41,
     "metadata": {},
     "output_type": "execute_result"
    }
   ],
   "source": [
    "df4.head()"
   ]
  },
  {
   "cell_type": "code",
   "execution_count": 42,
   "id": "e737030f-a51b-4c1c-9014-2b7f3a2eef96",
   "metadata": {},
   "outputs": [
    {
     "data": {
      "text/plain": [
       "np.int64(0)"
      ]
     },
     "execution_count": 42,
     "metadata": {},
     "output_type": "execute_result"
    }
   ],
   "source": [
    "#check for duplicates\n",
    "df4.duplicated().sum()"
   ]
  },
  {
   "cell_type": "code",
   "execution_count": 43,
   "id": "5e3a8916-04bb-48f9-8287-9c130a030f99",
   "metadata": {},
   "outputs": [],
   "source": [
    "#dropping unneccesary columns \n",
    "df4.drop(['reviewerID','asin','reviewerName','summary','unixReviewTime','reviewTime'],axis=1,inplace=True)"
   ]
  },
  {
   "cell_type": "code",
   "execution_count": 44,
   "id": "c82f59e7-79c7-4449-8f2f-71162d5eb7e9",
   "metadata": {},
   "outputs": [
    {
     "data": {
      "text/html": [
       "<div>\n",
       "<style scoped>\n",
       "    .dataframe tbody tr th:only-of-type {\n",
       "        vertical-align: middle;\n",
       "    }\n",
       "\n",
       "    .dataframe tbody tr th {\n",
       "        vertical-align: top;\n",
       "    }\n",
       "\n",
       "    .dataframe thead th {\n",
       "        text-align: right;\n",
       "    }\n",
       "</style>\n",
       "<table border=\"1\" class=\"dataframe\">\n",
       "  <thead>\n",
       "    <tr style=\"text-align: right;\">\n",
       "      <th></th>\n",
       "      <th>reviewText</th>\n",
       "      <th>overall</th>\n",
       "    </tr>\n",
       "  </thead>\n",
       "  <tbody>\n",
       "    <tr>\n",
       "      <th>1</th>\n",
       "      <td>Purchased this for my device, it worked as adv...</td>\n",
       "      <td>5.0</td>\n",
       "    </tr>\n",
       "    <tr>\n",
       "      <th>2</th>\n",
       "      <td>it works as expected. I should have sprung for...</td>\n",
       "      <td>4.0</td>\n",
       "    </tr>\n",
       "    <tr>\n",
       "      <th>3</th>\n",
       "      <td>This think has worked out great.Had a diff. br...</td>\n",
       "      <td>5.0</td>\n",
       "    </tr>\n",
       "    <tr>\n",
       "      <th>4</th>\n",
       "      <td>Bought it with Retail Packaging, arrived legit...</td>\n",
       "      <td>5.0</td>\n",
       "    </tr>\n",
       "    <tr>\n",
       "      <th>5</th>\n",
       "      <td>It's mini storage.  It doesn't do anything els...</td>\n",
       "      <td>5.0</td>\n",
       "    </tr>\n",
       "  </tbody>\n",
       "</table>\n",
       "</div>"
      ],
      "text/plain": [
       "                                          reviewText  overall\n",
       "1  Purchased this for my device, it worked as adv...      5.0\n",
       "2  it works as expected. I should have sprung for...      4.0\n",
       "3  This think has worked out great.Had a diff. br...      5.0\n",
       "4  Bought it with Retail Packaging, arrived legit...      5.0\n",
       "5  It's mini storage.  It doesn't do anything els...      5.0"
      ]
     },
     "execution_count": 44,
     "metadata": {},
     "output_type": "execute_result"
    }
   ],
   "source": [
    "df4.head()"
   ]
  },
  {
   "cell_type": "code",
   "execution_count": 45,
   "id": "7cba5f84-7152-4999-92b3-545c66818cb6",
   "metadata": {},
   "outputs": [],
   "source": [
    "#load next data\n",
    "df5=pd.read_csv('apple_iphone_11_reviews.csv')"
   ]
  },
  {
   "cell_type": "code",
   "execution_count": 46,
   "id": "4dcc4c73-8b17-4843-8f5c-83731a984e79",
   "metadata": {},
   "outputs": [
    {
     "data": {
      "text/html": [
       "<div>\n",
       "<style scoped>\n",
       "    .dataframe tbody tr th:only-of-type {\n",
       "        vertical-align: middle;\n",
       "    }\n",
       "\n",
       "    .dataframe tbody tr th {\n",
       "        vertical-align: top;\n",
       "    }\n",
       "\n",
       "    .dataframe thead th {\n",
       "        text-align: right;\n",
       "    }\n",
       "</style>\n",
       "<table border=\"1\" class=\"dataframe\">\n",
       "  <thead>\n",
       "    <tr style=\"text-align: right;\">\n",
       "      <th></th>\n",
       "      <th>index</th>\n",
       "      <th>product</th>\n",
       "      <th>helpful_count</th>\n",
       "      <th>total_comments</th>\n",
       "      <th>url</th>\n",
       "      <th>review_country</th>\n",
       "      <th>reviewed_at</th>\n",
       "      <th>review_text</th>\n",
       "      <th>review_rating</th>\n",
       "      <th>product_company</th>\n",
       "      <th>profile_name</th>\n",
       "      <th>review_title</th>\n",
       "    </tr>\n",
       "  </thead>\n",
       "  <tbody>\n",
       "    <tr>\n",
       "      <th>0</th>\n",
       "      <td>0</td>\n",
       "      <td>Apple iPhone XR (64GB) - Black</td>\n",
       "      <td>5,087 people found this helpful</td>\n",
       "      <td>24</td>\n",
       "      <td>https://www.amazon.in/Apple-iPhone-XR-64GB-Bla...</td>\n",
       "      <td>India</td>\n",
       "      <td>2018-12-12</td>\n",
       "      <td>NOTE:</td>\n",
       "      <td>3.0 out of 5 stars</td>\n",
       "      <td>Apple</td>\n",
       "      <td>Sameer Patil</td>\n",
       "      <td>Which iPhone you should Purchase ? iPhone 8, X...</td>\n",
       "    </tr>\n",
       "    <tr>\n",
       "      <th>1</th>\n",
       "      <td>1</td>\n",
       "      <td>Apple iPhone XR (64GB) - Black</td>\n",
       "      <td>2,822 people found this helpful</td>\n",
       "      <td>6</td>\n",
       "      <td>https://www.amazon.in/Apple-iPhone-XR-64GB-Bla...</td>\n",
       "      <td>India</td>\n",
       "      <td>2018-11-17</td>\n",
       "      <td>Very bad experience with this iPhone xr phone....</td>\n",
       "      <td>1.0 out of 5 stars</td>\n",
       "      <td>Apple</td>\n",
       "      <td>Amazon Customer</td>\n",
       "      <td>Don't buy iPhone xr from Amazon.</td>\n",
       "    </tr>\n",
       "    <tr>\n",
       "      <th>2</th>\n",
       "      <td>2</td>\n",
       "      <td>Apple iPhone XR (64GB) - Black</td>\n",
       "      <td>1,798 people found this helpful</td>\n",
       "      <td>0</td>\n",
       "      <td>https://www.amazon.in/Apple-iPhone-XR-64GB-Bla...</td>\n",
       "      <td>India</td>\n",
       "      <td>2019-01-27</td>\n",
       "      <td>Amazing phone with amazing camera coming from ...</td>\n",
       "      <td>5.0 out of 5 stars</td>\n",
       "      <td>Apple</td>\n",
       "      <td>A</td>\n",
       "      <td>Happy with the purchase</td>\n",
       "    </tr>\n",
       "    <tr>\n",
       "      <th>3</th>\n",
       "      <td>3</td>\n",
       "      <td>Apple iPhone XR (64GB) - Black</td>\n",
       "      <td>1,366 people found this helpful</td>\n",
       "      <td>14</td>\n",
       "      <td>https://www.amazon.in/Apple-iPhone-XR-64GB-Bla...</td>\n",
       "      <td>India</td>\n",
       "      <td>2019-05-02</td>\n",
       "      <td>So I got the iPhone XR just today. The product...</td>\n",
       "      <td>1.0 out of 5 stars</td>\n",
       "      <td>Apple</td>\n",
       "      <td>Shubham Dutta</td>\n",
       "      <td>Amazon is not an apple authorised reseller. Pl...</td>\n",
       "    </tr>\n",
       "    <tr>\n",
       "      <th>4</th>\n",
       "      <td>4</td>\n",
       "      <td>Apple iPhone XR (64GB) - Black</td>\n",
       "      <td>536 people found this helpful</td>\n",
       "      <td>5</td>\n",
       "      <td>https://www.amazon.in/Apple-iPhone-XR-64GB-Bla...</td>\n",
       "      <td>India</td>\n",
       "      <td>2019-05-24</td>\n",
       "      <td>I've been an android user all my life until I ...</td>\n",
       "      <td>5.0 out of 5 stars</td>\n",
       "      <td>Apple</td>\n",
       "      <td>Nepuni Lokho</td>\n",
       "      <td>Excellent Battery life and buttery smooth UI</td>\n",
       "    </tr>\n",
       "  </tbody>\n",
       "</table>\n",
       "</div>"
      ],
      "text/plain": [
       "   index                         product                    helpful_count  \\\n",
       "0      0  Apple iPhone XR (64GB) - Black  5,087 people found this helpful   \n",
       "1      1  Apple iPhone XR (64GB) - Black  2,822 people found this helpful   \n",
       "2      2  Apple iPhone XR (64GB) - Black  1,798 people found this helpful   \n",
       "3      3  Apple iPhone XR (64GB) - Black  1,366 people found this helpful   \n",
       "4      4  Apple iPhone XR (64GB) - Black    536 people found this helpful   \n",
       "\n",
       "   total_comments                                                url  \\\n",
       "0              24  https://www.amazon.in/Apple-iPhone-XR-64GB-Bla...   \n",
       "1               6  https://www.amazon.in/Apple-iPhone-XR-64GB-Bla...   \n",
       "2               0  https://www.amazon.in/Apple-iPhone-XR-64GB-Bla...   \n",
       "3              14  https://www.amazon.in/Apple-iPhone-XR-64GB-Bla...   \n",
       "4               5  https://www.amazon.in/Apple-iPhone-XR-64GB-Bla...   \n",
       "\n",
       "  review_country reviewed_at  \\\n",
       "0         India   2018-12-12   \n",
       "1         India   2018-11-17   \n",
       "2         India   2019-01-27   \n",
       "3         India   2019-05-02   \n",
       "4         India   2019-05-24   \n",
       "\n",
       "                                         review_text       review_rating  \\\n",
       "0                                              NOTE:  3.0 out of 5 stars   \n",
       "1  Very bad experience with this iPhone xr phone....  1.0 out of 5 stars   \n",
       "2  Amazing phone with amazing camera coming from ...  5.0 out of 5 stars   \n",
       "3  So I got the iPhone XR just today. The product...  1.0 out of 5 stars   \n",
       "4  I've been an android user all my life until I ...  5.0 out of 5 stars   \n",
       "\n",
       "  product_company     profile_name  \\\n",
       "0           Apple     Sameer Patil   \n",
       "1           Apple  Amazon Customer   \n",
       "2           Apple                A   \n",
       "3           Apple    Shubham Dutta   \n",
       "4           Apple     Nepuni Lokho   \n",
       "\n",
       "                                        review_title  \n",
       "0  Which iPhone you should Purchase ? iPhone 8, X...  \n",
       "1                   Don't buy iPhone xr from Amazon.  \n",
       "2                            Happy with the purchase  \n",
       "3  Amazon is not an apple authorised reseller. Pl...  \n",
       "4       Excellent Battery life and buttery smooth UI  "
      ]
     },
     "execution_count": 46,
     "metadata": {},
     "output_type": "execute_result"
    }
   ],
   "source": [
    "#view\n",
    "df5.head()"
   ]
  },
  {
   "cell_type": "code",
   "execution_count": 47,
   "id": "d644c82e-bb60-40f0-8b35-2601967ef2c5",
   "metadata": {},
   "outputs": [
    {
     "data": {
      "text/plain": [
       "(5010, 12)"
      ]
     },
     "execution_count": 47,
     "metadata": {},
     "output_type": "execute_result"
    }
   ],
   "source": [
    "#inspect\n",
    "df5.shape"
   ]
  },
  {
   "cell_type": "code",
   "execution_count": 48,
   "id": "0fe5ec6a-c4bb-4827-aebb-f553a9afffc7",
   "metadata": {},
   "outputs": [
    {
     "data": {
      "text/plain": [
       "Index(['index', 'product', 'helpful_count', 'total_comments', 'url',\n",
       "       'review_country', 'reviewed_at', 'review_text', 'review_rating',\n",
       "       'product_company', 'profile_name', 'review_title'],\n",
       "      dtype='object')"
      ]
     },
     "execution_count": 48,
     "metadata": {},
     "output_type": "execute_result"
    }
   ],
   "source": [
    "df5.columns"
   ]
  },
  {
   "cell_type": "code",
   "execution_count": 49,
   "id": "606d55c0-19ca-4b45-b64f-248630559afa",
   "metadata": {},
   "outputs": [
    {
     "data": {
      "text/html": [
       "<div>\n",
       "<style scoped>\n",
       "    .dataframe tbody tr th:only-of-type {\n",
       "        vertical-align: middle;\n",
       "    }\n",
       "\n",
       "    .dataframe tbody tr th {\n",
       "        vertical-align: top;\n",
       "    }\n",
       "\n",
       "    .dataframe thead th {\n",
       "        text-align: right;\n",
       "    }\n",
       "</style>\n",
       "<table border=\"1\" class=\"dataframe\">\n",
       "  <thead>\n",
       "    <tr style=\"text-align: right;\">\n",
       "      <th></th>\n",
       "      <th>index</th>\n",
       "      <th>total_comments</th>\n",
       "    </tr>\n",
       "  </thead>\n",
       "  <tbody>\n",
       "    <tr>\n",
       "      <th>count</th>\n",
       "      <td>5010.000000</td>\n",
       "      <td>5010.000000</td>\n",
       "    </tr>\n",
       "    <tr>\n",
       "      <th>mean</th>\n",
       "      <td>2504.500000</td>\n",
       "      <td>0.030938</td>\n",
       "    </tr>\n",
       "    <tr>\n",
       "      <th>std</th>\n",
       "      <td>1446.406755</td>\n",
       "      <td>0.589420</td>\n",
       "    </tr>\n",
       "    <tr>\n",
       "      <th>min</th>\n",
       "      <td>0.000000</td>\n",
       "      <td>0.000000</td>\n",
       "    </tr>\n",
       "    <tr>\n",
       "      <th>25%</th>\n",
       "      <td>1252.250000</td>\n",
       "      <td>0.000000</td>\n",
       "    </tr>\n",
       "    <tr>\n",
       "      <th>50%</th>\n",
       "      <td>2504.500000</td>\n",
       "      <td>0.000000</td>\n",
       "    </tr>\n",
       "    <tr>\n",
       "      <th>75%</th>\n",
       "      <td>3756.750000</td>\n",
       "      <td>0.000000</td>\n",
       "    </tr>\n",
       "    <tr>\n",
       "      <th>max</th>\n",
       "      <td>5009.000000</td>\n",
       "      <td>24.000000</td>\n",
       "    </tr>\n",
       "  </tbody>\n",
       "</table>\n",
       "</div>"
      ],
      "text/plain": [
       "             index  total_comments\n",
       "count  5010.000000     5010.000000\n",
       "mean   2504.500000        0.030938\n",
       "std    1446.406755        0.589420\n",
       "min       0.000000        0.000000\n",
       "25%    1252.250000        0.000000\n",
       "50%    2504.500000        0.000000\n",
       "75%    3756.750000        0.000000\n",
       "max    5009.000000       24.000000"
      ]
     },
     "execution_count": 49,
     "metadata": {},
     "output_type": "execute_result"
    }
   ],
   "source": [
    "df5.describe()"
   ]
  },
  {
   "cell_type": "code",
   "execution_count": 50,
   "id": "a38e4293-aaae-489d-8fc2-a9aef95afddd",
   "metadata": {},
   "outputs": [
    {
     "name": "stdout",
     "output_type": "stream",
     "text": [
      "<class 'pandas.core.frame.DataFrame'>\n",
      "RangeIndex: 5010 entries, 0 to 5009\n",
      "Data columns (total 12 columns):\n",
      " #   Column           Non-Null Count  Dtype \n",
      "---  ------           --------------  ----- \n",
      " 0   index            5010 non-null   int64 \n",
      " 1   product          5010 non-null   object\n",
      " 2   helpful_count    5010 non-null   object\n",
      " 3   total_comments   5010 non-null   int64 \n",
      " 4   url              5010 non-null   object\n",
      " 5   review_country   5010 non-null   object\n",
      " 6   reviewed_at      5010 non-null   object\n",
      " 7   review_text      5007 non-null   object\n",
      " 8   review_rating    5010 non-null   object\n",
      " 9   product_company  5010 non-null   object\n",
      " 10  profile_name     5010 non-null   object\n",
      " 11  review_title     5008 non-null   object\n",
      "dtypes: int64(2), object(10)\n",
      "memory usage: 469.8+ KB\n"
     ]
    }
   ],
   "source": [
    "df5.info()"
   ]
  },
  {
   "cell_type": "code",
   "execution_count": 51,
   "id": "6170b797-7263-4726-9a48-2065d5c00271",
   "metadata": {},
   "outputs": [
    {
     "data": {
      "text/plain": [
       "index              0\n",
       "product            0\n",
       "helpful_count      0\n",
       "total_comments     0\n",
       "url                0\n",
       "review_country     0\n",
       "reviewed_at        0\n",
       "review_text        3\n",
       "review_rating      0\n",
       "product_company    0\n",
       "profile_name       0\n",
       "review_title       2\n",
       "dtype: int64"
      ]
     },
     "execution_count": 51,
     "metadata": {},
     "output_type": "execute_result"
    }
   ],
   "source": [
    "#check for null\n",
    "df5.isnull().sum()"
   ]
  },
  {
   "cell_type": "code",
   "execution_count": 52,
   "id": "717878bd-91b6-42f0-8499-da1a4b60a344",
   "metadata": {},
   "outputs": [],
   "source": [
    "#dropping rows with nulls\n",
    "df5.dropna(inplace=True)"
   ]
  },
  {
   "cell_type": "code",
   "execution_count": 53,
   "id": "785adaf5-d639-4eb7-9e86-3893ee4952d2",
   "metadata": {},
   "outputs": [
    {
     "data": {
      "text/plain": [
       "index              0\n",
       "product            0\n",
       "helpful_count      0\n",
       "total_comments     0\n",
       "url                0\n",
       "review_country     0\n",
       "reviewed_at        0\n",
       "review_text        0\n",
       "review_rating      0\n",
       "product_company    0\n",
       "profile_name       0\n",
       "review_title       0\n",
       "dtype: int64"
      ]
     },
     "execution_count": 53,
     "metadata": {},
     "output_type": "execute_result"
    }
   ],
   "source": [
    "df5.isnull().sum()"
   ]
  },
  {
   "cell_type": "code",
   "execution_count": 54,
   "id": "b5baf7b7-aedb-4bb7-b3f3-043b4bafbb9e",
   "metadata": {},
   "outputs": [
    {
     "data": {
      "text/html": [
       "<div>\n",
       "<style scoped>\n",
       "    .dataframe tbody tr th:only-of-type {\n",
       "        vertical-align: middle;\n",
       "    }\n",
       "\n",
       "    .dataframe tbody tr th {\n",
       "        vertical-align: top;\n",
       "    }\n",
       "\n",
       "    .dataframe thead th {\n",
       "        text-align: right;\n",
       "    }\n",
       "</style>\n",
       "<table border=\"1\" class=\"dataframe\">\n",
       "  <thead>\n",
       "    <tr style=\"text-align: right;\">\n",
       "      <th></th>\n",
       "      <th>index</th>\n",
       "      <th>product</th>\n",
       "      <th>helpful_count</th>\n",
       "      <th>total_comments</th>\n",
       "      <th>url</th>\n",
       "      <th>review_country</th>\n",
       "      <th>reviewed_at</th>\n",
       "      <th>review_text</th>\n",
       "      <th>review_rating</th>\n",
       "      <th>product_company</th>\n",
       "      <th>profile_name</th>\n",
       "      <th>review_title</th>\n",
       "    </tr>\n",
       "  </thead>\n",
       "  <tbody>\n",
       "    <tr>\n",
       "      <th>0</th>\n",
       "      <td>0</td>\n",
       "      <td>Apple iPhone XR (64GB) - Black</td>\n",
       "      <td>5,087 people found this helpful</td>\n",
       "      <td>24</td>\n",
       "      <td>https://www.amazon.in/Apple-iPhone-XR-64GB-Bla...</td>\n",
       "      <td>India</td>\n",
       "      <td>2018-12-12</td>\n",
       "      <td>NOTE:</td>\n",
       "      <td>3.0 out of 5 stars</td>\n",
       "      <td>Apple</td>\n",
       "      <td>Sameer Patil</td>\n",
       "      <td>Which iPhone you should Purchase ? iPhone 8, X...</td>\n",
       "    </tr>\n",
       "    <tr>\n",
       "      <th>1</th>\n",
       "      <td>1</td>\n",
       "      <td>Apple iPhone XR (64GB) - Black</td>\n",
       "      <td>2,822 people found this helpful</td>\n",
       "      <td>6</td>\n",
       "      <td>https://www.amazon.in/Apple-iPhone-XR-64GB-Bla...</td>\n",
       "      <td>India</td>\n",
       "      <td>2018-11-17</td>\n",
       "      <td>Very bad experience with this iPhone xr phone....</td>\n",
       "      <td>1.0 out of 5 stars</td>\n",
       "      <td>Apple</td>\n",
       "      <td>Amazon Customer</td>\n",
       "      <td>Don't buy iPhone xr from Amazon.</td>\n",
       "    </tr>\n",
       "    <tr>\n",
       "      <th>2</th>\n",
       "      <td>2</td>\n",
       "      <td>Apple iPhone XR (64GB) - Black</td>\n",
       "      <td>1,798 people found this helpful</td>\n",
       "      <td>0</td>\n",
       "      <td>https://www.amazon.in/Apple-iPhone-XR-64GB-Bla...</td>\n",
       "      <td>India</td>\n",
       "      <td>2019-01-27</td>\n",
       "      <td>Amazing phone with amazing camera coming from ...</td>\n",
       "      <td>5.0 out of 5 stars</td>\n",
       "      <td>Apple</td>\n",
       "      <td>A</td>\n",
       "      <td>Happy with the purchase</td>\n",
       "    </tr>\n",
       "    <tr>\n",
       "      <th>3</th>\n",
       "      <td>3</td>\n",
       "      <td>Apple iPhone XR (64GB) - Black</td>\n",
       "      <td>1,366 people found this helpful</td>\n",
       "      <td>14</td>\n",
       "      <td>https://www.amazon.in/Apple-iPhone-XR-64GB-Bla...</td>\n",
       "      <td>India</td>\n",
       "      <td>2019-05-02</td>\n",
       "      <td>So I got the iPhone XR just today. The product...</td>\n",
       "      <td>1.0 out of 5 stars</td>\n",
       "      <td>Apple</td>\n",
       "      <td>Shubham Dutta</td>\n",
       "      <td>Amazon is not an apple authorised reseller. Pl...</td>\n",
       "    </tr>\n",
       "    <tr>\n",
       "      <th>4</th>\n",
       "      <td>4</td>\n",
       "      <td>Apple iPhone XR (64GB) - Black</td>\n",
       "      <td>536 people found this helpful</td>\n",
       "      <td>5</td>\n",
       "      <td>https://www.amazon.in/Apple-iPhone-XR-64GB-Bla...</td>\n",
       "      <td>India</td>\n",
       "      <td>2019-05-24</td>\n",
       "      <td>I've been an android user all my life until I ...</td>\n",
       "      <td>5.0 out of 5 stars</td>\n",
       "      <td>Apple</td>\n",
       "      <td>Nepuni Lokho</td>\n",
       "      <td>Excellent Battery life and buttery smooth UI</td>\n",
       "    </tr>\n",
       "  </tbody>\n",
       "</table>\n",
       "</div>"
      ],
      "text/plain": [
       "   index                         product                    helpful_count  \\\n",
       "0      0  Apple iPhone XR (64GB) - Black  5,087 people found this helpful   \n",
       "1      1  Apple iPhone XR (64GB) - Black  2,822 people found this helpful   \n",
       "2      2  Apple iPhone XR (64GB) - Black  1,798 people found this helpful   \n",
       "3      3  Apple iPhone XR (64GB) - Black  1,366 people found this helpful   \n",
       "4      4  Apple iPhone XR (64GB) - Black    536 people found this helpful   \n",
       "\n",
       "   total_comments                                                url  \\\n",
       "0              24  https://www.amazon.in/Apple-iPhone-XR-64GB-Bla...   \n",
       "1               6  https://www.amazon.in/Apple-iPhone-XR-64GB-Bla...   \n",
       "2               0  https://www.amazon.in/Apple-iPhone-XR-64GB-Bla...   \n",
       "3              14  https://www.amazon.in/Apple-iPhone-XR-64GB-Bla...   \n",
       "4               5  https://www.amazon.in/Apple-iPhone-XR-64GB-Bla...   \n",
       "\n",
       "  review_country reviewed_at  \\\n",
       "0         India   2018-12-12   \n",
       "1         India   2018-11-17   \n",
       "2         India   2019-01-27   \n",
       "3         India   2019-05-02   \n",
       "4         India   2019-05-24   \n",
       "\n",
       "                                         review_text       review_rating  \\\n",
       "0                                              NOTE:  3.0 out of 5 stars   \n",
       "1  Very bad experience with this iPhone xr phone....  1.0 out of 5 stars   \n",
       "2  Amazing phone with amazing camera coming from ...  5.0 out of 5 stars   \n",
       "3  So I got the iPhone XR just today. The product...  1.0 out of 5 stars   \n",
       "4  I've been an android user all my life until I ...  5.0 out of 5 stars   \n",
       "\n",
       "  product_company     profile_name  \\\n",
       "0           Apple     Sameer Patil   \n",
       "1           Apple  Amazon Customer   \n",
       "2           Apple                A   \n",
       "3           Apple    Shubham Dutta   \n",
       "4           Apple     Nepuni Lokho   \n",
       "\n",
       "                                        review_title  \n",
       "0  Which iPhone you should Purchase ? iPhone 8, X...  \n",
       "1                   Don't buy iPhone xr from Amazon.  \n",
       "2                            Happy with the purchase  \n",
       "3  Amazon is not an apple authorised reseller. Pl...  \n",
       "4       Excellent Battery life and buttery smooth UI  "
      ]
     },
     "execution_count": 54,
     "metadata": {},
     "output_type": "execute_result"
    }
   ],
   "source": [
    "df5.head()"
   ]
  },
  {
   "cell_type": "code",
   "execution_count": 55,
   "id": "f193afcb-8fd3-467a-b227-4c1d4ec92773",
   "metadata": {},
   "outputs": [
    {
     "data": {
      "text/plain": [
       "np.int64(0)"
      ]
     },
     "execution_count": 55,
     "metadata": {},
     "output_type": "execute_result"
    }
   ],
   "source": [
    "#check for duplicates\n",
    "df5.duplicated().sum()"
   ]
  },
  {
   "cell_type": "code",
   "execution_count": 56,
   "id": "8a754175-6eb7-4b0d-a10d-7f45a61ad8ca",
   "metadata": {},
   "outputs": [],
   "source": [
    "#dropping unneccesary columns \n",
    "df5.drop(['index', 'product', 'helpful_count', 'total_comments', 'url','review_country', 'reviewed_at','product_company', 'profile_name', 'review_title'],axis=1,inplace=True)"
   ]
  },
  {
   "cell_type": "code",
   "execution_count": 57,
   "id": "d4c1ae6e-84ba-4567-b772-80bea0a3e3ad",
   "metadata": {},
   "outputs": [
    {
     "data": {
      "text/html": [
       "<div>\n",
       "<style scoped>\n",
       "    .dataframe tbody tr th:only-of-type {\n",
       "        vertical-align: middle;\n",
       "    }\n",
       "\n",
       "    .dataframe tbody tr th {\n",
       "        vertical-align: top;\n",
       "    }\n",
       "\n",
       "    .dataframe thead th {\n",
       "        text-align: right;\n",
       "    }\n",
       "</style>\n",
       "<table border=\"1\" class=\"dataframe\">\n",
       "  <thead>\n",
       "    <tr style=\"text-align: right;\">\n",
       "      <th></th>\n",
       "      <th>review_text</th>\n",
       "      <th>review_rating</th>\n",
       "    </tr>\n",
       "  </thead>\n",
       "  <tbody>\n",
       "    <tr>\n",
       "      <th>0</th>\n",
       "      <td>NOTE:</td>\n",
       "      <td>3.0 out of 5 stars</td>\n",
       "    </tr>\n",
       "    <tr>\n",
       "      <th>1</th>\n",
       "      <td>Very bad experience with this iPhone xr phone....</td>\n",
       "      <td>1.0 out of 5 stars</td>\n",
       "    </tr>\n",
       "    <tr>\n",
       "      <th>2</th>\n",
       "      <td>Amazing phone with amazing camera coming from ...</td>\n",
       "      <td>5.0 out of 5 stars</td>\n",
       "    </tr>\n",
       "    <tr>\n",
       "      <th>3</th>\n",
       "      <td>So I got the iPhone XR just today. The product...</td>\n",
       "      <td>1.0 out of 5 stars</td>\n",
       "    </tr>\n",
       "    <tr>\n",
       "      <th>4</th>\n",
       "      <td>I've been an android user all my life until I ...</td>\n",
       "      <td>5.0 out of 5 stars</td>\n",
       "    </tr>\n",
       "  </tbody>\n",
       "</table>\n",
       "</div>"
      ],
      "text/plain": [
       "                                         review_text       review_rating\n",
       "0                                              NOTE:  3.0 out of 5 stars\n",
       "1  Very bad experience with this iPhone xr phone....  1.0 out of 5 stars\n",
       "2  Amazing phone with amazing camera coming from ...  5.0 out of 5 stars\n",
       "3  So I got the iPhone XR just today. The product...  1.0 out of 5 stars\n",
       "4  I've been an android user all my life until I ...  5.0 out of 5 stars"
      ]
     },
     "execution_count": 57,
     "metadata": {},
     "output_type": "execute_result"
    }
   ],
   "source": [
    "df5.head()"
   ]
  },
  {
   "cell_type": "code",
   "execution_count": 58,
   "id": "3ddf9be8-50e6-44d0-8ff0-72c1928dec16",
   "metadata": {},
   "outputs": [],
   "source": [
    "#load next data\n",
    "df6=pd.read_csv('BoatProduct.csv')"
   ]
  },
  {
   "cell_type": "code",
   "execution_count": 59,
   "id": "916431e6-3369-4d3b-b6e9-d083dfe2bfb7",
   "metadata": {},
   "outputs": [
    {
     "data": {
      "text/html": [
       "<div>\n",
       "<style scoped>\n",
       "    .dataframe tbody tr th:only-of-type {\n",
       "        vertical-align: middle;\n",
       "    }\n",
       "\n",
       "    .dataframe tbody tr th {\n",
       "        vertical-align: top;\n",
       "    }\n",
       "\n",
       "    .dataframe thead th {\n",
       "        text-align: right;\n",
       "    }\n",
       "</style>\n",
       "<table border=\"1\" class=\"dataframe\">\n",
       "  <thead>\n",
       "    <tr style=\"text-align: right;\">\n",
       "      <th></th>\n",
       "      <th>ProductName</th>\n",
       "      <th>ProductPrice</th>\n",
       "      <th>Discount</th>\n",
       "      <th>NumberofReviews</th>\n",
       "      <th>Rate</th>\n",
       "      <th>Review</th>\n",
       "      <th>Summary</th>\n",
       "    </tr>\n",
       "  </thead>\n",
       "  <tbody>\n",
       "    <tr>\n",
       "      <th>0</th>\n",
       "      <td>Stone 1000v2</td>\n",
       "      <td>\\nSale price₹ 3,999</td>\n",
       "      <td>43% off</td>\n",
       "      <td>7 reviews</td>\n",
       "      <td>★\\n  5.0\\n</td>\n",
       "      <td>Fantastic product</td>\n",
       "      <td>Very good product in this price range..</td>\n",
       "    </tr>\n",
       "    <tr>\n",
       "      <th>1</th>\n",
       "      <td>Stone 1000v2</td>\n",
       "      <td>Sale price₹ 3,999</td>\n",
       "      <td>43% off</td>\n",
       "      <td>7 reviews</td>\n",
       "      <td>★\\n  5.0\\n</td>\n",
       "      <td>Outstanding</td>\n",
       "      <td>Outstanding Product</td>\n",
       "    </tr>\n",
       "    <tr>\n",
       "      <th>2</th>\n",
       "      <td>Stone 1000v2</td>\n",
       "      <td>\\nSale price₹ 3,999</td>\n",
       "      <td>43% off</td>\n",
       "      <td>7 reviews</td>\n",
       "      <td>★\\n  5.0\\n</td>\n",
       "      <td>Awesome</td>\n",
       "      <td>Works like a charm. Good sound quality. Visual...</td>\n",
       "    </tr>\n",
       "    <tr>\n",
       "      <th>3</th>\n",
       "      <td>Stone 1000v2</td>\n",
       "      <td>\\nSale price₹ 3,999</td>\n",
       "      <td>43% off</td>\n",
       "      <td>7 reviews</td>\n",
       "      <td>★\\n  5.0\\n</td>\n",
       "      <td>Boat stone 1000 v2</td>\n",
       "      <td>Great</td>\n",
       "    </tr>\n",
       "    <tr>\n",
       "      <th>4</th>\n",
       "      <td>Stone 1000v2</td>\n",
       "      <td>\\nSale price₹ 3,999</td>\n",
       "      <td>43% off</td>\n",
       "      <td>7 reviews</td>\n",
       "      <td>★\\n  5.0\\n</td>\n",
       "      <td>Quality sound</td>\n",
       "      <td>Amazing sound quality.totally premium.&amp;.afford...</td>\n",
       "    </tr>\n",
       "  </tbody>\n",
       "</table>\n",
       "</div>"
      ],
      "text/plain": [
       "      ProductName         ProductPrice Discount NumberofReviews  \\\n",
       "0   Stone 1000v2   \\nSale price₹ 3,999  43% off       7 reviews   \n",
       "1   Stone 1000v2     Sale price₹ 3,999  43% off       7 reviews   \n",
       "2   Stone 1000v2   \\nSale price₹ 3,999  43% off       7 reviews   \n",
       "3   Stone 1000v2   \\nSale price₹ 3,999  43% off       7 reviews   \n",
       "4   Stone 1000v2   \\nSale price₹ 3,999  43% off       7 reviews   \n",
       "\n",
       "             Rate              Review  \\\n",
       "0  ★\\n  5.0\\n       Fantastic product   \n",
       "1  ★\\n  5.0\\n             Outstanding   \n",
       "2  ★\\n  5.0\\n                 Awesome   \n",
       "3  ★\\n  5.0\\n      Boat stone 1000 v2   \n",
       "4  ★\\n  5.0\\n           Quality sound   \n",
       "\n",
       "                                             Summary  \n",
       "0            Very good product in this price range..  \n",
       "1                                Outstanding Product  \n",
       "2  Works like a charm. Good sound quality. Visual...  \n",
       "3                                              Great  \n",
       "4  Amazing sound quality.totally premium.&.afford...  "
      ]
     },
     "execution_count": 59,
     "metadata": {},
     "output_type": "execute_result"
    }
   ],
   "source": [
    "#view\n",
    "df6.head()"
   ]
  },
  {
   "cell_type": "code",
   "execution_count": 60,
   "id": "84473d6e-90ca-4bc1-878c-380a6af5b7ca",
   "metadata": {},
   "outputs": [
    {
     "data": {
      "text/plain": [
       "(1449, 7)"
      ]
     },
     "execution_count": 60,
     "metadata": {},
     "output_type": "execute_result"
    }
   ],
   "source": [
    "#inspect\n",
    "df6.shape"
   ]
  },
  {
   "cell_type": "code",
   "execution_count": 61,
   "id": "02c6b89c-e03c-448c-8e45-203c5666e197",
   "metadata": {},
   "outputs": [
    {
     "name": "stdout",
     "output_type": "stream",
     "text": [
      "<class 'pandas.core.frame.DataFrame'>\n",
      "RangeIndex: 1449 entries, 0 to 1448\n",
      "Data columns (total 7 columns):\n",
      " #   Column           Non-Null Count  Dtype \n",
      "---  ------           --------------  ----- \n",
      " 0   ProductName      1449 non-null   object\n",
      " 1   ProductPrice     1448 non-null   object\n",
      " 2   Discount         1448 non-null   object\n",
      " 3   NumberofReviews  1448 non-null   object\n",
      " 4   Rate             1448 non-null   object\n",
      " 5   Review           874 non-null    object\n",
      " 6   Summary          1448 non-null   object\n",
      "dtypes: object(7)\n",
      "memory usage: 79.4+ KB\n"
     ]
    }
   ],
   "source": [
    "df6.info()"
   ]
  },
  {
   "cell_type": "code",
   "execution_count": 62,
   "id": "1ee04cd1-cdfd-437e-a8bb-151ff02b0625",
   "metadata": {},
   "outputs": [
    {
     "data": {
      "text/html": [
       "<div>\n",
       "<style scoped>\n",
       "    .dataframe tbody tr th:only-of-type {\n",
       "        vertical-align: middle;\n",
       "    }\n",
       "\n",
       "    .dataframe tbody tr th {\n",
       "        vertical-align: top;\n",
       "    }\n",
       "\n",
       "    .dataframe thead th {\n",
       "        text-align: right;\n",
       "    }\n",
       "</style>\n",
       "<table border=\"1\" class=\"dataframe\">\n",
       "  <thead>\n",
       "    <tr style=\"text-align: right;\">\n",
       "      <th></th>\n",
       "      <th>ProductName</th>\n",
       "      <th>ProductPrice</th>\n",
       "      <th>Discount</th>\n",
       "      <th>NumberofReviews</th>\n",
       "      <th>Rate</th>\n",
       "      <th>Review</th>\n",
       "      <th>Summary</th>\n",
       "    </tr>\n",
       "  </thead>\n",
       "  <tbody>\n",
       "    <tr>\n",
       "      <th>count</th>\n",
       "      <td>1449</td>\n",
       "      <td>1448</td>\n",
       "      <td>1448</td>\n",
       "      <td>1448</td>\n",
       "      <td>1448</td>\n",
       "      <td>874</td>\n",
       "      <td>1448</td>\n",
       "    </tr>\n",
       "    <tr>\n",
       "      <th>unique</th>\n",
       "      <td>184</td>\n",
       "      <td>49</td>\n",
       "      <td>44</td>\n",
       "      <td>90</td>\n",
       "      <td>8</td>\n",
       "      <td>374</td>\n",
       "      <td>734</td>\n",
       "    </tr>\n",
       "    <tr>\n",
       "      <th>top</th>\n",
       "      <td>TRebel Airdopes 141</td>\n",
       "      <td>\\nSale price₹ 1,499</td>\n",
       "      <td>60% off</td>\n",
       "      <td>7 reviews</td>\n",
       "      <td>★\\n  4.8\\n</td>\n",
       "      <td>Good</td>\n",
       "      <td>Good</td>\n",
       "    </tr>\n",
       "    <tr>\n",
       "      <th>freq</th>\n",
       "      <td>24</td>\n",
       "      <td>164</td>\n",
       "      <td>223</td>\n",
       "      <td>78</td>\n",
       "      <td>545</td>\n",
       "      <td>65</td>\n",
       "      <td>61</td>\n",
       "    </tr>\n",
       "  </tbody>\n",
       "</table>\n",
       "</div>"
      ],
      "text/plain": [
       "                 ProductName         ProductPrice Discount NumberofReviews  \\\n",
       "count                   1449                 1448     1448            1448   \n",
       "unique                   184                   49       44              90   \n",
       "top     TRebel Airdopes 141   \\nSale price₹ 1,499  60% off       7 reviews   \n",
       "freq                      24                  164      223              78   \n",
       "\n",
       "                  Rate Review Summary  \n",
       "count             1448    874    1448  \n",
       "unique               8    374     734  \n",
       "top     ★\\n  4.8\\n       Good    Good  \n",
       "freq               545     65      61  "
      ]
     },
     "execution_count": 62,
     "metadata": {},
     "output_type": "execute_result"
    }
   ],
   "source": [
    "df6.describe()"
   ]
  },
  {
   "cell_type": "code",
   "execution_count": 63,
   "id": "b3f354d0-4545-43c3-ad64-527bf07b23b5",
   "metadata": {},
   "outputs": [
    {
     "data": {
      "text/plain": [
       "ProductName          0\n",
       "ProductPrice         1\n",
       "Discount             1\n",
       "NumberofReviews      1\n",
       "Rate                 1\n",
       "Review             575\n",
       "Summary              1\n",
       "dtype: int64"
      ]
     },
     "execution_count": 63,
     "metadata": {},
     "output_type": "execute_result"
    }
   ],
   "source": [
    "#check for null\n",
    "df6.isnull().sum()"
   ]
  },
  {
   "cell_type": "code",
   "execution_count": 64,
   "id": "07bf1fc3-e894-4b31-8c23-bf4a278ed8a2",
   "metadata": {},
   "outputs": [],
   "source": [
    "#dropping nulls\n",
    "df6.dropna(inplace=True)"
   ]
  },
  {
   "cell_type": "code",
   "execution_count": 65,
   "id": "2bca486f-350f-4950-b58e-338b172df4dc",
   "metadata": {},
   "outputs": [
    {
     "data": {
      "text/plain": [
       "np.int64(309)"
      ]
     },
     "execution_count": 65,
     "metadata": {},
     "output_type": "execute_result"
    }
   ],
   "source": [
    "#check duplicates\n",
    "df6.duplicated().sum()"
   ]
  },
  {
   "cell_type": "code",
   "execution_count": 66,
   "id": "2a3f4213-4a65-4af0-875d-478bc8fceb69",
   "metadata": {},
   "outputs": [],
   "source": [
    "df6.drop_duplicates(inplace=True)"
   ]
  },
  {
   "cell_type": "code",
   "execution_count": 67,
   "id": "7f4cb97b-d920-4a9f-b6bd-d6d2f45c38ab",
   "metadata": {},
   "outputs": [
    {
     "data": {
      "text/html": [
       "<div>\n",
       "<style scoped>\n",
       "    .dataframe tbody tr th:only-of-type {\n",
       "        vertical-align: middle;\n",
       "    }\n",
       "\n",
       "    .dataframe tbody tr th {\n",
       "        vertical-align: top;\n",
       "    }\n",
       "\n",
       "    .dataframe thead th {\n",
       "        text-align: right;\n",
       "    }\n",
       "</style>\n",
       "<table border=\"1\" class=\"dataframe\">\n",
       "  <thead>\n",
       "    <tr style=\"text-align: right;\">\n",
       "      <th></th>\n",
       "      <th>ProductName</th>\n",
       "      <th>ProductPrice</th>\n",
       "      <th>Discount</th>\n",
       "      <th>NumberofReviews</th>\n",
       "      <th>Rate</th>\n",
       "      <th>Review</th>\n",
       "      <th>Summary</th>\n",
       "    </tr>\n",
       "  </thead>\n",
       "  <tbody>\n",
       "    <tr>\n",
       "      <th>0</th>\n",
       "      <td>Stone 1000v2</td>\n",
       "      <td>\\nSale price₹ 3,999</td>\n",
       "      <td>43% off</td>\n",
       "      <td>7 reviews</td>\n",
       "      <td>★\\n  5.0\\n</td>\n",
       "      <td>Fantastic product</td>\n",
       "      <td>Very good product in this price range..</td>\n",
       "    </tr>\n",
       "    <tr>\n",
       "      <th>1</th>\n",
       "      <td>Stone 1000v2</td>\n",
       "      <td>Sale price₹ 3,999</td>\n",
       "      <td>43% off</td>\n",
       "      <td>7 reviews</td>\n",
       "      <td>★\\n  5.0\\n</td>\n",
       "      <td>Outstanding</td>\n",
       "      <td>Outstanding Product</td>\n",
       "    </tr>\n",
       "    <tr>\n",
       "      <th>2</th>\n",
       "      <td>Stone 1000v2</td>\n",
       "      <td>\\nSale price₹ 3,999</td>\n",
       "      <td>43% off</td>\n",
       "      <td>7 reviews</td>\n",
       "      <td>★\\n  5.0\\n</td>\n",
       "      <td>Awesome</td>\n",
       "      <td>Works like a charm. Good sound quality. Visual...</td>\n",
       "    </tr>\n",
       "    <tr>\n",
       "      <th>3</th>\n",
       "      <td>Stone 1000v2</td>\n",
       "      <td>\\nSale price₹ 3,999</td>\n",
       "      <td>43% off</td>\n",
       "      <td>7 reviews</td>\n",
       "      <td>★\\n  5.0\\n</td>\n",
       "      <td>Boat stone 1000 v2</td>\n",
       "      <td>Great</td>\n",
       "    </tr>\n",
       "    <tr>\n",
       "      <th>4</th>\n",
       "      <td>Stone 1000v2</td>\n",
       "      <td>\\nSale price₹ 3,999</td>\n",
       "      <td>43% off</td>\n",
       "      <td>7 reviews</td>\n",
       "      <td>★\\n  5.0\\n</td>\n",
       "      <td>Quality sound</td>\n",
       "      <td>Amazing sound quality.totally premium.&amp;.afford...</td>\n",
       "    </tr>\n",
       "  </tbody>\n",
       "</table>\n",
       "</div>"
      ],
      "text/plain": [
       "      ProductName         ProductPrice Discount NumberofReviews  \\\n",
       "0   Stone 1000v2   \\nSale price₹ 3,999  43% off       7 reviews   \n",
       "1   Stone 1000v2     Sale price₹ 3,999  43% off       7 reviews   \n",
       "2   Stone 1000v2   \\nSale price₹ 3,999  43% off       7 reviews   \n",
       "3   Stone 1000v2   \\nSale price₹ 3,999  43% off       7 reviews   \n",
       "4   Stone 1000v2   \\nSale price₹ 3,999  43% off       7 reviews   \n",
       "\n",
       "             Rate              Review  \\\n",
       "0  ★\\n  5.0\\n       Fantastic product   \n",
       "1  ★\\n  5.0\\n             Outstanding   \n",
       "2  ★\\n  5.0\\n                 Awesome   \n",
       "3  ★\\n  5.0\\n      Boat stone 1000 v2   \n",
       "4  ★\\n  5.0\\n           Quality sound   \n",
       "\n",
       "                                             Summary  \n",
       "0            Very good product in this price range..  \n",
       "1                                Outstanding Product  \n",
       "2  Works like a charm. Good sound quality. Visual...  \n",
       "3                                              Great  \n",
       "4  Amazing sound quality.totally premium.&.afford...  "
      ]
     },
     "execution_count": 67,
     "metadata": {},
     "output_type": "execute_result"
    }
   ],
   "source": [
    "df6.head()"
   ]
  },
  {
   "cell_type": "code",
   "execution_count": 68,
   "id": "59f86e2a-e316-4391-b6ae-8c884ed6a7a0",
   "metadata": {},
   "outputs": [
    {
     "data": {
      "text/html": [
       "<div>\n",
       "<style scoped>\n",
       "    .dataframe tbody tr th:only-of-type {\n",
       "        vertical-align: middle;\n",
       "    }\n",
       "\n",
       "    .dataframe tbody tr th {\n",
       "        vertical-align: top;\n",
       "    }\n",
       "\n",
       "    .dataframe thead th {\n",
       "        text-align: right;\n",
       "    }\n",
       "</style>\n",
       "<table border=\"1\" class=\"dataframe\">\n",
       "  <thead>\n",
       "    <tr style=\"text-align: right;\">\n",
       "      <th></th>\n",
       "      <th>ProductName</th>\n",
       "      <th>ProductPrice</th>\n",
       "      <th>Discount</th>\n",
       "      <th>NumberofReviews</th>\n",
       "      <th>Rate</th>\n",
       "      <th>Review</th>\n",
       "      <th>Summary</th>\n",
       "    </tr>\n",
       "  </thead>\n",
       "  <tbody>\n",
       "    <tr>\n",
       "      <th>941</th>\n",
       "      <td>BassHeads 225</td>\n",
       "      <td>\\nSale price₹ 399</td>\n",
       "      <td>60% off</td>\n",
       "      <td>301 reviews</td>\n",
       "      <td>★\\n  4.8\\n</td>\n",
       "      <td>I am BoATHead</td>\n",
       "      <td>This is the most superb product I have ever pu...</td>\n",
       "    </tr>\n",
       "    <tr>\n",
       "      <th>247</th>\n",
       "      <td>Airdopes 441 - Masaba Edition</td>\n",
       "      <td>\\nSale price₹ 1,799</td>\n",
       "      <td>70% off</td>\n",
       "      <td>6 reviews</td>\n",
       "      <td>★\\n  4.7\\n</td>\n",
       "      <td>I like it</td>\n",
       "      <td>I loved the Masaba edition. In terms of Air do...</td>\n",
       "    </tr>\n",
       "    <tr>\n",
       "      <th>437</th>\n",
       "      <td>Dual Port Rapid Car Charger (Qualcomm Certified)</td>\n",
       "      <td>\\nSale price₹ 449</td>\n",
       "      <td>50% off</td>\n",
       "      <td>7 reviews</td>\n",
       "      <td>★\\n  5.0\\n</td>\n",
       "      <td>Suberb</td>\n",
       "      <td>The car charger is excellent.</td>\n",
       "    </tr>\n",
       "    <tr>\n",
       "      <th>809</th>\n",
       "      <td>TRebel BassHeads 242</td>\n",
       "      <td>\\nSale price₹ 599</td>\n",
       "      <td>60% off</td>\n",
       "      <td>371 reviews</td>\n",
       "      <td>★\\n  4.8\\n</td>\n",
       "      <td>Great</td>\n",
       "      <td>This product is very nice</td>\n",
       "    </tr>\n",
       "    <tr>\n",
       "      <th>115</th>\n",
       "      <td>Aavante Bar 550</td>\n",
       "      <td>\\nSale price₹ 1,999</td>\n",
       "      <td>50% off</td>\n",
       "      <td>6 reviews</td>\n",
       "      <td>★\\n  4.7\\n</td>\n",
       "      <td>Excellent Product</td>\n",
       "      <td>This product is very good and sound quality is...</td>\n",
       "    </tr>\n",
       "    <tr>\n",
       "      <th>782</th>\n",
       "      <td>TRebel BassHeads 152</td>\n",
       "      <td>\\nSale price₹ 499</td>\n",
       "      <td>61% off</td>\n",
       "      <td>11 reviews</td>\n",
       "      <td>★\\n  5.0\\n</td>\n",
       "      <td>Very good good</td>\n",
       "      <td>Good headset and Super clarity bassTRebel Bass...</td>\n",
       "    </tr>\n",
       "    <tr>\n",
       "      <th>216</th>\n",
       "      <td>Stone SpinX 2.0 Bira Edition</td>\n",
       "      <td>\\nSale price₹ 2,099</td>\n",
       "      <td>70% off</td>\n",
       "      <td>7 reviews</td>\n",
       "      <td>★\\n  4.9\\n</td>\n",
       "      <td>Boat is best . Bira is awesome. Spinx 2.0 is 🔥</td>\n",
       "      <td>I loved the spinx 2.0 bira edition. The graphi...</td>\n",
       "    </tr>\n",
       "    <tr>\n",
       "      <th>432</th>\n",
       "      <td>LTG 500 Indestructible Apple Certified Lightn...</td>\n",
       "      <td>\\nSale price₹ 799</td>\n",
       "      <td>47% off</td>\n",
       "      <td>48 reviews</td>\n",
       "      <td>★\\n  4.8\\n</td>\n",
       "      <td>Good quality</td>\n",
       "      <td>Best in the market.</td>\n",
       "    </tr>\n",
       "  </tbody>\n",
       "</table>\n",
       "</div>"
      ],
      "text/plain": [
       "                                           ProductName         ProductPrice  \\\n",
       "941                                     BassHeads 225     \\nSale price₹ 399   \n",
       "247                      Airdopes 441 - Masaba Edition  \\nSale price₹ 1,799   \n",
       "437   Dual Port Rapid Car Charger (Qualcomm Certified)    \\nSale price₹ 449   \n",
       "809                              TRebel BassHeads 242     \\nSale price₹ 599   \n",
       "115                                   Aavante Bar 550   \\nSale price₹ 1,999   \n",
       "782                              TRebel BassHeads 152     \\nSale price₹ 499   \n",
       "216                       Stone SpinX 2.0 Bira Edition  \\nSale price₹ 2,099   \n",
       "432   LTG 500 Indestructible Apple Certified Lightn...    \\nSale price₹ 799   \n",
       "\n",
       "    Discount NumberofReviews            Rate  \\\n",
       "941  60% off     301 reviews  ★\\n  4.8\\n       \n",
       "247  70% off       6 reviews  ★\\n  4.7\\n       \n",
       "437  50% off       7 reviews  ★\\n  5.0\\n       \n",
       "809  60% off     371 reviews  ★\\n  4.8\\n       \n",
       "115  50% off       6 reviews  ★\\n  4.7\\n       \n",
       "782  61% off      11 reviews  ★\\n  5.0\\n       \n",
       "216  70% off       7 reviews  ★\\n  4.9\\n       \n",
       "432  47% off      48 reviews  ★\\n  4.8\\n       \n",
       "\n",
       "                                             Review  \\\n",
       "941                                   I am BoATHead   \n",
       "247                                       I like it   \n",
       "437                                          Suberb   \n",
       "809                                           Great   \n",
       "115                               Excellent Product   \n",
       "782                                  Very good good   \n",
       "216  Boat is best . Bira is awesome. Spinx 2.0 is 🔥   \n",
       "432                                    Good quality   \n",
       "\n",
       "                                               Summary  \n",
       "941  This is the most superb product I have ever pu...  \n",
       "247  I loved the Masaba edition. In terms of Air do...  \n",
       "437                      The car charger is excellent.  \n",
       "809                          This product is very nice  \n",
       "115  This product is very good and sound quality is...  \n",
       "782  Good headset and Super clarity bassTRebel Bass...  \n",
       "216  I loved the spinx 2.0 bira edition. The graphi...  \n",
       "432                                Best in the market.  "
      ]
     },
     "execution_count": 68,
     "metadata": {},
     "output_type": "execute_result"
    }
   ],
   "source": [
    "df6.sample(8)"
   ]
  },
  {
   "cell_type": "code",
   "execution_count": 69,
   "id": "63a62720-1228-4660-bdb7-2d0b0d0ee0fe",
   "metadata": {},
   "outputs": [],
   "source": [
    "df6.drop(['ProductName','ProductPrice','Discount','NumberofReviews','Review'],axis=1,inplace=True)"
   ]
  },
  {
   "cell_type": "code",
   "execution_count": 70,
   "id": "bee03bbf-ef63-48b4-85b8-f6ac03faaba6",
   "metadata": {},
   "outputs": [
    {
     "data": {
      "text/html": [
       "<div>\n",
       "<style scoped>\n",
       "    .dataframe tbody tr th:only-of-type {\n",
       "        vertical-align: middle;\n",
       "    }\n",
       "\n",
       "    .dataframe tbody tr th {\n",
       "        vertical-align: top;\n",
       "    }\n",
       "\n",
       "    .dataframe thead th {\n",
       "        text-align: right;\n",
       "    }\n",
       "</style>\n",
       "<table border=\"1\" class=\"dataframe\">\n",
       "  <thead>\n",
       "    <tr style=\"text-align: right;\">\n",
       "      <th></th>\n",
       "      <th>Rate</th>\n",
       "      <th>Summary</th>\n",
       "    </tr>\n",
       "  </thead>\n",
       "  <tbody>\n",
       "    <tr>\n",
       "      <th>0</th>\n",
       "      <td>★\\n  5.0\\n</td>\n",
       "      <td>Very good product in this price range..</td>\n",
       "    </tr>\n",
       "    <tr>\n",
       "      <th>1</th>\n",
       "      <td>★\\n  5.0\\n</td>\n",
       "      <td>Outstanding Product</td>\n",
       "    </tr>\n",
       "    <tr>\n",
       "      <th>2</th>\n",
       "      <td>★\\n  5.0\\n</td>\n",
       "      <td>Works like a charm. Good sound quality. Visual...</td>\n",
       "    </tr>\n",
       "    <tr>\n",
       "      <th>3</th>\n",
       "      <td>★\\n  5.0\\n</td>\n",
       "      <td>Great</td>\n",
       "    </tr>\n",
       "    <tr>\n",
       "      <th>4</th>\n",
       "      <td>★\\n  5.0\\n</td>\n",
       "      <td>Amazing sound quality.totally premium.&amp;.afford...</td>\n",
       "    </tr>\n",
       "  </tbody>\n",
       "</table>\n",
       "</div>"
      ],
      "text/plain": [
       "             Rate                                            Summary\n",
       "0  ★\\n  5.0\\n                Very good product in this price range..\n",
       "1  ★\\n  5.0\\n                                    Outstanding Product\n",
       "2  ★\\n  5.0\\n      Works like a charm. Good sound quality. Visual...\n",
       "3  ★\\n  5.0\\n                                                  Great\n",
       "4  ★\\n  5.0\\n      Amazing sound quality.totally premium.&.afford..."
      ]
     },
     "execution_count": 70,
     "metadata": {},
     "output_type": "execute_result"
    }
   ],
   "source": [
    "df6.head()"
   ]
  },
  {
   "cell_type": "code",
   "execution_count": 71,
   "id": "766023f3-dc52-474b-aca7-8bb74262402c",
   "metadata": {},
   "outputs": [],
   "source": [
    "#load next data\n",
    "df7=pd.read_csv('ChatGPT_Reviews.csv')"
   ]
  },
  {
   "cell_type": "code",
   "execution_count": 72,
   "id": "2ae6bba6-bfd6-4edd-9258-b0f322753a85",
   "metadata": {},
   "outputs": [
    {
     "data": {
      "text/html": [
       "<div>\n",
       "<style scoped>\n",
       "    .dataframe tbody tr th:only-of-type {\n",
       "        vertical-align: middle;\n",
       "    }\n",
       "\n",
       "    .dataframe tbody tr th {\n",
       "        vertical-align: top;\n",
       "    }\n",
       "\n",
       "    .dataframe thead th {\n",
       "        text-align: right;\n",
       "    }\n",
       "</style>\n",
       "<table border=\"1\" class=\"dataframe\">\n",
       "  <thead>\n",
       "    <tr style=\"text-align: right;\">\n",
       "      <th></th>\n",
       "      <th>Review Id</th>\n",
       "      <th>Review</th>\n",
       "      <th>Ratings</th>\n",
       "      <th>Review Date</th>\n",
       "    </tr>\n",
       "  </thead>\n",
       "  <tbody>\n",
       "    <tr>\n",
       "      <th>0</th>\n",
       "      <td>6fb93778-651a-4ad1-b5ed-67dd0bd35aac</td>\n",
       "      <td>good</td>\n",
       "      <td>5</td>\n",
       "      <td>8/23/2024 19:30</td>\n",
       "    </tr>\n",
       "    <tr>\n",
       "      <th>1</th>\n",
       "      <td>81caeefd-3a28-4601-a898-72897ac906f5</td>\n",
       "      <td>good</td>\n",
       "      <td>5</td>\n",
       "      <td>8/23/2024 19:28</td>\n",
       "    </tr>\n",
       "    <tr>\n",
       "      <th>2</th>\n",
       "      <td>452af49e-1d8b-4b68-b1ac-a94c64cb1dd5</td>\n",
       "      <td>nice app</td>\n",
       "      <td>5</td>\n",
       "      <td>8/23/2024 19:22</td>\n",
       "    </tr>\n",
       "    <tr>\n",
       "      <th>3</th>\n",
       "      <td>372a4096-ee6a-4b94-b046-cef0b646c965</td>\n",
       "      <td>nice, ig</td>\n",
       "      <td>5</td>\n",
       "      <td>8/23/2024 19:20</td>\n",
       "    </tr>\n",
       "    <tr>\n",
       "      <th>4</th>\n",
       "      <td>b0d66a4b-9bde-4b7c-8b11-66ed6ccdd7da</td>\n",
       "      <td>this is a great app, the bot is so accurate to...</td>\n",
       "      <td>5</td>\n",
       "      <td>8/23/2024 19:20</td>\n",
       "    </tr>\n",
       "  </tbody>\n",
       "</table>\n",
       "</div>"
      ],
      "text/plain": [
       "                              Review Id  \\\n",
       "0  6fb93778-651a-4ad1-b5ed-67dd0bd35aac   \n",
       "1  81caeefd-3a28-4601-a898-72897ac906f5   \n",
       "2  452af49e-1d8b-4b68-b1ac-a94c64cb1dd5   \n",
       "3  372a4096-ee6a-4b94-b046-cef0b646c965   \n",
       "4  b0d66a4b-9bde-4b7c-8b11-66ed6ccdd7da   \n",
       "\n",
       "                                              Review  Ratings      Review Date  \n",
       "0                                               good        5  8/23/2024 19:30  \n",
       "1                                               good        5  8/23/2024 19:28  \n",
       "2                                           nice app        5  8/23/2024 19:22  \n",
       "3                                           nice, ig        5  8/23/2024 19:20  \n",
       "4  this is a great app, the bot is so accurate to...        5  8/23/2024 19:20  "
      ]
     },
     "execution_count": 72,
     "metadata": {},
     "output_type": "execute_result"
    }
   ],
   "source": [
    "#view\n",
    "df7.head()"
   ]
  },
  {
   "cell_type": "code",
   "execution_count": 73,
   "id": "7ca3fcb7-3aa4-409c-a3cc-41473b5c44da",
   "metadata": {},
   "outputs": [
    {
     "data": {
      "text/plain": [
       "(27, 4)"
      ]
     },
     "execution_count": 73,
     "metadata": {},
     "output_type": "execute_result"
    }
   ],
   "source": [
    "#inspect\n",
    "df7.shape"
   ]
  },
  {
   "cell_type": "code",
   "execution_count": 74,
   "id": "1b8aab3d-6d7a-48f6-bc1b-b861f7e5b9db",
   "metadata": {},
   "outputs": [
    {
     "name": "stdout",
     "output_type": "stream",
     "text": [
      "<class 'pandas.core.frame.DataFrame'>\n",
      "RangeIndex: 27 entries, 0 to 26\n",
      "Data columns (total 4 columns):\n",
      " #   Column       Non-Null Count  Dtype \n",
      "---  ------       --------------  ----- \n",
      " 0   Review Id    27 non-null     object\n",
      " 1   Review       27 non-null     object\n",
      " 2   Ratings      27 non-null     int64 \n",
      " 3   Review Date  27 non-null     object\n",
      "dtypes: int64(1), object(3)\n",
      "memory usage: 996.0+ bytes\n"
     ]
    }
   ],
   "source": [
    "df7.info()"
   ]
  },
  {
   "cell_type": "code",
   "execution_count": 75,
   "id": "0bd69e50-9585-4c94-bb92-c9e3d91e0648",
   "metadata": {},
   "outputs": [
    {
     "data": {
      "text/html": [
       "<div>\n",
       "<style scoped>\n",
       "    .dataframe tbody tr th:only-of-type {\n",
       "        vertical-align: middle;\n",
       "    }\n",
       "\n",
       "    .dataframe tbody tr th {\n",
       "        vertical-align: top;\n",
       "    }\n",
       "\n",
       "    .dataframe thead th {\n",
       "        text-align: right;\n",
       "    }\n",
       "</style>\n",
       "<table border=\"1\" class=\"dataframe\">\n",
       "  <thead>\n",
       "    <tr style=\"text-align: right;\">\n",
       "      <th></th>\n",
       "      <th>Ratings</th>\n",
       "    </tr>\n",
       "  </thead>\n",
       "  <tbody>\n",
       "    <tr>\n",
       "      <th>count</th>\n",
       "      <td>27.000000</td>\n",
       "    </tr>\n",
       "    <tr>\n",
       "      <th>mean</th>\n",
       "      <td>4.481481</td>\n",
       "    </tr>\n",
       "    <tr>\n",
       "      <th>std</th>\n",
       "      <td>1.051386</td>\n",
       "    </tr>\n",
       "    <tr>\n",
       "      <th>min</th>\n",
       "      <td>1.000000</td>\n",
       "    </tr>\n",
       "    <tr>\n",
       "      <th>25%</th>\n",
       "      <td>4.500000</td>\n",
       "    </tr>\n",
       "    <tr>\n",
       "      <th>50%</th>\n",
       "      <td>5.000000</td>\n",
       "    </tr>\n",
       "    <tr>\n",
       "      <th>75%</th>\n",
       "      <td>5.000000</td>\n",
       "    </tr>\n",
       "    <tr>\n",
       "      <th>max</th>\n",
       "      <td>5.000000</td>\n",
       "    </tr>\n",
       "  </tbody>\n",
       "</table>\n",
       "</div>"
      ],
      "text/plain": [
       "         Ratings\n",
       "count  27.000000\n",
       "mean    4.481481\n",
       "std     1.051386\n",
       "min     1.000000\n",
       "25%     4.500000\n",
       "50%     5.000000\n",
       "75%     5.000000\n",
       "max     5.000000"
      ]
     },
     "execution_count": 75,
     "metadata": {},
     "output_type": "execute_result"
    }
   ],
   "source": [
    "df7.describe()"
   ]
  },
  {
   "cell_type": "code",
   "execution_count": 76,
   "id": "fdcea0d1-52c4-40e0-9a5c-458f9d3ab01a",
   "metadata": {},
   "outputs": [
    {
     "data": {
      "text/plain": [
       "Review Id      0\n",
       "Review         0\n",
       "Ratings        0\n",
       "Review Date    0\n",
       "dtype: int64"
      ]
     },
     "execution_count": 76,
     "metadata": {},
     "output_type": "execute_result"
    }
   ],
   "source": [
    "#check for null\n",
    "df7.isnull().sum()"
   ]
  },
  {
   "cell_type": "code",
   "execution_count": 77,
   "id": "e6441897-f319-4823-ac11-e764b2a21ec1",
   "metadata": {},
   "outputs": [
    {
     "data": {
      "text/plain": [
       "np.int64(0)"
      ]
     },
     "execution_count": 77,
     "metadata": {},
     "output_type": "execute_result"
    }
   ],
   "source": [
    "#check for duplicates\n",
    "df7.duplicated().sum()"
   ]
  },
  {
   "cell_type": "code",
   "execution_count": 78,
   "id": "6a53fded-0fd4-462a-9bc5-aee5bc2f3bbb",
   "metadata": {},
   "outputs": [],
   "source": [
    "df7.drop(['Review Id','Review Date'],axis=1,inplace=True)"
   ]
  },
  {
   "cell_type": "code",
   "execution_count": 79,
   "id": "2f787043-33b0-4aa3-b5e8-f327c7274fa9",
   "metadata": {},
   "outputs": [
    {
     "data": {
      "text/html": [
       "<div>\n",
       "<style scoped>\n",
       "    .dataframe tbody tr th:only-of-type {\n",
       "        vertical-align: middle;\n",
       "    }\n",
       "\n",
       "    .dataframe tbody tr th {\n",
       "        vertical-align: top;\n",
       "    }\n",
       "\n",
       "    .dataframe thead th {\n",
       "        text-align: right;\n",
       "    }\n",
       "</style>\n",
       "<table border=\"1\" class=\"dataframe\">\n",
       "  <thead>\n",
       "    <tr style=\"text-align: right;\">\n",
       "      <th></th>\n",
       "      <th>Review</th>\n",
       "      <th>Ratings</th>\n",
       "    </tr>\n",
       "  </thead>\n",
       "  <tbody>\n",
       "    <tr>\n",
       "      <th>0</th>\n",
       "      <td>good</td>\n",
       "      <td>5</td>\n",
       "    </tr>\n",
       "    <tr>\n",
       "      <th>1</th>\n",
       "      <td>good</td>\n",
       "      <td>5</td>\n",
       "    </tr>\n",
       "    <tr>\n",
       "      <th>2</th>\n",
       "      <td>nice app</td>\n",
       "      <td>5</td>\n",
       "    </tr>\n",
       "    <tr>\n",
       "      <th>3</th>\n",
       "      <td>nice, ig</td>\n",
       "      <td>5</td>\n",
       "    </tr>\n",
       "    <tr>\n",
       "      <th>4</th>\n",
       "      <td>this is a great app, the bot is so accurate to...</td>\n",
       "      <td>5</td>\n",
       "    </tr>\n",
       "  </tbody>\n",
       "</table>\n",
       "</div>"
      ],
      "text/plain": [
       "                                              Review  Ratings\n",
       "0                                               good        5\n",
       "1                                               good        5\n",
       "2                                           nice app        5\n",
       "3                                           nice, ig        5\n",
       "4  this is a great app, the bot is so accurate to...        5"
      ]
     },
     "execution_count": 79,
     "metadata": {},
     "output_type": "execute_result"
    }
   ],
   "source": [
    "df7.head()"
   ]
  },
  {
   "cell_type": "code",
   "execution_count": 80,
   "id": "9bdad0e0-7d29-46a6-9b52-6dc9eb75997d",
   "metadata": {},
   "outputs": [],
   "source": [
    "#Renaming df2 col\n",
    "df2.rename(columns={'Review_text':'Review Text'},inplace=True)"
   ]
  },
  {
   "cell_type": "code",
   "execution_count": 81,
   "id": "c7331cdb-cdbd-4d90-a4a6-078d1872c957",
   "metadata": {},
   "outputs": [
    {
     "data": {
      "text/html": [
       "<div>\n",
       "<style scoped>\n",
       "    .dataframe tbody tr th:only-of-type {\n",
       "        vertical-align: middle;\n",
       "    }\n",
       "\n",
       "    .dataframe tbody tr th {\n",
       "        vertical-align: top;\n",
       "    }\n",
       "\n",
       "    .dataframe thead th {\n",
       "        text-align: right;\n",
       "    }\n",
       "</style>\n",
       "<table border=\"1\" class=\"dataframe\">\n",
       "  <thead>\n",
       "    <tr style=\"text-align: right;\">\n",
       "      <th></th>\n",
       "      <th>Review Text</th>\n",
       "      <th>Rating</th>\n",
       "    </tr>\n",
       "  </thead>\n",
       "  <tbody>\n",
       "    <tr>\n",
       "      <th>0</th>\n",
       "      <td>I liked it</td>\n",
       "      <td>5</td>\n",
       "    </tr>\n",
       "    <tr>\n",
       "      <th>1</th>\n",
       "      <td>I bought the phone on Amazon and been using my...</td>\n",
       "      <td>5</td>\n",
       "    </tr>\n",
       "    <tr>\n",
       "      <th>2</th>\n",
       "      <td>Awesome book at reasonable price, must buy ......</td>\n",
       "      <td>4</td>\n",
       "    </tr>\n",
       "    <tr>\n",
       "      <th>3</th>\n",
       "      <td>good</td>\n",
       "      <td>5</td>\n",
       "    </tr>\n",
       "    <tr>\n",
       "      <th>4</th>\n",
       "      <td>The book is fine,not bad,contains nice concept...</td>\n",
       "      <td>3</td>\n",
       "    </tr>\n",
       "  </tbody>\n",
       "</table>\n",
       "</div>"
      ],
      "text/plain": [
       "                                         Review Text  Rating\n",
       "0                                         I liked it       5\n",
       "1  I bought the phone on Amazon and been using my...       5\n",
       "2  Awesome book at reasonable price, must buy ......       4\n",
       "3                                               good       5\n",
       "4  The book is fine,not bad,contains nice concept...       3"
      ]
     },
     "execution_count": 81,
     "metadata": {},
     "output_type": "execute_result"
    }
   ],
   "source": [
    "df2.head()"
   ]
  },
  {
   "cell_type": "code",
   "execution_count": 82,
   "id": "e276b23b-c018-4748-b23b-479ece9c6a0c",
   "metadata": {},
   "outputs": [],
   "source": [
    "#Renaming df4 col\n",
    "df4.rename(columns={'overall':'Rating'},inplace=True)\n"
   ]
  },
  {
   "cell_type": "code",
   "execution_count": 83,
   "id": "a6adfec9-37dc-4727-9764-43d5e4f9187a",
   "metadata": {},
   "outputs": [],
   "source": [
    "df4.rename(columns={'reviewText':'Review Text'},inplace=True)"
   ]
  },
  {
   "cell_type": "code",
   "execution_count": 84,
   "id": "a2ed26d8-7be3-4ad9-8160-b66fb478eae2",
   "metadata": {},
   "outputs": [
    {
     "data": {
      "text/html": [
       "<div>\n",
       "<style scoped>\n",
       "    .dataframe tbody tr th:only-of-type {\n",
       "        vertical-align: middle;\n",
       "    }\n",
       "\n",
       "    .dataframe tbody tr th {\n",
       "        vertical-align: top;\n",
       "    }\n",
       "\n",
       "    .dataframe thead th {\n",
       "        text-align: right;\n",
       "    }\n",
       "</style>\n",
       "<table border=\"1\" class=\"dataframe\">\n",
       "  <thead>\n",
       "    <tr style=\"text-align: right;\">\n",
       "      <th></th>\n",
       "      <th>Review Text</th>\n",
       "      <th>Rating</th>\n",
       "    </tr>\n",
       "  </thead>\n",
       "  <tbody>\n",
       "    <tr>\n",
       "      <th>1</th>\n",
       "      <td>Purchased this for my device, it worked as adv...</td>\n",
       "      <td>5.0</td>\n",
       "    </tr>\n",
       "    <tr>\n",
       "      <th>2</th>\n",
       "      <td>it works as expected. I should have sprung for...</td>\n",
       "      <td>4.0</td>\n",
       "    </tr>\n",
       "    <tr>\n",
       "      <th>3</th>\n",
       "      <td>This think has worked out great.Had a diff. br...</td>\n",
       "      <td>5.0</td>\n",
       "    </tr>\n",
       "    <tr>\n",
       "      <th>4</th>\n",
       "      <td>Bought it with Retail Packaging, arrived legit...</td>\n",
       "      <td>5.0</td>\n",
       "    </tr>\n",
       "    <tr>\n",
       "      <th>5</th>\n",
       "      <td>It's mini storage.  It doesn't do anything els...</td>\n",
       "      <td>5.0</td>\n",
       "    </tr>\n",
       "  </tbody>\n",
       "</table>\n",
       "</div>"
      ],
      "text/plain": [
       "                                         Review Text  Rating\n",
       "1  Purchased this for my device, it worked as adv...     5.0\n",
       "2  it works as expected. I should have sprung for...     4.0\n",
       "3  This think has worked out great.Had a diff. br...     5.0\n",
       "4  Bought it with Retail Packaging, arrived legit...     5.0\n",
       "5  It's mini storage.  It doesn't do anything els...     5.0"
      ]
     },
     "execution_count": 84,
     "metadata": {},
     "output_type": "execute_result"
    }
   ],
   "source": [
    "df4.head()"
   ]
  },
  {
   "cell_type": "code",
   "execution_count": 85,
   "id": "25d3059a-d128-4886-8ccf-6cb6cfff7aaf",
   "metadata": {},
   "outputs": [],
   "source": [
    "#Renaming df5 col\n",
    "df5.rename(columns={'review_text':'Review Text','review_rating':'Rating'},inplace=True)\n"
   ]
  },
  {
   "cell_type": "code",
   "execution_count": 86,
   "id": "5a19d578-534e-4930-8c67-b075d0495577",
   "metadata": {},
   "outputs": [
    {
     "data": {
      "text/html": [
       "<div>\n",
       "<style scoped>\n",
       "    .dataframe tbody tr th:only-of-type {\n",
       "        vertical-align: middle;\n",
       "    }\n",
       "\n",
       "    .dataframe tbody tr th {\n",
       "        vertical-align: top;\n",
       "    }\n",
       "\n",
       "    .dataframe thead th {\n",
       "        text-align: right;\n",
       "    }\n",
       "</style>\n",
       "<table border=\"1\" class=\"dataframe\">\n",
       "  <thead>\n",
       "    <tr style=\"text-align: right;\">\n",
       "      <th></th>\n",
       "      <th>Review Text</th>\n",
       "      <th>Rating</th>\n",
       "    </tr>\n",
       "  </thead>\n",
       "  <tbody>\n",
       "    <tr>\n",
       "      <th>0</th>\n",
       "      <td>NOTE:</td>\n",
       "      <td>3.0 out of 5 stars</td>\n",
       "    </tr>\n",
       "    <tr>\n",
       "      <th>1</th>\n",
       "      <td>Very bad experience with this iPhone xr phone....</td>\n",
       "      <td>1.0 out of 5 stars</td>\n",
       "    </tr>\n",
       "    <tr>\n",
       "      <th>2</th>\n",
       "      <td>Amazing phone with amazing camera coming from ...</td>\n",
       "      <td>5.0 out of 5 stars</td>\n",
       "    </tr>\n",
       "    <tr>\n",
       "      <th>3</th>\n",
       "      <td>So I got the iPhone XR just today. The product...</td>\n",
       "      <td>1.0 out of 5 stars</td>\n",
       "    </tr>\n",
       "    <tr>\n",
       "      <th>4</th>\n",
       "      <td>I've been an android user all my life until I ...</td>\n",
       "      <td>5.0 out of 5 stars</td>\n",
       "    </tr>\n",
       "  </tbody>\n",
       "</table>\n",
       "</div>"
      ],
      "text/plain": [
       "                                         Review Text              Rating\n",
       "0                                              NOTE:  3.0 out of 5 stars\n",
       "1  Very bad experience with this iPhone xr phone....  1.0 out of 5 stars\n",
       "2  Amazing phone with amazing camera coming from ...  5.0 out of 5 stars\n",
       "3  So I got the iPhone XR just today. The product...  1.0 out of 5 stars\n",
       "4  I've been an android user all my life until I ...  5.0 out of 5 stars"
      ]
     },
     "execution_count": 86,
     "metadata": {},
     "output_type": "execute_result"
    }
   ],
   "source": [
    "df5.head()"
   ]
  },
  {
   "cell_type": "code",
   "execution_count": 87,
   "id": "aae51dcf-a053-46c7-8a08-f12f7d09b2f7",
   "metadata": {},
   "outputs": [],
   "source": [
    "#Renaming df6 col\n",
    "df6.rename(columns={'Summary':'Review Text','Rate':'Rating'},inplace=True)"
   ]
  },
  {
   "cell_type": "code",
   "execution_count": 88,
   "id": "efe31ef9-6c64-47ea-b938-83f5529554f0",
   "metadata": {},
   "outputs": [
    {
     "data": {
      "text/html": [
       "<div>\n",
       "<style scoped>\n",
       "    .dataframe tbody tr th:only-of-type {\n",
       "        vertical-align: middle;\n",
       "    }\n",
       "\n",
       "    .dataframe tbody tr th {\n",
       "        vertical-align: top;\n",
       "    }\n",
       "\n",
       "    .dataframe thead th {\n",
       "        text-align: right;\n",
       "    }\n",
       "</style>\n",
       "<table border=\"1\" class=\"dataframe\">\n",
       "  <thead>\n",
       "    <tr style=\"text-align: right;\">\n",
       "      <th></th>\n",
       "      <th>Rating</th>\n",
       "      <th>Review Text</th>\n",
       "    </tr>\n",
       "  </thead>\n",
       "  <tbody>\n",
       "    <tr>\n",
       "      <th>0</th>\n",
       "      <td>★\\n  5.0\\n</td>\n",
       "      <td>Very good product in this price range..</td>\n",
       "    </tr>\n",
       "    <tr>\n",
       "      <th>1</th>\n",
       "      <td>★\\n  5.0\\n</td>\n",
       "      <td>Outstanding Product</td>\n",
       "    </tr>\n",
       "    <tr>\n",
       "      <th>2</th>\n",
       "      <td>★\\n  5.0\\n</td>\n",
       "      <td>Works like a charm. Good sound quality. Visual...</td>\n",
       "    </tr>\n",
       "    <tr>\n",
       "      <th>3</th>\n",
       "      <td>★\\n  5.0\\n</td>\n",
       "      <td>Great</td>\n",
       "    </tr>\n",
       "    <tr>\n",
       "      <th>4</th>\n",
       "      <td>★\\n  5.0\\n</td>\n",
       "      <td>Amazing sound quality.totally premium.&amp;.afford...</td>\n",
       "    </tr>\n",
       "  </tbody>\n",
       "</table>\n",
       "</div>"
      ],
      "text/plain": [
       "           Rating                                        Review Text\n",
       "0  ★\\n  5.0\\n                Very good product in this price range..\n",
       "1  ★\\n  5.0\\n                                    Outstanding Product\n",
       "2  ★\\n  5.0\\n      Works like a charm. Good sound quality. Visual...\n",
       "3  ★\\n  5.0\\n                                                  Great\n",
       "4  ★\\n  5.0\\n      Amazing sound quality.totally premium.&.afford..."
      ]
     },
     "execution_count": 88,
     "metadata": {},
     "output_type": "execute_result"
    }
   ],
   "source": [
    "df6.head()"
   ]
  },
  {
   "cell_type": "code",
   "execution_count": 89,
   "id": "57a2b408-50c4-4ae8-b38e-468bcdfbc421",
   "metadata": {},
   "outputs": [],
   "source": [
    "#Renaming df7 col\n",
    "df7.rename(columns={'Review':'Review Text','Ratings':'Rating'},inplace=True)"
   ]
  },
  {
   "cell_type": "code",
   "execution_count": 90,
   "id": "f558c777-43bf-4044-b7f0-73ce3160a3a8",
   "metadata": {},
   "outputs": [
    {
     "data": {
      "text/html": [
       "<div>\n",
       "<style scoped>\n",
       "    .dataframe tbody tr th:only-of-type {\n",
       "        vertical-align: middle;\n",
       "    }\n",
       "\n",
       "    .dataframe tbody tr th {\n",
       "        vertical-align: top;\n",
       "    }\n",
       "\n",
       "    .dataframe thead th {\n",
       "        text-align: right;\n",
       "    }\n",
       "</style>\n",
       "<table border=\"1\" class=\"dataframe\">\n",
       "  <thead>\n",
       "    <tr style=\"text-align: right;\">\n",
       "      <th></th>\n",
       "      <th>Review Text</th>\n",
       "      <th>Rating</th>\n",
       "    </tr>\n",
       "  </thead>\n",
       "  <tbody>\n",
       "    <tr>\n",
       "      <th>0</th>\n",
       "      <td>good</td>\n",
       "      <td>5</td>\n",
       "    </tr>\n",
       "    <tr>\n",
       "      <th>1</th>\n",
       "      <td>good</td>\n",
       "      <td>5</td>\n",
       "    </tr>\n",
       "    <tr>\n",
       "      <th>2</th>\n",
       "      <td>nice app</td>\n",
       "      <td>5</td>\n",
       "    </tr>\n",
       "    <tr>\n",
       "      <th>3</th>\n",
       "      <td>nice, ig</td>\n",
       "      <td>5</td>\n",
       "    </tr>\n",
       "    <tr>\n",
       "      <th>4</th>\n",
       "      <td>this is a great app, the bot is so accurate to...</td>\n",
       "      <td>5</td>\n",
       "    </tr>\n",
       "  </tbody>\n",
       "</table>\n",
       "</div>"
      ],
      "text/plain": [
       "                                         Review Text  Rating\n",
       "0                                               good       5\n",
       "1                                               good       5\n",
       "2                                           nice app       5\n",
       "3                                           nice, ig       5\n",
       "4  this is a great app, the bot is so accurate to...       5"
      ]
     },
     "execution_count": 90,
     "metadata": {},
     "output_type": "execute_result"
    }
   ],
   "source": [
    "df7.head()"
   ]
  },
  {
   "cell_type": "code",
   "execution_count": 91,
   "id": "fecf4c51-7dc1-4b31-bcb4-f48107b92693",
   "metadata": {},
   "outputs": [],
   "source": [
    "combined_df = pd.concat([df1, df2, df4, df7], ignore_index=True)"
   ]
  },
  {
   "cell_type": "code",
   "execution_count": 92,
   "id": "b456c024-6057-44b8-b207-2d9b9815d9b1",
   "metadata": {},
   "outputs": [
    {
     "data": {
      "text/html": [
       "<div>\n",
       "<style scoped>\n",
       "    .dataframe tbody tr th:only-of-type {\n",
       "        vertical-align: middle;\n",
       "    }\n",
       "\n",
       "    .dataframe tbody tr th {\n",
       "        vertical-align: top;\n",
       "    }\n",
       "\n",
       "    .dataframe thead th {\n",
       "        text-align: right;\n",
       "    }\n",
       "</style>\n",
       "<table border=\"1\" class=\"dataframe\">\n",
       "  <thead>\n",
       "    <tr style=\"text-align: right;\">\n",
       "      <th></th>\n",
       "      <th>Review Text</th>\n",
       "      <th>Rating</th>\n",
       "    </tr>\n",
       "  </thead>\n",
       "  <tbody>\n",
       "    <tr>\n",
       "      <th>0</th>\n",
       "      <td>Not great speakers</td>\n",
       "      <td>3.0</td>\n",
       "    </tr>\n",
       "    <tr>\n",
       "      <th>1</th>\n",
       "      <td>Great little gagit</td>\n",
       "      <td>4.0</td>\n",
       "    </tr>\n",
       "    <tr>\n",
       "      <th>2</th>\n",
       "      <td>Awesome 👏🏽</td>\n",
       "      <td>5.0</td>\n",
       "    </tr>\n",
       "    <tr>\n",
       "      <th>3</th>\n",
       "      <td>Love my Echo</td>\n",
       "      <td>5.0</td>\n",
       "    </tr>\n",
       "    <tr>\n",
       "      <th>4</th>\n",
       "      <td>Great device</td>\n",
       "      <td>5.0</td>\n",
       "    </tr>\n",
       "  </tbody>\n",
       "</table>\n",
       "</div>"
      ],
      "text/plain": [
       "          Review Text  Rating\n",
       "0  Not great speakers     3.0\n",
       "1  Great little gagit     4.0\n",
       "2          Awesome 👏🏽     5.0\n",
       "3        Love my Echo     5.0\n",
       "4        Great device     5.0"
      ]
     },
     "execution_count": 92,
     "metadata": {},
     "output_type": "execute_result"
    }
   ],
   "source": [
    "combined_df.head()"
   ]
  },
  {
   "cell_type": "code",
   "execution_count": 93,
   "id": "f8c92a9e-1025-4551-a2e9-db251a275015",
   "metadata": {},
   "outputs": [
    {
     "data": {
      "text/plain": [
       "(72645, 2)"
      ]
     },
     "execution_count": 93,
     "metadata": {},
     "output_type": "execute_result"
    }
   ],
   "source": [
    "combined_df.shape"
   ]
  },
  {
   "cell_type": "code",
   "execution_count": 96,
   "id": "d89a6d83-3e34-4470-a4d2-0db33cfa1464",
   "metadata": {},
   "outputs": [],
   "source": [
    "combined_df.to_csv('cleaned_data1.0.csv',index=False)"
   ]
  },
  {
   "cell_type": "code",
   "execution_count": 97,
   "id": "f0345de6-9e17-4135-9f72-eaf3281a5c28",
   "metadata": {},
   "outputs": [
    {
     "data": {
      "text/html": [
       "<div>\n",
       "<style scoped>\n",
       "    .dataframe tbody tr th:only-of-type {\n",
       "        vertical-align: middle;\n",
       "    }\n",
       "\n",
       "    .dataframe tbody tr th {\n",
       "        vertical-align: top;\n",
       "    }\n",
       "\n",
       "    .dataframe thead th {\n",
       "        text-align: right;\n",
       "    }\n",
       "</style>\n",
       "<table border=\"1\" class=\"dataframe\">\n",
       "  <thead>\n",
       "    <tr style=\"text-align: right;\">\n",
       "      <th></th>\n",
       "      <th>Review Text</th>\n",
       "      <th>Rating</th>\n",
       "    </tr>\n",
       "  </thead>\n",
       "  <tbody>\n",
       "    <tr>\n",
       "      <th>69071</th>\n",
       "      <td>Only had it a few days, but so far it seems to...</td>\n",
       "      <td>5.0</td>\n",
       "    </tr>\n",
       "    <tr>\n",
       "      <th>15942</th>\n",
       "      <td>Watch faces are unlimited, the look overall is...</td>\n",
       "      <td>4.0</td>\n",
       "    </tr>\n",
       "    <tr>\n",
       "      <th>15471</th>\n",
       "      <td>Never imagined about the usefulness of product...</td>\n",
       "      <td>5.0</td>\n",
       "    </tr>\n",
       "    <tr>\n",
       "      <th>20953</th>\n",
       "      <td>It was one of the nice quality with good appea...</td>\n",
       "      <td>5.0</td>\n",
       "    </tr>\n",
       "    <tr>\n",
       "      <th>70239</th>\n",
       "      <td>I got this so I made sure my new smart phone h...</td>\n",
       "      <td>5.0</td>\n",
       "    </tr>\n",
       "    <tr>\n",
       "      <th>21421</th>\n",
       "      <td>For this price mobile is worth</td>\n",
       "      <td>5.0</td>\n",
       "    </tr>\n",
       "    <tr>\n",
       "      <th>8595</th>\n",
       "      <td>Must buy</td>\n",
       "      <td>5.0</td>\n",
       "    </tr>\n",
       "    <tr>\n",
       "      <th>19370</th>\n",
       "      <td>Excellent in each angle of knowledge and pract...</td>\n",
       "      <td>5.0</td>\n",
       "    </tr>\n",
       "  </tbody>\n",
       "</table>\n",
       "</div>"
      ],
      "text/plain": [
       "                                             Review Text  Rating\n",
       "69071  Only had it a few days, but so far it seems to...     5.0\n",
       "15942  Watch faces are unlimited, the look overall is...     4.0\n",
       "15471  Never imagined about the usefulness of product...     5.0\n",
       "20953  It was one of the nice quality with good appea...     5.0\n",
       "70239  I got this so I made sure my new smart phone h...     5.0\n",
       "21421                     For this price mobile is worth     5.0\n",
       "8595                                            Must buy     5.0\n",
       "19370  Excellent in each angle of knowledge and pract...     5.0"
      ]
     },
     "execution_count": 97,
     "metadata": {},
     "output_type": "execute_result"
    }
   ],
   "source": [
    "combined_df.sample(8)"
   ]
  },
  {
   "cell_type": "code",
   "execution_count": 98,
   "id": "b1b5219e-af6d-4fa0-8d47-67a32c7aa949",
   "metadata": {},
   "outputs": [
    {
     "data": {
      "text/plain": [
       "Review Text    0\n",
       "Rating         0\n",
       "dtype: int64"
      ]
     },
     "execution_count": 98,
     "metadata": {},
     "output_type": "execute_result"
    }
   ],
   "source": [
    "combined_df.isnull().sum()"
   ]
  },
  {
   "cell_type": "code",
   "execution_count": 99,
   "id": "8fa57505-1051-4509-9aaf-ddc88f171991",
   "metadata": {},
   "outputs": [
    {
     "data": {
      "text/plain": [
       "np.int64(11314)"
      ]
     },
     "execution_count": 99,
     "metadata": {},
     "output_type": "execute_result"
    }
   ],
   "source": [
    "combined_df.duplicated().sum()"
   ]
  },
  {
   "cell_type": "code",
   "execution_count": 100,
   "id": "a4b4f3d3-e6b8-45b8-ab0b-e9369e4da5b3",
   "metadata": {},
   "outputs": [],
   "source": [
    "combined_df.drop_duplicates(inplace=True)"
   ]
  },
  {
   "cell_type": "code",
   "execution_count": 101,
   "id": "cc14b63c-3eb0-4915-86cd-aadcb7ad8fc3",
   "metadata": {},
   "outputs": [
    {
     "data": {
      "text/plain": [
       "np.int64(0)"
      ]
     },
     "execution_count": 101,
     "metadata": {},
     "output_type": "execute_result"
    }
   ],
   "source": [
    "combined_df.duplicated().sum()"
   ]
  },
  {
   "cell_type": "code",
   "execution_count": 119,
   "id": "404ba80b-2569-4fac-bd87-31ccddef4435",
   "metadata": {},
   "outputs": [
    {
     "data": {
      "text/plain": [
       "(65500, 2)"
      ]
     },
     "execution_count": 119,
     "metadata": {},
     "output_type": "execute_result"
    }
   ],
   "source": [
    "combined_df.shape"
   ]
  },
  {
   "cell_type": "code",
   "execution_count": 102,
   "id": "ee38831a-0990-4e10-ad51-a7401625e866",
   "metadata": {},
   "outputs": [],
   "source": [
    "combined_df.to_csv('cleaned_data_1.0.csv',index=False)"
   ]
  },
  {
   "cell_type": "code",
   "execution_count": null,
   "id": "84cd691d-c737-4a0c-9b54-479f7e6bf754",
   "metadata": {},
   "outputs": [],
   "source": []
  }
 ],
 "metadata": {
  "kernelspec": {
   "display_name": "Python 3 (ipykernel)",
   "language": "python",
   "name": "python3"
  },
  "language_info": {
   "codemirror_mode": {
    "name": "ipython",
    "version": 3
   },
   "file_extension": ".py",
   "mimetype": "text/x-python",
   "name": "python",
   "nbconvert_exporter": "python",
   "pygments_lexer": "ipython3",
   "version": "3.13.2"
  }
 },
 "nbformat": 4,
 "nbformat_minor": 5
}
